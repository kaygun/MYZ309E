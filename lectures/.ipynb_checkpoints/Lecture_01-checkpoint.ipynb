{
 "cells": [
  {
   "cell_type": "markdown",
   "id": "0271b6cc-c4a5-438d-bdf2-a37a8942fc09",
   "metadata": {},
   "source": [
    "# Lecture 1\n",
    "\n",
    "## Crash Course in Python and Its Library Ecosystem\n",
    "\n",
    "### With some SQL thrown in"
   ]
  },
  {
   "cell_type": "code",
   "execution_count": 14,
   "id": "3a34fcb7-5d48-4cbd-970e-3ebe8cd67636",
   "metadata": {},
   "outputs": [],
   "source": [
    "import numpy as np\n",
    "import pandas as pd\n",
    "import polars as pl\n",
    "import duckdb as db\n",
    "\n",
    "import gravis as gv\n",
    "import networkx as nx\n",
    "\n",
    "import matplotlib.pyplot as plt\n",
    "import seaborn as sb"
   ]
  },
  {
   "cell_type": "code",
   "execution_count": null,
   "id": "a17e1023-a3cf-4cf5-9bf4-06603e420d07",
   "metadata": {},
   "outputs": [],
   "source": []
  }
 ],
 "metadata": {
  "kernelspec": {
   "display_name": "Python 3 (ipykernel)",
   "language": "python",
   "name": "python3"
  },
  "language_info": {
   "codemirror_mode": {
    "name": "ipython",
    "version": 3
   },
   "file_extension": ".py",
   "mimetype": "text/x-python",
   "name": "python",
   "nbconvert_exporter": "python",
   "pygments_lexer": "ipython3",
   "version": "3.13.1"
  }
 },
 "nbformat": 4,
 "nbformat_minor": 5
}
