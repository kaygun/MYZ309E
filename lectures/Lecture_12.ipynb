{
 "cells": [
  {
   "cell_type": "markdown",
   "id": "6107038a-1ca3-4112-81c9-5938373fc6cd",
   "metadata": {},
   "source": [
    "# Lecture 12 (Neural Networks Continued)\n",
    "\n",
    "## Convolutional Networks\n",
    "\n",
    "Having covered the theory of classical fully connected feedforward networks — where the fundamental building block is a composition of affine maps and nonlinear activation functions — it is now natural to seek architectures that can exploit additional **geometric structure** present in certain classes of data, particularly images, spatial data, or any modality exhibiting **locality** and **translation invariance**.\n",
    "\n",
    "Convolutional Neural Networks, or CNNs, arise precisely as a mathematically principled response to this need. Formally, in a standard fully connected layer, each neuron computes a transformation of the form\n",
    "$$\n",
    "x \\mapsto \\sigma(Wx + b),\n",
    "$$\n",
    "where $W \\in \\mathbb{R}^{m \\times d}$ is a dense weight matrix, $b \\in \\mathbb{R}^m$ is a bias vector, $\\sigma$ is an activation function, and $x \\in \\mathbb{R}^d$ is the input.\n",
    "\n",
    "In contrast, in a convolutional layer, rather than allowing arbitrary dense interactions between all input and output units, one restricts the transformation to be **local** and **shared** across different spatial regions. Let us model the input as a function\n",
    "$$\n",
    "x : \\Omega \\subset \\mathbb{Z}^2 \\to \\mathbb{R},\n",
    "$$\n",
    "where $\\Omega$ is a discrete rectangular domain, typically corresponding to pixel locations of a grayscale image. For color images, $x$ would map into $\\mathbb{R}^3$, corresponding to RGB channels. Given a small filter, or **kernel**, represented as a function\n",
    "$$\n",
    "k : \\Delta \\subset \\mathbb{Z}^2 \\to \\mathbb{R},\n",
    "$$\n",
    "where $\\Delta$ is typically a small region such as $\\{0,1,2\\} \\times \\{0,1,2\\}$ (corresponding to a $3 \\times 3$ filter), the **convolution** of $k$ with $x$ at position $(u,v)$ is defined by\n",
    "$$\n",
    "(k * x)(u,v) = \\sum_{(s,t) \\in \\Delta} k(s,t) \\, x(u-s, v-t).\n",
    "$$\n",
    "Thus, the output at each spatial location $(u,v)$ depends only on a small neighborhood of the input centered at $(u,v)$, determined by the size of the kernel $\\Delta$. A convolutional layer consists of multiple such kernels $\\{k_i\\}_{i=1}^n$, each producing its own feature map\n",
    "$$\n",
    "y_i(u,v) = \\sigma\\left( (k_i * x)(u,v) + b_i \\right),\n",
    "$$\n",
    "where $\\sigma$ is a nonlinear activation function such as ReLU, and $b_i \\in \\mathbb{R}$ is a bias term. The key mathematical principles embodied in CNNs are thus:\n",
    "\n",
    "1. **local connectivity**: neurons are connected only to small spatial regions of the input.\n",
    "\n",
    "2. **parameter sharing**: the same kernel $k_i$ is applied across all spatial locations, greatly reducing the number of parameters and introducing a strong inductive bias toward translation invariance.\n",
    "\n",
    "3. **equivariance to translation**: if the input is shifted, the output feature maps shift correspondingly, preserving spatial structure.\n",
    "\n",
    "These properties make CNNs particularly well-suited for tasks where the relevant features are local and their precise spatial location is less critical than their relative arrangement.\n",
    "\n",
    "\n",
    "The construction of a CNN proceeds hierarchically. At the first layer, low-level features such as edges, corners, and simple textures are detected. At deeper layers, the network composes these simple features into progressively more abstract and global representations: motifs, parts, objects. Formally, given an input $x^{(0)} = x$, each layer $l$ computes\n",
    "$$\n",
    "x^{(l)} = \\sigma\\left( k^{(l)} * x^{(l-1)} + b^{(l)} \\right),\n",
    "$$\n",
    "where $k^{(l)}$ and $b^{(l)}$ are the learnable parameters of layer $l$. Typically, convolutional layers are interleaved with **pooling layers**, which downsample the spatial dimensions to introduce further invariance to small translations or distortions. A common form of pooling is **max pooling**, defined for a small region $R \\subset \\Omega$ as\n",
    "$$\n",
    "\\text{MaxPool}(x)(u,v) = \\max_{(s,t) \\in R} x(u+s,v+t),\n",
    "$$\n",
    "which retains only the maximum activation within each local neighborhood.  Thus, a typical CNN architecture consists of alternating convolutional layers, nonlinearities, and pooling layers, culminating in fully connected layers for the final classification or regression tasks.\n",
    "\n",
    "---\n",
    "\n",
    "From the perspective of backpropagation, the critical difference with fully connected networks lies in the structure of the Jacobian matrices involved. Whereas in fully connected layers the Jacobians are dense, in convolutional layers they exhibit a **highly sparse, structured pattern** reflecting local connections and weight sharing. However, backpropagation through convolutional layers is entirely analogous in principle: one applies the chain rule, computes local gradients with respect to the weights, inputs, and outputs, and updates parameters accordingly. It is worth noting that the convolution operation is linear, hence differentiable, and the pooling operations are piecewise differentiable, so standard gradient-based optimization techniques such as stochastic gradient descent (SGD) or Adam are applicable without difficulty.\n",
    "\n"
   ]
  },
  {
   "cell_type": "markdown",
   "id": "87e23ace-c720-4a46-9086-e691f8b3c854",
   "metadata": {},
   "source": [
    "## An example in PyTorch\n",
    "\n",
    "Let us now proceed formally to construct a **worked example** of a **Convolutional Neural Network (CNN)** implemented in **PyTorch**, trained on the classical **digits dataset**. For mathematical clarity, we shall work with the **scikit-learn digits dataset**, consisting of $8 \\times 8$ grayscale images of handwritten digits $\\{0,1,\\dots,9\\}$.  Each image $x$ can be modeled as a function\n",
    "$$\n",
    "x: \\{0,1,\\dots,7\\}^2 \\to \\mathbb{R},\n",
    "$$\n",
    "with pixel intensities normalized to $[0,1]$. The classification task consists of learning a function\n",
    "$$\n",
    "f_\\theta : \\mathbb{R}^{8 \\times 8} \\to \\{0,1,\\dots,9\\},\n",
    "$$\n",
    "mapping each input image to its corresponding digit class.  The CNN will be trained to minimize the empirical risk associated to the cross-entropy loss between predicted and true labels. Let us now proceed systematically through the complete PyTorch implementation.\n"
   ]
  },
  {
   "cell_type": "code",
   "execution_count": 2,
   "id": "8c295ab0-affe-41b1-ad3b-88274dc432ca",
   "metadata": {},
   "outputs": [],
   "source": [
    "import torch\n",
    "import torch.nn as nn\n",
    "import torch.optim as optim\n",
    "\n",
    "from sklearn.datasets import load_digits\n",
    "from sklearn.model_selection import train_test_split\n",
    "from sklearn.preprocessing import StandardScaler\n",
    "\n",
    "import matplotlib.pyplot as plt"
   ]
  },
  {
   "cell_type": "code",
   "execution_count": 24,
   "id": "da1e2dd4-ec74-4385-9bd0-21f607b647e3",
   "metadata": {},
   "outputs": [],
   "source": [
    "digits = load_digits()\n",
    "X = digits.images  # Shape (1797, 8, 8)\n",
    "y = digits.target  # Shape (1797,)\n",
    "\n",
    "X = X / 16.0\n",
    "X = X[:, None, :, :]  # Add channel dimension: (1797, 1, 8, 8)\n",
    "\n",
    "X_train, X_test, y_train, y_test = train_test_split(X, y, test_size=0.2)\n",
    "\n",
    "X_train = torch.tensor(X_train, dtype=torch.float32)\n",
    "X_test = torch.tensor(X_test, dtype=torch.float32)\n",
    "y_train = torch.tensor(y_train, dtype=torch.long)\n",
    "y_test = torch.tensor(y_test, dtype=torch.long)"
   ]
  },
  {
   "cell_type": "code",
   "execution_count": 11,
   "id": "c1f266ff-3f63-4cda-a0df-2eabe652b396",
   "metadata": {},
   "outputs": [],
   "source": [
    "class SimpleCNN(nn.Module):\n",
    "    def __init__(self):\n",
    "        super(SimpleCNN, self).__init__()\n",
    "        \n",
    "        self.conv_layers = nn.Sequential(\n",
    "            nn.Conv2d(in_channels=1, out_channels=16, kernel_size=3, padding=1),\n",
    "            nn.ReLU(),\n",
    "            nn.MaxPool2d(kernel_size=2),         \n",
    "            nn.Conv2d(in_channels=16, out_channels=32, kernel_size=3, padding=1),\n",
    "            nn.ReLU(),\n",
    "            nn.MaxPool2d(kernel_size=2)\n",
    "        )\n",
    "        \n",
    "        self.fc_layers = nn.Sequential(\n",
    "            nn.Linear(32 * 2 * 2, 64),\n",
    "            nn.ReLU(),\n",
    "            nn.Linear(64, 10)\n",
    "        )\n",
    "        \n",
    "    def forward(self, x):\n",
    "        x = self.conv_layers(x)\n",
    "        x = x.reshape(x.size(0), -1)  # Flatten\n",
    "        x = self.fc_layers(x)\n",
    "        return x"
   ]
  },
  {
   "cell_type": "code",
   "execution_count": 12,
   "id": "a123677d-0700-4493-9952-bb3d761e05a9",
   "metadata": {},
   "outputs": [],
   "source": [
    "model = SimpleCNN()\n",
    "criterion = nn.CrossEntropyLoss()\n",
    "optimizer = optim.Adam(model.parameters(), lr=1e-3)"
   ]
  },
  {
   "cell_type": "code",
   "execution_count": 13,
   "id": "6e79c0e5-943c-4c75-b6a2-e11c588acdc3",
   "metadata": {},
   "outputs": [
    {
     "name": "stdout",
     "output_type": "stream",
     "text": [
      "Epoch 10/50, Loss: 0.1401, Accuracy: 0.9645\n",
      "Epoch 20/50, Loss: 0.0486, Accuracy: 0.9868\n",
      "Epoch 30/50, Loss: 0.0139, Accuracy: 0.9993\n",
      "Epoch 40/50, Loss: 0.0076, Accuracy: 0.9993\n",
      "Epoch 50/50, Loss: 0.0032, Accuracy: 1.0000\n"
     ]
    }
   ],
   "source": [
    "num_epochs = 50\n",
    "batch_size = 32\n",
    "\n",
    "train_dataset = torch.utils.data.TensorDataset(X_train, y_train)\n",
    "train_loader = torch.utils.data.DataLoader(train_dataset, batch_size=batch_size, shuffle=True)\n",
    "\n",
    "for epoch in range(num_epochs):\n",
    "    model.train()\n",
    "    epoch_loss = 0\n",
    "    correct = 0\n",
    "    total = 0\n",
    "    for inputs, targets in train_loader:\n",
    "        optimizer.zero_grad()\n",
    "        outputs = model(inputs)\n",
    "        loss = criterion(outputs, targets)\n",
    "        loss.backward()\n",
    "        optimizer.step()\n",
    "        \n",
    "        epoch_loss += loss.item()\n",
    "        _, predicted = outputs.max(1)\n",
    "        total += targets.size(0)\n",
    "        correct += predicted.eq(targets).sum().item()\n",
    "    \n",
    "    if (epoch+1) % 10 == 0:\n",
    "        print(f\"Epoch {epoch+1}/{num_epochs}, Loss: {epoch_loss / len(train_loader):.4f}, Accuracy: {correct/total:.4f}\")"
   ]
  },
  {
   "cell_type": "code",
   "execution_count": 25,
   "id": "5770aa1c-5005-4c1c-8627-1d1714ed2b5e",
   "metadata": {},
   "outputs": [
    {
     "name": "stdout",
     "output_type": "stream",
     "text": [
      "Test Accuracy: 0.9972\n"
     ]
    },
    {
     "data": {
      "image/png": "[encoded data removed]",
      "text/plain": [
       "<Figure size 1500x300 with 10 Axes>"
      ]
     },
     "metadata": {},
     "output_type": "display_data"
    }
   ],
   "source": [
    "model.eval()\n",
    "with torch.no_grad():\n",
    "    outputs = model(X_test)\n",
    "    _, predicted = outputs.max(1)\n",
    "    accuracy = (predicted == y_test).float().mean().item()\n",
    "    print(f\"Test Accuracy: {accuracy:.4f}\")\n",
    "\n",
    "def plot_predictions(images, true_labels, pred_labels, num_images=10):\n",
    "    fig, axes = plt.subplots(1, num_images, figsize=(15, 3))\n",
    "    for i in range(num_images):\n",
    "        axes[i].imshow(images[i,0], cmap='gray')\n",
    "        axes[i].set_title(f\"True: {true_labels[i]}\\nPred: {pred_labels[i]}\")\n",
    "        axes[i].axis('off')\n",
    "    plt.show()\n",
    "\n",
    "plot_predictions(X_test.numpy(), y_test.numpy(), predicted.numpy(), num_images=10)"
   ]
  },
  {
   "cell_type": "code",
   "execution_count": null,
   "id": "e7b898b7-4142-4b07-becc-9e5bdb9c9499",
   "metadata": {},
   "outputs": [],
   "source": []
  }
 ],
 "metadata": {
  "kernelspec": {
   "display_name": "Python 3 (ipykernel)",
   "language": "python",
   "name": "python3"
  },
  "language_info": {
   "codemirror_mode": {
    "name": "ipython",
    "version": 3
   },
   "file_extension": ".py",
   "mimetype": "text/x-python",
   "name": "python",
   "nbconvert_exporter": "python",
   "pygments_lexer": "ipython3",
   "version": "3.13.2"
  }
 },
 "nbformat": 4,
 "nbformat_minor": 5
}
