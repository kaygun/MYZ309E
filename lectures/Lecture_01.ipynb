{
 "cells": [
  {
   "cell_type": "markdown",
   "id": "0271b6cc-c4a5-438d-bdf2-a37a8942fc09",
   "metadata": {},
   "source": [
    "# Lecture 1\n",
    "\n",
    "## Crash Course in Python\n"
   ]
  },
  {
   "cell_type": "markdown",
   "id": "c007c8fa-f112-4b98-99d6-1a03e059a274",
   "metadata": {},
   "source": [
    "### What is python?\n",
    "\n",
    "Python is a programming language. According to [TIOBE index](https://www.tiobe.com/tiobe-index/) it is the most popular programming language among developers. If you are used to languages like [java](https://www.java.com/en/download/help/whatis_java.html), [C](https://en.wikipedia.org/wiki/C_(programming_language)) or [C++](https://en.wikipedia.org/wiki/C%2B%2B), the language has a totally different feel to it.\n",
    "\n",
    "Python is a dynamically typed object-oriented interpreted language, as opposed to java which is a statically typed object-oriented compiled language. "
   ]
  },
  {
   "cell_type": "code",
   "execution_count": 1,
   "id": "84a94034-791b-4d69-9f56-485a637143c5",
   "metadata": {},
   "outputs": [
    {
     "data": {
      "text/plain": [
       "[1, 4, 9, 16, 25]"
      ]
     },
     "execution_count": 1,
     "metadata": {},
     "output_type": "execute_result"
    }
   ],
   "source": [
    "xs = range(1,6)\n",
    "ys = [ i*i for i in xs ]\n",
    "ys"
   ]
  },
  {
   "cell_type": "markdown",
   "id": "2f9d5bb2-f3de-4667-87e2-bcd1d7a93f75",
   "metadata": {},
   "source": [
    "The piece of code above would look like as follows in java\n",
    "\n",
    "    import java.util.ArrayList;\n",
    "    import java.util.Collections;\n",
    "    import java.util.List;\n",
    "\n",
    "    public class SquareNumbers {\n",
    "        public static void main(String[] args) {\n",
    "            int[] myArray = {1, 2, 3, 4, 5};\n",
    "\n",
    "            Collections.sort(xs);\n",
    "\n",
    "            List<Integer> ys = new ArrayList<>();\n",
    "            for (int i : xs) {\n",
    "                ys.add(i * i);\n",
    "            }\n",
    "\n",
    "            System.out.println(ys);\n",
    "        }\n",
    "    }\n",
    "\n",
    "Python relies on a [Read/Evaluate/Print-Loop (REPL)](https://en.wikipedia.org/wiki/Read%E2%80%93eval%E2%80%93print_loop)."
   ]
  },
  {
   "cell_type": "markdown",
   "id": "b2cc7f7c-cafb-4fbb-80d1-275231317d8f",
   "metadata": {},
   "source": [
    "### Basic Data Types\n",
    "\n",
    "Python has the basic data types that every language has like integers, floating points numbers, characters, and strings."
   ]
  },
  {
   "cell_type": "code",
   "execution_count": 20,
   "id": "3c72ee6f-312e-40b7-855e-7d67d02ce5b3",
   "metadata": {},
   "outputs": [
    {
     "data": {
      "text/plain": [
       "'This is a string.'"
      ]
     },
     "execution_count": 20,
     "metadata": {},
     "output_type": "execute_result"
    }
   ],
   "source": [
    "s = 'This is a string.'\n",
    "s"
   ]
  },
  {
   "cell_type": "code",
   "execution_count": 22,
   "id": "54e4d9a8-3ad9-4995-a8e2-cd219ba3ae40",
   "metadata": {},
   "outputs": [
    {
     "data": {
      "text/plain": [
       "3628800"
      ]
     },
     "execution_count": 22,
     "metadata": {},
     "output_type": "execute_result"
    }
   ],
   "source": [
    "# This is an integer\n",
    "i = 10*9*8*7*6*5*4*3*2*1\n",
    "i"
   ]
  },
  {
   "cell_type": "code",
   "execution_count": 25,
   "id": "27911447-5eab-4e83-8223-28c1ebc4f243",
   "metadata": {},
   "outputs": [
    {
     "data": {
      "text/plain": [
       "1e-09"
      ]
     },
     "execution_count": 25,
     "metadata": {},
     "output_type": "execute_result"
    }
   ],
   "source": [
    "# This is a floating point number\n",
    "x = 1e-9\n",
    "x"
   ]
  },
  {
   "cell_type": "code",
   "execution_count": 26,
   "id": "5ea60e19-feb6-464b-9a23-4844cf967974",
   "metadata": {},
   "outputs": [
    {
     "data": {
      "text/plain": [
       "3.141592653589793"
      ]
     },
     "execution_count": 26,
     "metadata": {},
     "output_type": "execute_result"
    }
   ],
   "source": [
    "# This is pi\n",
    "import math\n",
    "math.pi"
   ]
  },
  {
   "cell_type": "markdown",
   "id": "70e4b453-8201-42be-ada6-3e2cc081607b",
   "metadata": {},
   "source": [
    "### Basic Data Structures\n",
    "\n",
    "Python also has what I call *container* data structures that contain multitudes of simple data types like arrays, lists, sets, and maps."
   ]
  },
  {
   "cell_type": "code",
   "execution_count": 27,
   "id": "a50b9a23-9a0a-4229-9f20-9672ff05ebf2",
   "metadata": {},
   "outputs": [],
   "source": [
    "# This is a tuple / list\n",
    "xs = (1,2,3)"
   ]
  },
  {
   "cell_type": "code",
   "execution_count": 29,
   "id": "6506fe53-4159-4061-89e2-c4e022372a2d",
   "metadata": {},
   "outputs": [
    {
     "data": {
      "text/plain": [
       "[1, '2', 3]"
      ]
     },
     "execution_count": 29,
     "metadata": {},
     "output_type": "execute_result"
    }
   ],
   "source": [
    "# This is an array\n",
    "ys = [1,'2',3]\n",
    "ys"
   ]
  },
  {
   "cell_type": "code",
   "execution_count": 33,
   "id": "95854fac-880d-435b-9e5e-069134d769b1",
   "metadata": {},
   "outputs": [
    {
     "data": {
      "text/plain": [
       "{(10, 11.2), 1, 'a', 'string'}"
      ]
     },
     "execution_count": 33,
     "metadata": {},
     "output_type": "execute_result"
    }
   ],
   "source": [
    "# This is a set\n",
    "us = {'a', 1, 'string', (10,11.2)}\n",
    "us"
   ]
  },
  {
   "cell_type": "code",
   "execution_count": 2,
   "id": "3f9d7391-9058-4183-a867-d5ad9b086912",
   "metadata": {},
   "outputs": [
    {
     "data": {
      "text/plain": [
       "{'key 1': 'this can be anything',\n",
       " 'key 2': [1, 2, 3],\n",
       " ('key', 3): {'nested': 1, 'whatever': 3.2},\n",
       " (1, 2): 10}"
      ]
     },
     "execution_count": 2,
     "metadata": {},
     "output_type": "execute_result"
    }
   ],
   "source": [
    "# This is a dictionary / hash map\n",
    "\n",
    "zs = {'key 1': 'this can be anything',\n",
    "      'key 2': [1,2,3],\n",
    "      ('key',3): {'nested': 1, 'whatever': 3.2},\n",
    "      (1,2): 10}\n",
    "zs"
   ]
  },
  {
   "cell_type": "code",
   "execution_count": 4,
   "id": "7ec175e2-90eb-4cd6-9e6d-b10ca8adedec",
   "metadata": {},
   "outputs": [
    {
     "data": {
      "text/plain": [
       "10"
      ]
     },
     "execution_count": 4,
     "metadata": {},
     "output_type": "execute_result"
    }
   ],
   "source": [
    "zs[(1,2)]"
   ]
  },
  {
   "cell_type": "code",
   "execution_count": 5,
   "id": "703a36e0-836d-423f-97e6-00a24220247b",
   "metadata": {},
   "outputs": [
    {
     "data": {
      "text/plain": [
       "dict_keys(['key 1', 'key 2', ('key', 3), (1, 2)])"
      ]
     },
     "execution_count": 5,
     "metadata": {},
     "output_type": "execute_result"
    }
   ],
   "source": [
    "zs.keys()"
   ]
  },
  {
   "cell_type": "code",
   "execution_count": 6,
   "id": "5f535d1f-9165-41eb-81f1-cdab38d191a0",
   "metadata": {},
   "outputs": [
    {
     "data": {
      "text/plain": [
       "dict_values(['this can be anything', [1, 2, 3], {'nested': 1, 'whatever': 3.2}, 10])"
      ]
     },
     "execution_count": 6,
     "metadata": {},
     "output_type": "execute_result"
    }
   ],
   "source": [
    "zs.values()"
   ]
  },
  {
   "cell_type": "markdown",
   "id": "fdeb67c5-6a0f-4946-90f2-4028882bc2b3",
   "metadata": {},
   "source": [
    "### Variables, Values, and Pointers\n",
    "\n",
    "You have to be careful with variables in python in combination with assignments:"
   ]
  },
  {
   "cell_type": "code",
   "execution_count": 42,
   "id": "8db34cf6-f00f-4d8b-8dd2-5652df50c189",
   "metadata": {},
   "outputs": [
    {
     "data": {
      "text/plain": [
       "[1, 2, 3, 4, 5]"
      ]
     },
     "execution_count": 42,
     "metadata": {},
     "output_type": "execute_result"
    }
   ],
   "source": [
    "a = [1,2,3,4]\n",
    "b = a\n",
    "b.append(5)\n",
    "a"
   ]
  },
  {
   "cell_type": "markdown",
   "id": "a9e98e6e-607e-41ba-aa37-5c377dc38a12",
   "metadata": {},
   "source": [
    "## Control flow\n",
    "\n",
    "### Conditionals\n",
    "\n",
    "Python, like every other language, has conditionals and loops"
   ]
  },
  {
   "cell_type": "code",
   "execution_count": 43,
   "id": "3493512a-c3e3-4291-b100-97a4cd023585",
   "metadata": {},
   "outputs": [
    {
     "name": "stdout",
     "output_type": "stream",
     "text": [
      "positive\n"
     ]
    },
    {
     "data": {
      "text/plain": [
       "2"
      ]
     },
     "execution_count": 43,
     "metadata": {},
     "output_type": "execute_result"
    }
   ],
   "source": [
    "a = 1\n",
    "if a>0:\n",
    "    # In Python blocks are designated using whitespace\n",
    "    a += 1\n",
    "    print('positive')\n",
    "elif a<0:\n",
    "    a -= 1\n",
    "    print('negative')\n",
    "else:\n",
    "    print('zero')\n",
    "a"
   ]
  },
  {
   "cell_type": "markdown",
   "id": "92cb7fe3-4c69-4ced-b8ef-8ab39ce3b15c",
   "metadata": {},
   "source": [
    "### Loops\n",
    "\n",
    "Loops are for traversing over collections such as lists, arrays, and sets. A very efficient way of using loops is called *comprehensions*:"
   ]
  },
  {
   "cell_type": "code",
   "execution_count": 46,
   "id": "3f222b8a-2fa8-4a24-93c9-e743933fe1e6",
   "metadata": {},
   "outputs": [
    {
     "name": "stdout",
     "output_type": "stream",
     "text": [
      "a is in position 0\n",
      "b is in position 1\n",
      "c is in position 2\n",
      "d is in position 3\n"
     ]
    }
   ],
   "source": [
    "xs = ['a','b','c','d']\n",
    "\n",
    "for i,x in enumerate(xs):\n",
    "    print(f'{x} is in position {i}')"
   ]
  },
  {
   "cell_type": "code",
   "execution_count": 47,
   "id": "6f8fd056-6540-4643-979f-a5fa3bb778bf",
   "metadata": {},
   "outputs": [
    {
     "data": {
      "text/plain": [
       "{'a': 5, 'b': 5, 'c': 5, 'd': 5}"
      ]
     },
     "execution_count": 47,
     "metadata": {},
     "output_type": "execute_result"
    }
   ],
   "source": [
    "ys = [1,2,3,4,5]\n",
    "zs = {x: y for x in xs for y in ys}\n",
    "zs"
   ]
  },
  {
   "cell_type": "markdown",
   "id": "35a00e7d-81c3-4a55-bb68-89c9755fe263",
   "metadata": {},
   "source": [
    "### Functions\n",
    "\n",
    "Python has functions too"
   ]
  },
  {
   "cell_type": "code",
   "execution_count": 48,
   "id": "b048fbc7-b028-4aba-bb41-bfce4b32e184",
   "metadata": {},
   "outputs": [],
   "source": [
    "def fn(x,y, z=0, t=-1):\n",
    "    if x > 0:\n",
    "        return (-t)*x + z*y\n",
    "    else:\n",
    "        return (-t)*x + z*y"
   ]
  },
  {
   "cell_type": "code",
   "execution_count": 49,
   "id": "b3a57a9e-9fdc-476c-b4eb-e13ee79e762e",
   "metadata": {},
   "outputs": [
    {
     "data": {
      "text/plain": [
       "-32"
      ]
     },
     "execution_count": 49,
     "metadata": {},
     "output_type": "execute_result"
    }
   ],
   "source": [
    "fn(10,-1,2,3)"
   ]
  },
  {
   "cell_type": "code",
   "execution_count": 10,
   "id": "d45de7f7-6448-415a-aadc-f2aff1e3a693",
   "metadata": {},
   "outputs": [],
   "source": [
    "def mine(f,x):\n",
    "    \"\"\"Takes a function f and applies to a value x\"\"\"\n",
    "    return f(x)"
   ]
  },
  {
   "cell_type": "code",
   "execution_count": 11,
   "id": "7adae38a-5a7a-4f1a-93dd-3e790ca7e6f7",
   "metadata": {},
   "outputs": [
    {
     "data": {
      "text/plain": [
       "\u001b[0;31mSignature:\u001b[0m \u001b[0mprint\u001b[0m\u001b[0;34m(\u001b[0m\u001b[0;34m*\u001b[0m\u001b[0margs\u001b[0m\u001b[0;34m,\u001b[0m \u001b[0msep\u001b[0m\u001b[0;34m=\u001b[0m\u001b[0;34m' '\u001b[0m\u001b[0;34m,\u001b[0m \u001b[0mend\u001b[0m\u001b[0;34m=\u001b[0m\u001b[0;34m'\\n'\u001b[0m\u001b[0;34m,\u001b[0m \u001b[0mfile\u001b[0m\u001b[0;34m=\u001b[0m\u001b[0;32mNone\u001b[0m\u001b[0;34m,\u001b[0m \u001b[0mflush\u001b[0m\u001b[0;34m=\u001b[0m\u001b[0;32mFalse\u001b[0m\u001b[0;34m)\u001b[0m\u001b[0;34m\u001b[0m\u001b[0;34m\u001b[0m\u001b[0m\n",
       "\u001b[0;31mDocstring:\u001b[0m\n",
       "Prints the values to a stream, or to sys.stdout by default.\n",
       "\n",
       "sep\n",
       "  string inserted between values, default a space.\n",
       "end\n",
       "  string appended after the last value, default a newline.\n",
       "file\n",
       "  a file-like object (stream); defaults to the current sys.stdout.\n",
       "flush\n",
       "  whether to forcibly flush the stream.\n",
       "\u001b[0;31mType:\u001b[0m      builtin_function_or_method"
      ]
     },
     "metadata": {},
     "output_type": "display_data"
    }
   ],
   "source": [
    "?print"
   ]
  },
  {
   "cell_type": "code",
   "execution_count": 15,
   "id": "6c03088f-3972-487f-ae81-a6eba3c355d2",
   "metadata": {},
   "outputs": [
    {
     "data": {
      "text/plain": [
       "1.2246467991473532e-16"
      ]
     },
     "execution_count": 15,
     "metadata": {},
     "output_type": "execute_result"
    }
   ],
   "source": [
    "import math\n",
    "\n",
    "mine(math.sin, math.pi)"
   ]
  },
  {
   "cell_type": "code",
   "execution_count": null,
   "id": "62ce1f99-a6fe-43e1-8627-f9edf43a390e",
   "metadata": {},
   "outputs": [],
   "source": []
  }
 ],
 "metadata": {
  "kernelspec": {
   "display_name": "Python 3 (ipykernel)",
   "language": "python",
   "name": "python3"
  },
  "language_info": {
   "codemirror_mode": {
    "name": "ipython",
    "version": 3
   },
   "file_extension": ".py",
   "mimetype": "text/x-python",
   "name": "python",
   "nbconvert_exporter": "python",
   "pygments_lexer": "ipython3",
   "version": "3.13.1"
  }
 },
 "nbformat": 4,
 "nbformat_minor": 5
}
