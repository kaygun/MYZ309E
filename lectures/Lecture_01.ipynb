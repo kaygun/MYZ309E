{
 "cells": [
  {
   "cell_type": "markdown",
   "id": "0271b6cc-c4a5-438d-bdf2-a37a8942fc09",
   "metadata": {},
   "source": [
    "# Lecture 1\n",
    "\n",
    "## Crash Course in Python\n",
    "\n",
    "This lecture introduces Python programming from a practical perspective. We will cover essential language features and idioms that will be frequently used in our course."
   ]
  },
  {
   "cell_type": "markdown",
   "id": "c007c8fa-f112-4b98-99d6-1a03e059a274",
   "metadata": {},
   "source": [
    "### What is python?\n",
    "\n",
    "Python is a programming language. According to [TIOBE index](https://www.tiobe.com/tiobe-index/) it is the most popular programming language among developers. If you are used to languages like [java](https://www.java.com/en/download/help/whatis_java.html), [C](https://en.wikipedia.org/wiki/C_(programming_language)) or [C++](https://en.wikipedia.org/wiki/C%2B%2B), the language has a totally different feel to it.\n",
    "\n",
    "Python is a dynamically typed object-oriented interpreted language, as opposed to java which is a statically typed object-oriented compiled language. \n",
    "\n",
    "Python is often chosen in data science because of its simplicity, readability, and the vast ecosystem of scientific libraries such as NumPy, pandas, matplotlib, and scikit-learn. It allows rapid prototyping and is ideal for both scripting and larger applications.\n",
    "\n",
    "Python supports multiple programming paradigms, including procedural, object-oriented, and functional programming. Here is a simple comparison of Python with C++:\n",
    "\n",
    "C++:\n",
    "```cpp\n",
    "int x = 10;\n",
    "std::cout << x * x << std::endl;\n",
    "```\n",
    "\n",
    "Python:\n",
    "```python\n",
    "x = 10\n",
    "print(x * x)\n",
    "```\n",
    "\n",
    "As you can see, Python code tends to be more concise and readable."
   ]
  },
  {
   "cell_type": "markdown",
   "id": "c60c01e0",
   "metadata": {},
   "source": [
    "This is an example of a list comprehension in Python. It evaluates the square of each number in the range from 1 to 5:"
   ]
  },
  {
   "cell_type": "code",
   "execution_count": 1,
   "id": "84a94034-791b-4d69-9f56-485a637143c5",
   "metadata": {},
   "outputs": [
    {
     "data": {
      "text/plain": [
       "[1, 4, 9, 16, 25]"
      ]
     },
     "execution_count": 1,
     "metadata": {},
     "output_type": "execute_result"
    }
   ],
   "source": [
    "xs = range(1,6)\n",
    "ys = [ i*i for i in xs ]\n",
    "ys"
   ]
  },
  {
   "cell_type": "code",
   "execution_count": 2,
   "id": "de411eae",
   "metadata": {},
   "outputs": [
    {
     "name": "stdout",
     "output_type": "stream",
     "text": [
      "[1, 4, 9, 16, 25]\n"
     ]
    }
   ],
   "source": [
    "# An alternative approach using a for loop\n",
    "xs = range(1,6)\n",
    "ys = []\n",
    "for i in xs:\n",
    "    ys.append(i * i)\n",
    "print(ys)"
   ]
  },
  {
   "cell_type": "markdown",
   "id": "a7c0b697",
   "metadata": {},
   "source": [
    "The piece of code above would look like as follows in java\n",
    "\n",
    "    import java.util.ArrayList;\n",
    "    import java.util.Collections;\n",
    "    import java.util.List;\n",
    "\n",
    "    public class SquareNumbers {\n",
    "        public static void main(String[] args) {\n",
    "            int[] myArray = {1, 2, 3, 4, 5};\n",
    "\n",
    "            Collections.sort(xs);\n",
    "\n",
    "            List<Integer> ys = new ArrayList<>();\n",
    "            for (int i : xs) {\n",
    "                ys.add(i * i);\n",
    "            }\n",
    "\n",
    "            System.out.println(ys);\n",
    "        }\n",
    "    }\n",
    "\n",
    "Python relies on a [Read/Evaluate/Print-Loop (REPL)](https://en.wikipedia.org/wiki/Read%E2%80%93eval%E2%80%93print_loop).\n",
    "\n",
    "Observe that Python avoids boilerplate code such as type declarations, `import` statements for standard containers, and manual memory management. This results in faster prototyping and more concise scripts.\n",
    "\n",
    "The Python REPL allows interactive experimentation with data and functions, making it ideal for data science."
   ]
  },
  {
   "cell_type": "markdown",
   "id": "ca00de61",
   "metadata": {},
   "source": [
    "### Basic Data Types\n",
    "\n",
    "Python has the basic data types that every language has like integers, floating points numbers, characters, and strings.\n",
    "\n",
    "Let us illustrate some of these types with code examples. Python supports the standard numerical and textual types:\n",
    "- `int` for integers\n",
    "- `float` for real numbers\n",
    "- `str` for strings (character sequences)\n",
    "- `bool` for boolean values\n",
    "\n",
    "Types are dynamically inferred but can be explicitly annotated using Python 3's type hinting syntax."
   ]
  },
  {
   "cell_type": "code",
   "execution_count": 20,
   "id": "34808a54",
   "metadata": {},
   "outputs": [
    {
     "data": {
      "text/plain": [
       "'This is a string.'"
      ]
     },
     "execution_count": 20,
     "metadata": {},
     "output_type": "execute_result"
    }
   ],
   "source": [
    "s = 'This is a string.'\n",
    "s"
   ]
  },
  {
   "cell_type": "code",
   "execution_count": 21,
   "id": "07432cf7",
   "metadata": {},
   "outputs": [
    {
     "data": {
      "text/plain": [
       "3628800"
      ]
     },
     "execution_count": 21,
     "metadata": {},
     "output_type": "execute_result"
    }
   ],
   "source": [
    "# This is an integer\n",
    "i = 10*9*8*7*6*5*4*3*2*1\n",
    "i"
   ]
  },
  {
   "cell_type": "code",
   "execution_count": 22,
   "id": "871e08c0",
   "metadata": {},
   "outputs": [
    {
     "data": {
      "text/plain": [
       "1e-09"
      ]
     },
     "execution_count": 22,
     "metadata": {},
     "output_type": "execute_result"
    }
   ],
   "source": [
    "# This is a floating point number\n",
    "x = 1e-9\n",
    "x"
   ]
  },
  {
   "cell_type": "markdown",
   "id": "eddcbd25",
   "metadata": {},
   "source": [
    "Note that `1e-9` is shorthand for $10^{-9}$, which is useful in scientific computations involving small quantities."
   ]
  },
  {
   "cell_type": "code",
   "execution_count": 23,
   "id": "d2794261",
   "metadata": {},
   "outputs": [
    {
     "data": {
      "text/plain": [
       "3.141592653589793"
      ]
     },
     "execution_count": 23,
     "metadata": {},
     "output_type": "execute_result"
    }
   ],
   "source": [
    "# This is pi\n",
    "import math\n",
    "math.pi"
   ]
  },
  {
   "cell_type": "code",
   "execution_count": 24,
   "id": "1ef61ae7",
   "metadata": {},
   "outputs": [
    {
     "name": "stdout",
     "output_type": "stream",
     "text": [
      "1.0\n"
     ]
    }
   ],
   "source": [
    "# Python also supports basic arithmetic operations and math functions\n",
    "print(math.sin(math.pi / 2))  # Should print 1.0"
   ]
  },
  {
   "cell_type": "markdown",
   "id": "6c0b199c-e8eb-49af-8010-d9d2fa571c50",
   "metadata": {},
   "source": [
    "### **Boolean Values and Logical Expressions**\n",
    "\n",
    "Python has a built-in `bool` type, with two constants: `True` and `False`. Boolean expressions arise from comparisons and logical operations."
   ]
  },
  {
   "cell_type": "code",
   "execution_count": 40,
   "id": "3dc07ee9-49cc-4b6c-bfda-9c4828834d4d",
   "metadata": {},
   "outputs": [
    {
     "name": "stdout",
     "output_type": "stream",
     "text": [
      "True\n",
      "False\n",
      "True\n"
     ]
    }
   ],
   "source": [
    "a = 10\n",
    "b = 5\n",
    "print(a > b)        # True\n",
    "print(a == b)       # False\n",
    "print(a != b)       # True"
   ]
  },
  {
   "cell_type": "markdown",
   "id": "abf058ec-cf09-4a39-b258-fd774c780d13",
   "metadata": {},
   "source": [
    "You can combine expressions using logical operators:\n",
    "\n",
    "* `and`: true if both operands are true\n",
    "* `or`: true if at least one operand is true\n",
    "* `not`: logical negation"
   ]
  },
  {
   "cell_type": "code",
   "execution_count": 41,
   "id": "26b901e5-065a-4070-9403-bfda3dca7d05",
   "metadata": {},
   "outputs": [
    {
     "name": "stdout",
     "output_type": "stream",
     "text": [
      "True\n",
      "False\n"
     ]
    }
   ],
   "source": [
    "x = 7\n",
    "print(x > 0 and x < 10)   # True\n",
    "print(not (x > 0))        # False"
   ]
  },
  {
   "cell_type": "markdown",
   "id": "94ca71bd-c991-48e5-b75f-afe1073f0732",
   "metadata": {},
   "source": [
    "Python treats the following values as *falsy*: `0`, `''` (empty string), `[]` (empty list), `{}` (empty dict), `None`."
   ]
  },
  {
   "cell_type": "code",
   "execution_count": 42,
   "id": "537d8403-200a-4340-88e1-feb2820d36b8",
   "metadata": {},
   "outputs": [
    {
     "name": "stdout",
     "output_type": "stream",
     "text": [
      "empty container\n"
     ]
    }
   ],
   "source": [
    "if []:\n",
    "    print(\"non-empty\")\n",
    "else:\n",
    "    print(\"empty container\")"
   ]
  },
  {
   "cell_type": "markdown",
   "id": "9d74c05a",
   "metadata": {},
   "source": [
    "### Functions in Python\n",
    "\n",
    "Functions are defined using the `def` keyword. They allow you to encapsulate logic and reuse code.\n",
    "\n",
    "Here is an example of a simple function that returns the square of a number:"
   ]
  },
  {
   "cell_type": "code",
   "execution_count": 25,
   "id": "c597a9ae",
   "metadata": {},
   "outputs": [
    {
     "data": {
      "text/plain": [
       "25"
      ]
     },
     "execution_count": 25,
     "metadata": {},
     "output_type": "execute_result"
    }
   ],
   "source": [
    "def square(x):\n",
    "    return x * x\n",
    "\n",
    "square(5)"
   ]
  },
  {
   "cell_type": "markdown",
   "id": "b1b2d426-5b10-4d0e-8a81-217335074c58",
   "metadata": {},
   "source": [
    "Functions can have default arguments, variable numbers of arguments, and can return multiple values."
   ]
  },
  {
   "cell_type": "markdown",
   "id": "ea347773-2e2d-4a4b-acb8-763c88b54889",
   "metadata": {},
   "source": [
    "def describe_person(name, age=30):\n",
    "    return f\"{name} is {age} years old\"\n",
    "\n",
    "describe_person(\"Alice\")"
   ]
  },
  {
   "cell_type": "markdown",
   "id": "6aa453fb",
   "metadata": {},
   "source": [
    "### Modules and Importing\n",
    "\n",
    "A module in Python is simply a `.py` file containing Python definitions and statements. You can import a module using the `import` statement.\n",
    "\n",
    "Python comes with a rich standard library. For example, you can import the `math` module to access mathematical functions and constants:"
   ]
  },
  {
   "cell_type": "code",
   "execution_count": 26,
   "id": "385c86fc",
   "metadata": {},
   "outputs": [
    {
     "data": {
      "text/plain": [
       "(4.0, 1.0)"
      ]
     },
     "execution_count": 26,
     "metadata": {},
     "output_type": "execute_result"
    }
   ],
   "source": [
    "import math\n",
    "math.sqrt(16), math.log(math.e)"
   ]
  },
  {
   "cell_type": "markdown",
   "id": "aaf40013",
   "metadata": {},
   "source": [
    "You can also import specific names or rename modules:\n",
    "```python\n",
    "from math import pi, sin\n",
    "import numpy as np\n",
    "```"
   ]
  },
  {
   "cell_type": "markdown",
   "id": "4dd551a5",
   "metadata": {},
   "source": [
    "### File Input and Output\n",
    "\n",
    "Python provides built-in functions to read from and write to files. Use the `open()` function with appropriate modes ('r' for reading, 'w' for writing, 'a' for appending). Always close your file or use a `with` block for automatic management.\n",
    "\n",
    "**Writing to a file:**"
   ]
  },
  {
   "cell_type": "code",
   "execution_count": 27,
   "id": "2e559f7b",
   "metadata": {},
   "outputs": [],
   "source": [
    "with open(\"example.txt\", \"w\") as f:\n",
    "    f.write(\"Hello, world!\\n\")\n",
    "    f.write(\"This is a test.\")"
   ]
  },
  {
   "cell_type": "markdown",
   "id": "983b900d",
   "metadata": {},
   "source": [
    "**Reading from a file:**"
   ]
  },
  {
   "cell_type": "code",
   "execution_count": 28,
   "id": "cf877b57",
   "metadata": {},
   "outputs": [
    {
     "name": "stdout",
     "output_type": "stream",
     "text": [
      "Hello, world!\n",
      "This is a test.\n"
     ]
    }
   ],
   "source": [
    "with open(\"example.txt\", \"r\") as f:\n",
    "    contents = f.read()\n",
    "print(contents)"
   ]
  },
  {
   "cell_type": "markdown",
   "id": "76246bb1",
   "metadata": {},
   "source": [
    "### Control Flow: Conditionals and Loops\n",
    "\n",
    "Python supports familiar control flow statements such as `if`, `for`, and `while`.\n",
    "\n",
    "**Conditional Statements:**"
   ]
  },
  {
   "cell_type": "code",
   "execution_count": 29,
   "id": "69febcd8",
   "metadata": {},
   "outputs": [
    {
     "name": "stdout",
     "output_type": "stream",
     "text": [
      "Positive\n"
     ]
    }
   ],
   "source": [
    "x = 42\n",
    "if x < 0:\n",
    "    print(\"Negative\")\n",
    "elif x == 0:\n",
    "    print(\"Zero\")\n",
    "else:\n",
    "    print(\"Positive\")"
   ]
  },
  {
   "cell_type": "markdown",
   "id": "25b4ced9",
   "metadata": {},
   "source": [
    "**Loops:**\n",
    "\n",
    "`for` loops are used to iterate over iterable objects like lists, strings, or ranges."
   ]
  },
  {
   "cell_type": "code",
   "execution_count": 30,
   "id": "6d869b18",
   "metadata": {},
   "outputs": [
    {
     "name": "stdout",
     "output_type": "stream",
     "text": [
      "Square of 0 is 0\n",
      "Square of 1 is 1\n",
      "Square of 2 is 4\n",
      "Square of 3 is 9\n",
      "Square of 4 is 16\n"
     ]
    }
   ],
   "source": [
    "for i in range(5):\n",
    "    print(f\"Square of {i} is {i*i}\")"
   ]
  },
  {
   "cell_type": "markdown",
   "id": "1e64b14a",
   "metadata": {},
   "source": [
    "`while` loops repeat as long as a condition is true."
   ]
  },
  {
   "cell_type": "code",
   "execution_count": 31,
   "id": "74776a3c",
   "metadata": {},
   "outputs": [
    {
     "name": "stdout",
     "output_type": "stream",
     "text": [
      "count is 0\n",
      "count is 1\n",
      "count is 2\n"
     ]
    }
   ],
   "source": [
    "count = 0\n",
    "while count < 3:\n",
    "    print(\"count is\", count)\n",
    "    count += 1"
   ]
  },
  {
   "cell_type": "markdown",
   "id": "bc65a732-da4d-43ad-af54-c617bdac9cc4",
   "metadata": {},
   "source": [
    "### Exception Handling\n",
    "\n",
    "Python uses `try`, `except`, and `finally` to handle exceptions. This is useful for catching and responding to runtime errors."
   ]
  },
  {
   "cell_type": "code",
   "execution_count": 32,
   "id": "b8e15ec0-83e9-40b1-bd6d-1452eae57c36",
   "metadata": {},
   "outputs": [
    {
     "name": "stdout",
     "output_type": "stream",
     "text": [
      "Could not convert to int: invalid literal for int() with base 10: 'xyz'\n",
      "Execution completed.\n"
     ]
    }
   ],
   "source": [
    "try:\n",
    "    val = int(\"xyz\")\n",
    "except ValueError as e:\n",
    "    print(\"Could not convert to int:\", e)\n",
    "finally:\n",
    "    print(\"Execution completed.\")"
   ]
  },
  {
   "cell_type": "markdown",
   "id": "0c1d635b",
   "metadata": {},
   "source": [
    "### More on Container Data Types\n",
    "\n",
    "Python offers several powerful built-in container types:\n",
    "- `list`: ordered, mutable sequence\n",
    "- `tuple`: ordered, immutable sequence\n",
    "- `set`: unordered collection of unique elements\n",
    "- `dict`: key-value pairs (associative array)\n",
    "\n",
    "**Lists** are the most commonly used container:"
   ]
  },
  {
   "cell_type": "code",
   "execution_count": 33,
   "id": "3def0c22",
   "metadata": {},
   "outputs": [
    {
     "name": "stdout",
     "output_type": "stream",
     "text": [
      "apple\n",
      "['apple', 'banana', 'cherry', 'date']\n"
     ]
    }
   ],
   "source": [
    "fruits = ['apple', 'banana', 'cherry']\n",
    "print(fruits[0])  # Access first element\n",
    "fruits.append('date')\n",
    "print(fruits)"
   ]
  },
  {
   "cell_type": "markdown",
   "id": "c992b13d",
   "metadata": {},
   "source": [
    "**Tuples** are immutable sequences:"
   ]
  },
  {
   "cell_type": "code",
   "execution_count": 34,
   "id": "93b27722",
   "metadata": {},
   "outputs": [
    {
     "name": "stdout",
     "output_type": "stream",
     "text": [
      "x = 3, y = 4\n"
     ]
    }
   ],
   "source": [
    "point = (3, 4)\n",
    "print(f\"x = {point[0]}, y = {point[1]}\")"
   ]
  },
  {
   "cell_type": "markdown",
   "id": "2e02b0e4",
   "metadata": {},
   "source": [
    "**Sets** automatically eliminate duplicates:"
   ]
  },
  {
   "cell_type": "code",
   "execution_count": 35,
   "id": "84211f21",
   "metadata": {},
   "outputs": [
    {
     "name": "stdout",
     "output_type": "stream",
     "text": [
      "{1, 2, 3, 4}\n"
     ]
    }
   ],
   "source": [
    "nums = {1, 2, 2, 3, 4}\n",
    "print(nums)"
   ]
  },
  {
   "cell_type": "markdown",
   "id": "82751102",
   "metadata": {},
   "source": [
    "**Dictionaries** (or dicts) map keys to values:"
   ]
  },
  {
   "cell_type": "code",
   "execution_count": 36,
   "id": "4882b66c",
   "metadata": {},
   "outputs": [
    {
     "name": "stdout",
     "output_type": "stream",
     "text": [
      "Alice\n",
      "{'name': 'Alice', 'age': 26}\n"
     ]
    }
   ],
   "source": [
    "person = {'name': 'Alice', 'age': 25}\n",
    "print(person['name'])\n",
    "person['age'] += 1\n",
    "print(person)"
   ]
  },
  {
   "cell_type": "markdown",
   "id": "05305c40",
   "metadata": {},
   "source": [
    "### List Comprehensions\n",
    "\n",
    "List comprehensions provide a concise way to create lists. The basic syntax is:\n",
    "\n",
    "`[expression for item in iterable if condition]`\n"
   ]
  },
  {
   "cell_type": "code",
   "execution_count": 37,
   "id": "ec3d9b9f",
   "metadata": {},
   "outputs": [
    {
     "name": "stdout",
     "output_type": "stream",
     "text": [
      "[0, 1, 4, 9, 16, 25]\n"
     ]
    }
   ],
   "source": [
    "squares = [x * x for x in range(6)]\n",
    "print(squares)"
   ]
  },
  {
   "cell_type": "code",
   "execution_count": 38,
   "id": "4a30b614",
   "metadata": {},
   "outputs": [
    {
     "name": "stdout",
     "output_type": "stream",
     "text": [
      "[0, 2, 4, 6, 8]\n"
     ]
    }
   ],
   "source": [
    "evens = [x for x in range(10) if x % 2 == 0]\n",
    "print(evens)"
   ]
  },
  {
   "cell_type": "markdown",
   "id": "cf1c1e14",
   "metadata": {},
   "source": [
    "You can also use nested comprehensions for multidimensional structures:"
   ]
  },
  {
   "cell_type": "code",
   "execution_count": 39,
   "id": "6c7db488",
   "metadata": {},
   "outputs": [
    {
     "name": "stdout",
     "output_type": "stream",
     "text": [
      "[[0, 0, 0], [0, 1, 2], [0, 2, 4]]\n"
     ]
    }
   ],
   "source": [
    "matrix = [[i * j for j in range(3)] for i in range(3)]\n",
    "print(matrix)"
   ]
  },
  {
   "cell_type": "markdown",
   "id": "ab9d51ce-1212-4f51-bc5e-e940b2eb99d7",
   "metadata": {},
   "source": [
    "### Enumerate, Zip, and Unpacking\n",
    "\n",
    "`enumerate` allows you to iterate over a sequence while keeping track of the index."
   ]
  },
  {
   "cell_type": "code",
   "execution_count": 43,
   "id": "76f6de9d-c9e3-4833-9e1c-8110dd36328a",
   "metadata": {},
   "outputs": [
    {
     "name": "stdout",
     "output_type": "stream",
     "text": [
      "0 alpha\n",
      "1 beta\n",
      "2 gamma\n"
     ]
    }
   ],
   "source": [
    "words = ['alpha', 'beta', 'gamma']\n",
    "for index, word in enumerate(words):\n",
    "    print(index, word)"
   ]
  },
  {
   "cell_type": "markdown",
   "id": "9bc6716a-fad8-4750-9944-b0543c5fe416",
   "metadata": {},
   "source": [
    "`zip` lets you iterate over multiple sequences in parallel."
   ]
  },
  {
   "cell_type": "code",
   "execution_count": 44,
   "id": "5dd414f8-bcc9-4107-8784-f0898596a1f0",
   "metadata": {},
   "outputs": [
    {
     "name": "stdout",
     "output_type": "stream",
     "text": [
      "Alice scored 85\n",
      "Bob scored 92\n"
     ]
    }
   ],
   "source": [
    "names = ['Alice', 'Bob']\n",
    "scores = [85, 92]\n",
    "for name, score in zip(names, scores):\n",
    "    print(f\"{name} scored {score}\")"
   ]
  },
  {
   "cell_type": "markdown",
   "id": "3cb1bd07-8b1a-4731-91c2-ec45cefc37ba",
   "metadata": {},
   "source": [
    "Unpacking allows multiple assignment directly from tuples or iterable values."
   ]
  },
  {
   "cell_type": "code",
   "execution_count": 45,
   "id": "45a6c307-66cb-4ded-8dac-2b30c8851e50",
   "metadata": {},
   "outputs": [
    {
     "name": "stdout",
     "output_type": "stream",
     "text": [
      "x = 3, y = 4\n"
     ]
    }
   ],
   "source": [
    "point = (3, 4)\n",
    "x, y = point\n",
    "print(f\"x = {x}, y = {y}\")"
   ]
  },
  {
   "cell_type": "code",
   "execution_count": null,
   "id": "d91f67ce-cee4-4996-84f8-99c6ac6624fb",
   "metadata": {},
   "outputs": [],
   "source": []
  }
 ],
 "metadata": {
  "kernelspec": {
   "display_name": "Python 3 (ipykernel)",
   "language": "python",
   "name": "python3"
  },
  "language_info": {
   "codemirror_mode": {
    "name": "ipython",
    "version": 3
   },
   "file_extension": ".py",
   "mimetype": "text/x-python",
   "name": "python",
   "nbconvert_exporter": "python",
   "pygments_lexer": "ipython3",
   "version": "3.13.3"
  }
 },
 "nbformat": 4,
 "nbformat_minor": 5
}
