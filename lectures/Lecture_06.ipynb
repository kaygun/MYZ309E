{
 "cells": [
  {
   "cell_type": "code",
   "execution_count": 1,
   "id": "2379ed2c-6af7-4c5c-bcc4-b3752d21d645",
   "metadata": {},
   "outputs": [],
   "source": [
    "import pandas as pd\n",
    "import numpy as np\n",
    "\n",
    "import matplotlib.pyplot as plt\n",
    "\n",
    "import scipy.cluster.hierarchy as hc\n",
    "\n",
    "import rdatasets  as rds\n",
    "from sklearn.datasets import load_iris, load_wine, fetch_olivetti_faces, load_digits, make_blobs, make_moons\n",
    "\n",
    "from sklearn.cluster import DBSCAN, KMeans, AgglomerativeClustering\n",
    "from sklearn.metrics import rand_score, adjusted_rand_score, silhouette_score, silhouette_samples, adjusted_mutual_info_score, normalized_mutual_info_score, confusion_matrix, ConfusionMatrixDisplay, pair_confusion_matrix"
   ]
  },
  {
   "attachments": {},
   "cell_type": "markdown",
   "id": "8ac0a918-15da-4607-b6e7-587b7ed669fb",
   "metadata": {},
   "source": [
    "# LECTURE 6: Clustering Evaluation Metrics\n",
    "\n",
    "Clustering evaluation metrics help quantify how well a clustering algorithm has grouped the data. These metrics fall into two categories: **external metrics**, which compare the clustering against an external ground truth or another partition (e.g. Rand Index, Mutual Information), and **internal metrics**, which assess the clustering structure using only the dataset itself (e.g. Silhouette Score). In this document, we delve into three popular metrics – **Rand Index**, **Silhouette Score**, and **Mutual Information** – providing theoretical foundations, mathematical derivations, real-world applications, comparisons of their strengths/weaknesses, and examples of how to compute them in Python. Short, focused sections with equations and examples are used to enhance clarity.\n",
    "\n",
    "## Rand Index (RI)  \n",
    "\n",
    "The **Rand Index** (RI) is an external clustering evaluation metric that measures the similarity between two data partitions ([Wikipedia](https://en.wikipedia.org/wiki/Rand_index#:~:text=The%20Rand%20index,within%20a%20cluster%20or%20not)). It was introduced by William M. Rand (1971) and essentially computes the percentage of data point *pairs* whose clustering relationship is consistent in the two partitions being compared ([Wikipedia](https://en.wikipedia.org/wiki/Rand_index#:~:text=Image%3A%20,choose%202)). In other words, it counts how often two points are either in the same cluster in both partitions or in different clusters in both partitions (these are “agreements”) out of all possible pairs. An RI of 1 indicates that the two clusterings are identical in terms of pairwise relationships, while an RI of 0 indicates maximum disagreement. The Rand Index is *permutation-invariant* to cluster labels (renaming cluster IDs doesn’t change the score) and is symmetric (swapping the two partitions yields the same RI). However, note that RI is **not adjusted for chance** – meaning that even two random, unrelated clusterings can yield a relatively high RI, especially if the number of clusters is very large or very small. This led to the development of the Adjusted Rand Index (ARI), which corrects RI so that the expected value of ARI for random partitions is 0 ([Wikipedia](https://en.wikipedia.org/wiki/Rand_index#:~:text=The%20adjusted%20Rand%20index%20is,Index%20was%20corrected%20using%20the)). (We will touch on ARI in the comparisons, though our focus here is on the original Rand Index.)\n",
    "\n",
    "### Mathematical Derivation  \n",
    "\n",
    "Consider a dataset of $n$ elements, and suppose we have two partitions of this set: $X = \\{X_1, X_2, \\dots, X_r\\}$ (e.g. the “ground truth” clustering) and $Y = \\{Y_1, Y_2, \\dots, Y_s\\}$ (e.g. the clustering produced by an algorithm) ([Wikipedia](https://en.wikipedia.org/wiki/Rand_index#:~:text=%2Co_,s%20subsets%2C%20define%20the%20following)). We define the following counts over all $\\binom{n}{2}$ pairs of points ([Wikipedia](https://en.wikipedia.org/wiki/Rand_index#:~:text=The%20Rand%20index%2C%20Image%3A%20,2)):\n",
    "\n",
    "- **$a$:** the number of pairs of points that are **in the same cluster** in $X$ **and** in the same cluster in $Y$ ([Rand index - Wikipedia](https://en.wikipedia.org/wiki/Rand_index#:~:text=,displaystyle%20Y)). (These are true agreements on “positive” pair grouping.)\n",
    "- **$b$:** the number of pairs of points that are **in different clusters** in $X$ **and** in different clusters in $Y$ ([Rand index - Wikipedia](https://en.wikipedia.org/wiki/Rand_index#:~:text=subset%20in%20Image%3A%20,displaystyle%20Y)). (Agreements on “negative” pairing – both clusterings separate these points.)\n",
    "- **$c$:** the number of pairs that are in the same cluster in $X$ but in different clusters in $Y$ ([Rand index - Wikipedia](https://en.wikipedia.org/wiki/Rand_index#:~:text=different%20subsets%20in%20Image%3A%20,displaystyle%20Y)). (One clustering joins the pair, the other separates it.)\n",
    "- **$d$:** the number of pairs that are in different clusters in $X$ but in the same cluster in $Y$ ([Rand index - Wikipedia](https://en.wikipedia.org/wiki/Rand_index#:~:text=,displaystyle%20Y)). (One clustering separates the pair, the other joins it.)\n",
    "\n",
    "By definition, $a+b+c+d = \\binom{n}{2}$ (the total number of distinct pairs). The **Rand Index** is then formulated as: \n",
    "\n",
    "$$\n",
    "RI \\;=\\; \\frac{a + b}{a + b + c + d} \\;=\\; \\frac{a + b}{\\binom{n}{2}} \\,,\n",
    "$$ \n",
    "\n",
    "which is the fraction of all pairs on which the two clusterings **agree** ([Rand index - Wikipedia](https://en.wikipedia.org/wiki/Rand_index#:~:text=The%20Rand%20index%2C%20Image%3A%20,2)). Equivalently, RI can be seen as the accuracy of a binary classification that predicts whether a pair of points is in the same cluster or not, compared to the ground truth partition ([Rand index - Wikipedia](https://en.wikipedia.org/wiki/Rand_index#:~:text=as%20the%20number%20of%20agreements,displaystyle%20Y)) ([Rand index - Wikipedia](https://en.wikipedia.org/wiki/Rand_index#:~:text=Image%3A%20,displaystyle%20FP%7D%20is%20the)). In that analogy, $a$ plays the role of true positives (TP), $b$ true negatives (TN), $c$ false negatives (FN), and $d$ false positives (FP); thus $RI = \\frac{TP + TN}{TP + TN + FP + FN}$ ([Rand index - Wikipedia](https://en.wikipedia.org/wiki/Rand_index#:~:text=Image%3A%20,displaystyle%20FP%7D%20is%20the)). \n",
    "\n",
    "**Theoretical properties:** RI ranges from 0 to 1. In the best case of identical partitions, $c=d=0$ and $a+b=\\binom{n}{2}$, yielding $RI=1$. In the worst case (completely disagreeing clusterings), $a=b=0$ and thus $RI=0$. However, for random clusterings, the expected RI is not 0 – it can be substantially above 0 depending on $r$ and $s$. This is why ARI is often preferred for a fair evaluation, as ARI adjusts the index by subtracting the expected index of random partitions and dividing by the maximum possible index improvement ([Rand index - Wikipedia](https://en.wikipedia.org/wiki/Rand_index#:~:text=The%20adjusted%20Rand%20index%20is,Index%20was%20corrected%20using%20the)). ARI can sometimes yield small negative values if the agreement is lower than expected by chance, and ARI=1 for perfect agreement. In summary, RI is straightforward and interpretable (as a percentage of pairwise agreements) but must be interpreted with caution when no baseline is considered.\n",
    "\n",
    "\n",
    "### Strengths, Weaknesses, and Best Use Cases  \n",
    "\n",
    "**Strengths:** The Rand Index is intuitive and easy to interpret – it directly measures the proportion of decisions (pairwise relationships) on which two clustering assignments agree ([Rand index - Wikipedia](https://en.wikipedia.org/wiki/Rand_index#:~:text=as%20the%20number%20of%20agreements,displaystyle%20Y)). It treats misclusterings symmetrically (penalizing false merges and false splits of clusters equally) ([Evaluation of clustering](https://nlp.stanford.edu/IR-book/html/htmledition/evaluation-of-clustering-1.html#:~:text=This%20section%20introduces%20four%20external,these%20two%20types%20of%20errors)). RI (and ARI) is also not sensitive to relabeling of clusters since it only considers set membership of pairs. It can be computed from a contingency table of cluster assignments without needing the raw data, which is convenient for comparing partitions. \n",
    "\n",
    "**Weaknesses:** A key limitation is that RI is **not zero-centered for random partitions** – if clusters are assigned randomly, RI tends to be higher than 0 (sometimes substantially so, especially if the number of clusters is very high or very low) ([Rand index - Wikipedia](https://en.wikipedia.org/wiki/Rand_index#:~:text=The%20adjusted%20Rand%20index%20is,Index%20was%20corrected%20using%20the)). This makes it hard to judge the absolute goodness of a clustering; an RI of, say, 0.5 could mean “better than chance” or it could be close to random expectation depending on context. This is why one should interpret RI relative to a baseline or use ARI for an absolute sense of agreement. Another issue is that RI gives equal weight to all pairwise agreements; in cases of highly imbalanced cluster sizes, the many pairs of points in large clusters can dominate the score, potentially obscuring the poor clustering of smaller groups. (ARI mitigates some of this by the chance correction and is often recommended when class or cluster sizes are unbalanced ([clustering - Adjusted Rand Index vs Adjusted Mutual Information - Cross Validated](https://stats.stackexchange.com/questions/260487/adjusted-rand-index-vs-adjusted-mutual-information#:~:text=,and%20there%20exist%20small%20clusters)).) Additionally, computing RI naively involves considering $O(n^2)$ pairs, which can be computationally expensive for very large $n$, though in practice one uses vectorized computations or formulae based on cluster sizes to compute it efficiently.\n",
    "\n",
    "**Best Use Cases:** Use Rand Index (or better, ARI) when you have a known ground truth classification or a reference clustering to compare against. It’s well-suited for **external validation** of clustering results in scenarios like: benchmarking clustering algorithms on labeled datasets, validating whether discovered clusters correspond to known categories, or comparing different clustering solutions to each other. If cluster sizes are approximately equal and you want a straightforward similarity measure, ARI/RI works well. If the clustering solution or ground truth has many small clusters or is highly imbalanced, be cautious: ARI is preferable to avoid bias, and even ARI might show biases (e.g. ARI tends to favor solutions that split data into balanced clusters, whereas adjusted mutual information might favor very pure but possibly uneven clusters ([clustering - Adjusted Rand Index vs Adjusted Mutual Information - Cross Validated](https://stats.stackexchange.com/questions/260487/adjusted-rand-index-vs-adjusted-mutual-information#:~:text=,biased%20towards%20balanced%20clustering%20solutions))). In summary, use Rand Index metrics for **measuring agreement with a reference partition**, and remember to account for chance agreements in your interpretation.\n",
    "\n",
    "### Real-World Applications  \n",
    "\n",
    "- **Image Segmentation and Computer Vision:** In image clustering or segmentation tasks, the Rand Index (especially ARI) is used to compare an algorithm’s pixel clusters against ground-truth segmented regions. For example, clustering an image’s pixels into objects vs background can be evaluated by RI against manual annotations – a high RI means the clustering largely agrees with the human-labeled segments. In one example comparing two clustering algorithms on a dataset, an **Adjusted Rand Index of ~0.94** indicates the clusterings are very similar ([Rand index - Wikipedia](https://en.wikipedia.org/wiki/Rand_index#:~:text=ImageExample%20clusterings%20for%20a%20dataset,displaystyle%20ARI%5Capprox%200.94)) (almost all point pairs were consistently grouped), as illustrated below.  \n",
    " ([Rand index - Wikipedia](https://en.wikipedia.org/wiki/Rand_index#:~:text=ImageExample%20clusterings%20for%20a%20dataset,displaystyle%20ARI%5Capprox%200.94)) ([image]()) *Two different clustering results (left: k-means, right: mean-shift) on the same dataset produce an ARI ≈ 0.94, indicating very high agreement between the two partitions. Points with the same color belong to the same cluster; the high ARI means the color groupings on the left and right plots largely match ([Rand index - Wikipedia](https://en.wikipedia.org/wiki/Rand_index#:~:text=ImageExample%20clusterings%20for%20a%20dataset,displaystyle%20ARI%5Capprox%200.94)).*  \n",
    "\n",
    "- **Bioinformatics (Gene/Cell Clustering):** In bioinformatics, clustering algorithms are used to group genes or cells with similar expression profiles. Rand Index and ARI are widely reported to evaluate how well the algorithm’s clusters match known categories such as cell types or experimental conditions ([Clustering spatial transcriptomics data - Oxford Academic](https://academic.oup.com/bioinformatics/article/38/4/997/6384569#:~:text=Clustering%20spatial%20transcriptomics%20data%20,fit%20to%20the%20underlying%20biology)). For example, in single-cell RNA sequencing data, a higher ARI signifies that the clustering of cells is more consistent with known biological cell types or with replicates, indicating a meaningful grouping ([Clustering spatial transcriptomics data - Oxford Academic](https://academic.oup.com/bioinformatics/article/38/4/997/6384569#:~:text=Clustering%20spatial%20transcriptomics%20data%20,fit%20to%20the%20underlying%20biology)).\n",
    "\n",
    "- **Customer Segmentation:** If a retailer has predefined customer segments (e.g. by demographics or behavior) and we apply a clustering algorithm to discover segments, RI can compare the discovered clusters with the predefined segments. A high RI means the clustering algorithm found groupings that align well with the known segments (this is effectively a validation against a “gold standard” segmentation). Even without an official ground truth, RI can compare two different clustering solutions – for instance, if you apply two algorithms or two sets of features to cluster customers, RI can quantify how similarly they partition the customer base.\n",
    "\n",
    "- **Document or Topic Clustering:** In natural language processing, one might cluster documents and then evaluate clustering quality by comparing to known topic labels or categories. RI has been used to measure how closely the clusters correspond to true topics. Similarly, in community detection in networks (where “ground truth” communities might be known), RI compares detected communities to the known ones.\n",
    "\n",
    "*(In practice, the Adjusted Rand Index is often reported in these scenarios, as it provides a more reliable comparison by accounting for chance groupings. When we mention RI in applications, ARI is typically implied unless stated otherwise.)*\n",
    "\n",
    "## Silhouette Score  \n",
    "\n",
    "The **Silhouette Score** (or **Silhouette Coefficient**) is an internal evaluation metric that measures how well each data point lies within its cluster *relative to other clusters*. Introduced by Peter J. Rousseeuw in 1987 ([Silhouette (clustering) - Wikipedia](https://en.wikipedia.org/wiki/Silhouette_(clustering))), the silhouette concept combines two aspects for each point: **cohesion** (how close the point is to others in its own cluster) and **separation** (how far the point is from points in other clusters). The silhouette value for a single data point $i$ is defined as: \n",
    "\n",
    "- $a(i)$ = average distance from point $i$ to all other points in the **same cluster** (this measures cluster *cohesion*; smaller $a(i)$ means $i$ is tightly clustered with its peers) ([Silhouette (clustering) - Wikipedia](https://en.wikipedia.org/wiki/Silhouette_(clustering)#:~:text=Image%3A%20%7B%5Cdisplaystyle%20a%28i%29%3D%7B%5Cfrac%20%7B1%7D%7B%7CC_%7BI%7D%7C,I%7D%2Ci%5Cneq%20j%7Dd%)).\n",
    "- $b(i)$ = the minimum average distance from point $i$ to all points in any **other cluster** (this is computed for each other cluster and the smallest of those averages is taken, measuring the distance to the nearest neighboring cluster) ([Silhouette (clustering) - Wikipedia](https://en.wikipedia.org/wiki/Silhouette_(clustering)#:~:text=For%20each%20data%20point%20Image%3A,I%7D%7D%2C%20we%20now%20define)). This represents cluster *separation* – smaller $b(i)$ means there is another cluster very close to $i$, whereas larger $b(i)$ means $i$ is far from all other clusters.\n",
    "\n",
    "Given these, the **silhouette score for point $i$** is: \n",
    "\n",
    "$$\n",
    "s(i) \\;=\\; \\frac{b(i) - a(i)}{\\max\\{a(i),\\,b(i)\\}} \\,, \\qquad -1 \\le s(i) \\le 1\\,,\n",
    "$$ \n",
    "\n",
    "when $|C_{I}|>1$ (i.e. the cluster of $i$ has at least 2 points) ([Silhouette (clustering) - Wikipedia](https://en.wikipedia.org/wiki/Silhouette_(clustering)#:~:text=We%20now%20define%20a%20silhouette,displaystyle%20i)). If $i$ is the only point in its cluster ($|C_I|=1$), one convention is to define $s(i)=0$ (since $a(i)$ is not defined). \n",
    "\n",
    "By this formula, $s(i)$ will be close to +1 if $a(i) \\ll b(i)$, meaning the point is much closer to its own cluster mates than to any other cluster – a clear assignment. If $s(i)$ is around 0, it means $a(i) \\approx b(i)$, so the point is on the border of two clusters (it’s about as close to points in another cluster as to those in its own). If $s(i)$ is negative (which happens if $a(i) > b(i)$), it indicates the point is closer on average to a different cluster than to its own – suggesting it may be misassigned. The **average silhouette score** for a entire clustering is the mean $s(i)$ over all points $i=1,\\dots,n$; this gives a summary of how tight and well-separated the clusters are overall ([Silhouette (clustering) - Wikipedia](https://en.wikipedia.org/wiki/Silhouette_(clustering)#:~:text=The%20silhouette%20value%20is%20a,data%2C%20it%20becomes%20difficult%20to)). The silhouette coefficient inherently ranges from -1 to +1 ([Silhouette (clustering) - Wikipedia](https://en.wikipedia.org/wiki/Silhouette_(clustering)#:~:text=The%20silhouette%20value%20is%20a,data%2C%20it%20becomes%20difficult%20to)). A higher silhouette (closer to 1) means better defined clusters, while a low or negative silhouette indicates overlapping or improper clusters.\n",
    "\n",
    "**Interpretation:** Rousseeuw provided rough guidelines: an average silhouette **above 0.7** indicates a strong clustering structure, **0.5** to **0.7** indicates a reasonable structure, **0.25** to **0.5** may be weak and could indicate too many or too few clusters, and **below 0.25** suggests no substantial structure ([Silhouette (clustering) - Wikipedia](https://en.wikipedia.org/wiki/Silhouette_(clustering)#:~:text=have%20a%20low%20or%20negative,any%20%2052%20metric%2C%20such)). These thresholds, however, depend on data dimensionality and context (in very high-dimensional data, achieving very high silhouette can be difficult ([Silhouette (clustering) - Wikipedia](https://en.wikipedia.org/wiki/Silhouette_(clustering)#:~:text=have%20a%20low%20or%20negative,any%20%2052%20metric%2C%20such))). Silhouette values are typically used to compare different numbers of clusters or different clustering algorithms on the same data: for example, one might run *k*-means with varying $k$ and choose the $k$ that yields the highest average silhouette (as a way to estimate a suitable number of clusters).\n",
    "\n",
    "Notably, the silhouette score uses only the data’s distances and cluster assignments – no ground truth labels are required. It can be computed with any distance metric (Euclidean is common, but one could use Manhattan, cosine, etc.) ([Silhouette (clustering) - Wikipedia](https://en.wikipedia.org/wiki/Silhouette_(clustering)#:~:text=achieve%20such%20high%20values%20because,or%20the%20%2054)) that is appropriate for the data. \n",
    "\n",
    "### Mathematical Derivation  \n",
    "\n",
    "The derivation of the silhouette formula stems from comparing intra-cluster and inter-cluster dissimilarities for each point. For a given point $i$ in cluster $C_I$: \n",
    "\n",
    "- First compute $a(i) = \\frac{1}{|C_I|-1} \\sum_{j \\in C_I,\\, j \\neq i} d(i,j)$, the average distance from $i$ to all other points in its cluster ([Silhouette (clustering) - Wikipedia](https://en.wikipedia.org/wiki/Silhouette_(clustering)#:~:text=Image%3A%20%7B%5Cdisplaystyle%20a%28i%29%3D%7B%5Cfrac%20%7B1%7D%7B%7CC_%7BI%7D%7C,I%7D%2Ci%5Cneq%20j%7Dd%28i%2Cj)). This is straightforward: sum the distances from $i$ to each other point in $C_I$ and divide by $(|C_I|-1)$. This measures how tightly $i$ is clustered with its own cluster mates. If $a(i)$ is small, $i$ is well integrated into $C_I$. If $a(i)$ is large (relative to typical distances in the dataset), $i$ is in a more spread-out cluster or is an outlier within $C_I$. \n",
    "\n",
    "- Next, for every other cluster $C_J$ (for $J \\neq I$), compute the average distance from $i$ to all points in $C_J$: $d_{avg}(i, C_J) = \\frac{1}{|C_J|} \\sum_{j \\in C_J} d(i,j)$ ([Silhouette (clustering) - Wikipedia](https://en.wikipedia.org/wiki/Silhouette_(clustering)#:~:text=We%20then%20define%20the%20mean,I)). Among these values for all $C_J \\neq C_I$, let $b(i) = \\min_{J \\neq I} d_{avg}(i, C_J)$ ([Silhouette (clustering) - Wikipedia](https://en.wikipedia.org/wiki/Silhouette_(clustering)#:~:text=Image%3A%20,J%7D%7Dd%28i%2Cj)). So $b(i)$ is the distance from $i$ to its “nearest neighboring cluster,” in terms of average linkage. We identify the cluster that is the best alternative for $i$ (the one that $i$ is closest to), and measure how far $i$ is from that cluster on average. \n",
    "\n",
    "Now, we compare $a(i)$ and $b(i)$. The silhouette is essentially a *normalized difference*: $s(i) = (b(i) - a(i)) / \\max\\{a(i), b(i)\\}$ ([Silhouette (clustering) - Wikipedia](https://en.wikipedia.org/wiki/Silhouette_(clustering)#:~:text=We%20now%20define%20a%20silhouette,displaystyle%20i)). We divide by the larger of the two to scale the result between -1 and 1. Three cases: (1) If $a(i) < b(i)$, then $s(i)$ will be positive (good), approaching 1 if $b(i)$ is much larger than $a(i$). (2) If $a(i) \\approx b(i)$, $s(i)$ is around 0 (the boundary case). (3) If $a(i) > b(i)$, $s(i)$ becomes negative (meaning $i$ would actually be closer to the other cluster than its own). The formula thus naturally encodes the intuition of what it means for a point to be appropriately clustered.\n",
    "\n",
    "One can also derive that $-1 \\le s(i) \\le +1$: Since $a(i) \\le \\max\\{a(i),b(i)\\}$ and $b(i) \\le \\max\\{a(i),b(i)\\}$, the difference $b(i)-a(i)$ is at most $\\max\\{a(i),b(i)\\}$ (if $a(i)=0$) and at least $-\\max\\{a(i),b(i)\\}$ (if $b(i)=0$ in an extreme hypothetical case), hence $(b-a)/\\max\\{a,b\\}$ lies in $[-1,1]$. The average silhouette for the whole clustering is $S = \\frac{1}{n}\\sum_{i=1}^n s(i)$, which is the quantity reported as the silhouette score for a clustering solution.\n",
    "\n",
    "**Theoretical properties:** The silhouette is an *internal validity* measure – it doesn’t require external information and uses the dataset’s own clustering structure. It is bounded between -1 and 1. It is also **agnostic to the clustering algorithm**: any method yielding a partition can be evaluated by computing distances and applying the formula. The silhouette assumes that a notion of distance (dissimilarity) is defined for the data; commonly Euclidean distance in a feature space is used. If the distance metric satisfies triangle inequality and symmetry (like a proper metric), silhouette is well-behaved. If the clustering algorithm optimizes a similar cohesion/separation objective (like *k*-means minimizing within-cluster variance), silhouette often correlates with the objective (higher silhouette for better *k*-means solutions). However, because silhouette uses *average* distances, it implicitly assumes clusters that are convex or at least roughly globular in shape. If clusters are irregularly shaped or have internal substructure, $a(i)$ and $b(i)$ might not capture the true relationship. For example, density-based clusters (like those found by DBSCAN) or non-convex clusters might show lower silhouette even if they are meaningful clusters not separated by simple distance gaps.\n",
    "\n",
    "Silhouette analysis is widely used for selecting the number of clusters: one computes $S_k$ for different choices of $k$ and picks the $k$ with the highest average silhouette (provided it’s significantly higher than other $k$ values). This method assumes that a natural clustering will yield a markedly better silhouette.\n",
    "\n",
    "### Strengths, Weaknesses, and Best Use Cases  \n",
    "\n",
    "**Strengths:** The silhouette score is **interpretability-friendly** – each data point gets a score indicating how well it fits into its cluster, and the average gives an overall assessment ([Silhouette (clustering) - Wikipedia](https://en.wikipedia.org/wiki/Silhouette_(clustering)#:~:text=The%20silhouette%20value%20is%20a,data%2C%20it%20becomes%20difficult%20to)). It does not require any ground truth or external information, which makes it widely applicable in unsupervised learning. It provides insight at both the cluster level and point level: one can see which clusters have good silhouette (well separated) and which specific points might be problematic. It’s also bounded in a fixed range [-1,1] which makes it easy to judge (values closer to 1 are clearly better). Another strength is that it naturally combines both cohesion and separation – two key aspects of clustering quality – into one metric. This helps avoid the situation of, say, clusters that are tight but very close to each other (which would yield moderate silhouette, correctly signaling an issue) or clusters that are well-separated but very dispersed internally (also yielding moderate silhouette). As a result, silhouette is a more comprehensive internal metric than simply measuring within-cluster variance or between-cluster distances alone.\n",
    "\n",
    "**Weaknesses:** The silhouette assumes that clusters behave roughly like spheres in the given distance metric space – it uses average distances as a summary. If clusters have non-convex shapes or if data manifolds are complex, silhouette can be misleading. For instance, consider two long, snaking clusters entwined around each other (non-convex): each cluster might have some points relatively close to the other cluster, making $b(i)$ not much larger than $a(i)$, thus silhouette might be low even though a density-based clustering could perfectly separate them. Another limitation is sensitivity to the definition of distance: one must choose an appropriate distance function for the data; a poor choice (or unscaled features) can lead to deceptive silhouette values. Also, silhouette does not handle clusters of single points well (by definition, $s(i)=0$ if a point is alone in its cluster, which might heavily penalize a clustering that legitimately has singleton outliers). **Cluster size bias:** silhouette tends to be higher for partitionings that produce clusters of relatively even size and density. If one cluster is much larger and more dispersed than others, points in that cluster might have higher $a(i)$ (due to more spread-out cluster), and also possibly a lower $b(i)$ (since a large cluster might overlap others), yielding lower silhouette for that cluster. This doesn’t necessarily mean the clustering is “bad” – it could reflect inherent data distribution – but silhouette will flag it. Moreover, in high-dimensional data, distances tend to concentrate, and $a(i)$ and $b(i)$ may become very similar for all points, leading to generally low silhouette values ([Silhouette (clustering) - Wikipedia](https://en.wikipedia.org/wiki/Silhouette_(clustering)#:~:text=have%20a%20low%20or%20negative,any%20%2052%20metric%2C%20such)) even if some clustering structure exists (this is a symptom of the curse of dimensionality). From a computational standpoint, calculating silhouette requires computing distances between points across clusters; a naive implementation is $O(n^2)$ for $n$ points (because for each point you may examine distance to all others to get $a(i)$ and $b(i)$). However, this can be optimized by precomputing distance matrices or using sampling for large datasets. Still, silhouette can be computationally heavy for extremely large datasets (millions of points) unless optimizations or approximations are used.\n",
    "\n",
    "**Best Use Cases:** The silhouette score is best used for **internal evaluation** when you do not have ground truth labels. It shines in **determining the appropriate number of clusters** in *k*-means, *k*-medoids, hierarchical clustering, or other partitioning methods. It’s very useful in exploratory data analysis – you can run clustering and use silhouette to gauge if you’ve found something meaningful or if you might be over/under clustering. For example, in customer segmentation or marketing analytics where true segments are not known, silhouette gives a quantitative way to validate if the clusters make sense (with the understanding of its limitations). It’s also a great diagnostic tool to identify problem points or clusters; for instance, in clustering-based anomaly detection, points with low (or negative) silhouette can be examined as potential anomalies. Silhouette is ideal when clusters are expected to be **compact and well-separated** under some distance metric – e.g., clustering well-separated Gaussian blobs, or clustering cities by geographical distance (where clusters might correspond to regions). It is less suitable if clusters are chained, overlapping, or if the concept of distance in feature space doesn’t align with cluster quality (like clustering categorical data with a distance metric might be tricky). In summary, use silhouette to **validate cluster cohesion/separation** and to compare clustering models, especially in the absence of ground truth. Always complement silhouette analysis with domain knowledge and, if possible, other validation methods (because a high silhouette does not guarantee the clustering is conceptually meaningful, only that it’s geometrically well-separated).\n",
    "\n",
    "### Real-World Applications  \n",
    "\n",
    "- **Choosing Number of Clusters (Elbow vs Silhouette):** The silhouette score is frequently used in cluster analysis to determine a suitable number of clusters when ground truth is unavailable. For instance, in **customer segmentation**, a business may cluster customers based on purchasing behavior without prior labels. By computing the silhouette for clusterings with $k=2,3,\\dots,10$ clusters, the analyst can choose the $k$ that maximizes the average silhouette, indicating the best separation between customer groups. A high silhouette might reveal clear segments like “budget shoppers,” “loyal customers,” etc., whereas a low silhouette would warn that the chosen segmentation is muddled. Silhouette was designed to **visually assess cluster quality**: one can create a *silhouette plot* showing each point’s $s(i)$, sorted by cluster, to see which clusters have generally high or low cohesion/separation ([What is the silhouette statistic in cluster analysis? - The DO Loop](https://blogs.sas.com/content/iml/2023/05/15/silhouette-statistic-cluster.html#:~:text=The%20silhouette%20plot)). Such analysis could show, for example, that adding a fifth cluster splits a well-separated group into two poorly separated ones (lowering silhouette), indicating that four clusters might be optimal.\n",
    "\n",
    "- **Outlier Identification:** In applications like **anomaly detection** or **image clustering**, silhouette values can help flag points that do not fit well into any cluster. For example, suppose we cluster animal images into groups (cats, dogs, birds). If a particular image (say of a dolphin) is forced into one of these clusters, it might have a low or negative silhouette value because it’s far from the images in its assigned cluster and perhaps closer to some other cluster’s images. Indeed, silhouette plots can reveal such outliers: e.g. in a zoological dataset clustered into mammals, fish, and insects, the silhouette plot showed that *dolphin* and *porpoise* had much lower silhouette scores within the “mammal” cluster, identifying them as potential outliers or misfits in that cluster ([File:Silhouette-plot-orange.png - Wikipedia](https://en.m.wikipedia.org/wiki/File:Silhouette-plot-orange.png#:~:text=Description%20Silhouette)). This usage is valuable in **bioinformatics**, where clustering gene expression data might group most samples well but identify certain samples with low silhouette, suggesting those samples might form a separate cluster or are an outlier type.\n",
    "\n",
    "- **Comparing Clustering Methods:** Silhouette provides a way to compare different clustering approaches on the same data when no labels are available. For example, in **image segmentation**, one could evaluate a *k*-means clustering versus a spectral clustering by their average silhouette scores to decide which yields more separated segments. In **market segmentation**, different feature sets or algorithms can be compared: perhaps clustering customers by demographic features vs. by purchase history – silhouette scores will indicate which approach produced more cohesive and separated clusters of customers (assuming we have a meaningful distance measure for the features).\n",
    "\n",
    "- **High-Dimensional Data Insights:** In high-dimensional spaces (like document embeddings or genetic data), distances can be less informative (curse of dimensionality). Nevertheless, silhouette analysis can sometimes diagnose when clustering is spurious. If you attempt to cluster very high-dimensional data and get an average silhouette barely above 0, it suggests the clustering may not be significantly better than random partitioning. For example, clustering random high-dimensional noise will typically yield silhouette scores near 0 (since $a(i) \\approx b(i)$ for all points). Thus, silhouette can act as a litmus test for whether any cluster structure was found at all.\n",
    "\n",
    "## Mutual Information (for Clustering)  \n",
    "\n",
    "**Mutual Information (MI)** is an information-theoretic measure of association between two random variables. In clustering, we treat the cluster assignments and the true labels (or some reference partition) as two random variables and ask: *how much information does the clustering tell us about the true labels?* If the clustering perfectly reproduces the ground truth classes, then knowing the cluster of a point tells us exactly which class it belongs to (all uncertainty about the class is removed), which means the mutual information is maximal. If the clustering is random with respect to the classes (no better than chance), knowing the cluster gives no information about the class, and mutual information is zero ([Evaluation of clustering](https://nlp.stanford.edu/IR-book/html/htmledition/evaluation-of-clustering-1.html#:~:text=Image%3A%20%24I%28%20%5COmega%20%3B%20%5Cmathbb,In%20particular%2C%20a)). Mutual information is an **external** evaluation metric (requires a ground truth or reference partition). Unlike Rand Index which considers pair agreements, MI considers the overall distribution of points across clusters and classes. It rewards cluster assignments that are “pure” (each cluster largely containing a single class) and matches class proportions.\n",
    "\n",
    "Formally, suppose we have $r$ clusters $\\Omega = \\{\\omega_1,\\omega_2,\\dots,\\omega_r\\}$ from our algorithm and $s$ ground truth classes $\\mathbb{C} = \\{c_1, c_2, \\dots, c_s\\}$. We can consider a contingency table where each entry $n_{ij} = |\\omega_i \\cap c_j|$ is the number of data points that are in cluster $i$ and class $j$. Let $N = n$ be the total number of points. We can interpret selecting a random data point and observing two “random variables”: $X$ = cluster label of the point, and $Y$ = true class of the point. Mutual information $I(X;Y)$ measures how dependent these two variables are. One definition is: \n",
    "\n",
    "$$ I(X;Y) = H(X) + H(Y) - H(X,Y) $$ \n",
    "\n",
    "where $H(\\cdot)$ denotes entropy. Equivalently (for discrete distributions): \n",
    "\n",
    "$$ I(X;Y) = \\sum_{i=1}^r \\sum_{j=1}^s P(X=\\omega_i,\\, Y=c_j)\\, \\log \\frac{P(X=\\omega_i,\\, Y=c_j)}{P(X=\\omega_i)\\,P(Y=c_j)} $$\n",
    "\n",
    "In our clustering context, $P(X=\\omega_i) = \\frac{|\\omega_i|}{N}$ (the fraction of points in cluster $i$), $P(Y=c_j) = \\frac{|c_j|}{N}$ (the fraction of points in class $j$), and $P(X=\\omega_i, Y=c_j) = \\frac{n_{ij}}{N}$ (the joint probability a random point falls in cluster $i$ and class $j$). Plugging those in, we get a more tangible formula:\n",
    "\n",
    "$$ I(X;Y) = \\sum_{i=1}^r \\sum_{j=1}^s \\frac{n_{ij}}{N} \\; \\log \\frac{N \\cdot n_{ij}}{|\\omega_i| \\cdot |c_j|} $$\n",
    "\n",
    "This summation runs over all cluster–class pairs. It accumulates contribution for each cell of the contingency table, weighted by how many points are in that cell ($n_{ij}/N$), and the log measures how far that cell’s proportion is from what we would expect if clustering and class were independent (if independent, we would have $P(X=\\omega_i, Y=c_j) = P(X=\\omega_i)P(Y=c_j)$, i.e. $n_{ij}/N = (|\\omega_i|/N)(|c_j|/N)$). If cluster labels align well with class labels, most points in a given cluster belong to a single class (and vice versa), so the joint distribution strongly deviates from the independent assumption and $I(X;Y)$ is high ([Evaluation of clustering](https://nlp.stanford.edu/IR-book/html/htmledition/evaluation-of-clustering-1.html#:~:text=Image%3A%20%24,vert%5Comega_k%5Cvert%5Cvert%20c_j%5Cvert%7D%24%20%28185)) ([Evaluation of clustering](https://nlp.stanford.edu/IR-book/html/htmledition/evaluation-of-clustering-1.html#:~:text=Image%3A%20%24,N%7D%24%20%28187)). If the clustering is random, the distribution factors and $I(X;Y) \\approx 0$ ([Evaluation of clustering](https://nlp.stanford.edu/IR-book/html/htmledition/evaluation-of-clustering-1.html#:~:text=Image%3A%20%24I%28%20%5COmega%20%3B%20%5Cmathbb,In%20particular%2C%20a)).\n",
    "\n",
    "One important property: Mutual information is **maximized** not only when the clustering perfectly matches the classes, but also if the clustering over-partitions the classes. For example, if each class is further split into sub-clusters, the mutual information can still be as high as if it matched classes exactly ([Evaluation of clustering](https://nlp.stanford.edu/IR-book/html/htmledition/evaluation-of-clustering-1.html#:~:text=0%20if%20the%20clustering%20is,things%20being%20equal%2C%20fewer%20clusters)). In fact, if you put every data point in its own cluster ($r = N$), then $I(X;Y)$ reaches its theoretical maximum, because the cluster variable $X$ essentially *encodes* the identity of each point, which certainly contains the information about its class (this is analogous to **purity** metric’s behavior) ([Evaluation of clustering](https://nlp.stanford.edu/IR-book/html/htmledition/evaluation-of-clustering-1.html#:~:text=classes%20,equal%2C%20fewer%20clusters%20are%20better)). This means raw mutual information tends to **favor larger numbers of clusters** – it has no penalty for fragmentation of classes into many clusters. To address this, we usually use a **Normalized Mutual Information (NMI)**, which scales the value to a range [0,1] by dividing by a factor related to the entropy of the cluster and class distributions ([normalized_mutual_info_score — scikit-learn 1.6.1 documentation](https://scikit-learn.org/stable/modules/generated/sklearn.metrics.normalized_mutual_info_score.html#:~:text=Normalized%20Mutual%20Information%20,average_method)) ([Mutual information - Wikipedia](https://en.wikipedia.org/wiki/Mutual_information#:~:text=Image%3A%20,H%7D%20%28X)). Common normalizations include: \n",
    "\n",
    "- **Arithmetic mean normalization (a.k.a. “V-measure”)**:\n",
    "$$ \\mathrm{NMI}_{\\text{arith}} = \\frac{2\\, I(X;Y)}{H(X) + H(Y)} $$\n",
    "This is equivalent to the **V-Measure** used in some literature ([normalized_mutual_info_score — scikit-learn 1.6.1 documentation](https://scikit-learn.org/stable/modules/generated/sklearn.metrics.normalized_mutual_info_score.html#:~:text=Normalized%20Mutual%20Information%20,average_method)) ([Mutual information - Wikipedia](https://en.wikipedia.org/wiki/Mutual_information#:~:text=Another%20symmetrical%20measure%20is%20the,given%20by)). It gives 1 when clusters perfectly map to classes (or each class is consistently split into clusters in the same way) ([Mutual information - Wikipedia](https://en.wikipedia.org/wiki/Mutual_information#:~:text=2005%20)), and 0 when $I(X;Y)=0$ (independent). It compensates for the tendency of $I(X;Y)$ to grow with $H(X)$ or $H(Y)$.\n",
    "\n",
    "- **Geometric mean normalization**: \n",
    "$$ \\mathrm{NMI}_{\\text{geom}} = \\frac{I(X;Y)}{\\sqrt{H(X)\\,H(Y)}} $$ \n",
    "This version also yields 1 for a perfect clustering and 0 for independence ([Mutual information - Wikipedia](https://en.wikipedia.org/wiki/Mutual_information#:~:text=analogous%20to%20variance%20%29,akin%20to%20the%20%20177)). It is symmetric and has the nice interpretation similar to a correlation coefficient analogy in information theory.\n",
    "\n",
    "Both of these NMI definitions (and a few others) are used; in practice, many toolkits (like scikit-learn) default to the arithmetic mean (which they call `v_measure_score` for balanced completeness and homogeneity). NMI ensures that the score is bounded: **0 ≤ NMI ≤ 1**, where 1 means the clustering carries as much information about the class labels as the class labels themselves do (perfect alignment), and 0 means the clustering provides no information about class labels (essentially random with respect to classes) ([normalized_mutual_info_score — scikit-learn 1.6.1 documentation](https://scikit-learn.org/stable/modules/generated/sklearn.metrics.normalized_mutual_info_score.html#:~:text=Normalized%20Mutual%20Information%20,average_method)). One thing NMI does **not** fix is chance agreement – even though random clusterings tend to have MI ≈ 0, with finite sample sizes there can be slight positive MI by chance. There is also an **Adjusted Mutual Information (AMI)** which, like ARI, adjusts NMI for chance to have an expected value of 0 for random partitions ([clustering - Adjusted Rand Index vs Adjusted Mutual Information - Cross Validated](https://stats.stackexchange.com/questions/260487/adjusted-rand-index-vs-adjusted-mutual-information#:~:text=,and%20is%20normalized%20against%20chance)). Unless explicitly stated, by “Mutual Information” in clustering, one often means a normalized version (NMI) since raw MI is unbounded and tricky to interpret on its own ([normalized_mutual_info_score — scikit-learn 1.6.1 documentation](https://scikit-learn.org/stable/modules/generated/sklearn.metrics.normalized_mutual_info_score.html#:~:text=Normalized%20Mutual%20Information%20,average_method)). We will focus on NMI for evaluation purposes.\n",
    "\n",
    "**Interpretation:** Mutual information (and NMI) can be seen as measuring the **reduction in uncertainty about the class labels given the clustering** ([Mutual information - Wikipedia](https://en.wikipedia.org/wiki/Mutual_information#:~:text=X,This)) ([Evaluation of clustering](https://nlp.stanford.edu/IR-book/html/htmledition/evaluation-of-clustering-1.html#:~:text=Image%3A%20%24,N%7D%24%20%28187)). If each cluster is a pure subset of a single class, the uncertainty of class given cluster is minimal, yielding high MI. If clusters mix multiple classes, the uncertainty remains high, yielding lower MI. NMI of 1 implies that each cluster corresponds exactly to one class (and each class to one or more clusters without mixing), whereas NMI of 0 means knowing the cluster doesn’t tell you anything about the class (clusters are class-heterogeneous in the same proportions as the dataset). Because of normalization, NMI is generally comparable across different experiments (unlike raw MI which could be higher for datasets with more classes, etc.). NMI is symmetric: the mutual information between clustering and class is the same as between class and clustering, so it doesn’t matter which is “ground truth” – it just quantifies agreement. This makes it useful for comparing two different clusterings as well, not only clustering vs known classes ([normalized_mutual_info_score — scikit-learn 1.6.1 documentation](https://scikit-learn.org/stable/modules/generated/sklearn.metrics.normalized_mutual_info_score.html#:~:text=This%20metric%20is%20independent%20of,score%20value%20in%20any%20way)).\n",
    "\n",
    "### A Simple Example\n",
    "\n",
    "Let us re-consider the example $D = \\{1,2,3,4\\}$ with $P = \\{\\{1,2\\},\\{3,4\\}\\}$ and $Q = \\{\\{1,2\\},\\{3\\},\\{4\\}\\}$.\n",
    "\n",
    "$H(P) = -\\frac{2}{4}\\log_2(2/4) - \\frac{2}{4}\\log_2(2/4) = 1$\n",
    "\n",
    "$H(Q) = -\\frac{2}{4}\\log_2(2/4) - \\frac{1}{4}\\log_2(1/4) - \\frac{1}{4}\\log_2(1/4) = 3/2$\n",
    "\n",
    "$ p_1 \\cap q_1 = \\{1,2\\} $\n",
    "\n",
    "$ p_1 \\cap q_2 = \\emptyset = p_1\\cap q_3 = p_2 \\cap q_1 $\n",
    "\n",
    "$ p_2 \\cap q_2 = \\{3\\}$ \n",
    "\n",
    "$ p_2 \\cap q_3 = \\{4\\}$\n",
    "\n",
    "$ H(P|Q) = \\frac{2}{4}\\log_2(2) + \\frac{1}{4} \\log_2(2) + \\frac{1}{4}\\log_2(2) = 1$\n",
    "\n",
    "### Mathematical Derivation  \n",
    "Starting from the definition $I(X;Y) = \\sum_{i,j} P(X=\\omega_i, Y=c_j)\\, \\log \\frac{P(X=\\omega_i, Y=c_j)}{P(X=\\omega_i)P(Y=c_j)}$, we plug in frequencies from the clustering context. Using $n_{ij}$, $|\\omega_i|$, $|c_j|$ as defined above, we have: \n",
    "\n",
    "$$\n",
    "I(X;Y) = \\sum_{i=1}^r \\sum_{j=1}^s \\frac{n_{ij}}{N} \\log \\frac{\\frac{n_{ij}}{N}}{\\frac{|\\omega_i|}{N} \\cdot \\frac{|c_j|}{N}} \n",
    "= \\sum_{i,j} \\frac{n_{ij}}{N} \\log \\frac{n_{ij}\\,N}{|\\omega_i|\\,|c_j|} \\,. \n",
    "$$\n",
    "\n",
    "To derive some intuition, we can break this down: The entropy of the class distribution is $H(Y) = -\\sum_j \\frac{|c_j|}{N} \\log \\frac{|c_j|}{N}$, and similarly $H(X) = -\\sum_i \\frac{|\\omega_i|}{N} \\log \\frac{|\\omega_i|}{N}$. The joint entropy $H(X,Y) = -\\sum_{i,j} \\frac{n_{ij}}{N} \\log \\frac{n_{ij}}{N}$. Then $I(X;Y) = H(X) + H(Y) - H(X,Y)$, which is exactly how much uncertainty in $Y$ is removed by knowing $X$ (or vice versa). If the clustering is very good, $H(Y|X)$ (entropy of $Y$ given cluster) will be low, so $H(X,Y) \\approx H(X) + H(Y|X)$ is not much larger than $H(X)$, and thus $I(X;Y) = H(Y) - H(Y|X)$ is close to $H(Y)$. If clustering is bad, $H(Y|X)$ is close to $H(Y)$ (knowing cluster doesn’t reduce much uncertainty in class), so $I(X;Y)$ is close to 0. \n",
    "\n",
    "For normalization, the arithmetic NMI formula given earlier can be derived by taking $2I(X;Y)/[H(X)+H(Y)]$. Using the definitions, one can show this is equivalent to the so-called **V-measure**, which itself is the harmonic mean of two metrics called *homogeneity* and *completeness*. A clustering is homogeneous if each cluster contains only members of a single class (no mixed clusters), and complete if all members of a class are in the same cluster (no class is split across clusters). V-measure (and thus NMI with arithmetic mean) rewards both and is symmetric ([Mutual information - Wikipedia](https://en.wikipedia.org/wiki/Mutual_information#:~:text=2005%20)). If one desires a different normalization, one could derive the geometric mean version similarly, or even other variants ([Mutual information - Wikipedia](https://en.wikipedia.org/wiki/Mutual_information#:~:text=of%20constraint%2C,26)) ([Mutual information - Wikipedia](https://en.wikipedia.org/wiki/Mutual_information#:~:text=Image%3A%20,H%7D%20%28X%2CY)). The key property of any NMI is that it corrects the raw MI’s bias of increasing with larger $r$ or $s$. Indeed, as noted, $I(X;Y)$ can attain its maximum when $r = N$ (each point its own cluster, which is usually not a desired outcome for clustering), but $H(X)$ is also maximal in that case (since $X$ is uniformly distributed over $N$ clusters). The normalization by average entropy penalizes such overclustering: if $r = N$, $H(X)$ is large, so the ratio keeps NMI moderate unless those singleton clusters actually correspond exactly to each class partition (which in normal cases they wouldn’t, unless each point is its own class too). In fact, one can prove that NMI (with the entropy-based normalization) has an upper bound of 1 and typically doesn’t inflate with larger cluster counts the way raw MI does ([Evaluation of clustering](https://nlp.stanford.edu/IR-book/html/htmledition/evaluation-of-clustering-1.html#:~:text=classes%20,equal%2C%20fewer%20clusters%20are%20better)).\n",
    "\n",
    "There is also **Adjusted Mutual Information (AMI)** which involves a more complex formula: $\\text{AMI} = \\frac{I(X;Y) - E[I(X;Y)]}{\\max(I) - E[I(X;Y)]}$, analogous to ARI, where $E[I(X;Y)]$ is the expected mutual information of random clusterings (which is not 0, especially for finite $N$, and needs to be estimated or approximated) ([clustering - Adjusted Rand Index vs Adjusted Mutual Information - Cross Validated](https://stats.stackexchange.com/questions/260487/adjusted-rand-index-vs-adjusted-mutual-information#:~:text=vs)). AMI further ensures that a completely random assignment yields a score of 0 on average, eliminating any bias due to chance. In practice, if $N$ is large and cluster structures are not extreme, NMI is often sufficient; but for rigorous evaluation across varying $r,s,N$, AMI is the robust choice.\n",
    "\n",
    "**Theoretical properties:** NMI is bounded [0,1]. It is **symmetric** ($\\mathrm{NMI}(X;Y) = \\mathrm{NMI}(Y;X)$) ([normalized_mutual_info_score — scikit-learn 1.6.1 documentation](https://scikit-learn.org/stable/modules/generated/sklearn.metrics.normalized_mutual_info_score.html#:~:text=This%20metric%20is%20independent%20of,score%20value%20in%20any%20way)). It is *label permutation-invariant* (since it’s based on the contingency counts, relabeling cluster IDs or class IDs doesn’t change $I(X;Y)$). NMI equals 1 if and only if the clustering is a *perfect deterministic function* of the class labels (and vice versa). This can happen if each class is either exactly one cluster or is split into multiple clusters but in a way that each cluster contains only one class (i.e. clustering is a refinement of the class partition). In other words, a clustering that splits a class into subclusters can still yield NMI = 1 if no cluster mixes multiple classes ([Evaluation of clustering](https://nlp.stanford.edu/IR-book/html/htmledition/evaluation-of-clustering-1.html#:~:text=0%20if%20the%20clustering%20is,things%20being%20equal%2C%20fewer%20clusters)). By contrast, ARI would not be 1 in such a case (ARI < 1 if a class is split into multiple clusters unless those clusters are also split in the other partition). This highlights a difference: NMI emphasizes *cluster purity* with respect to classes, whereas ARI emphasizes *pair counting*. This can lead to different sensitivities: for example, if you have one tiny class and the clustering isolates those points perfectly (pure cluster) but mixes some larger classes together, NMI might still be quite high (because that tiny class’s information was captured and purity for large classes still moderately high), while ARI might be lower because many pairs from the large classes got merged incorrectly. In fact, research has noted that **NMI/AMI is biased toward solutions with many pure clusters (even if classes are imbalanced)**, whereas **ARI is biased toward solutions that balance the clustering split of classes** ([clustering - Adjusted Rand Index vs Adjusted Mutual Information - Cross Validated](https://stats.stackexchange.com/questions/260487/adjusted-rand-index-vs-adjusted-mutual-information#:~:text=,and%20there%20exist%20small%20clusters)). We’ll discuss this in comparisons.\n",
    "\n",
    "### Strengths, Weaknesses, and Best Use Cases  \n",
    "\n",
    "**Strengths:** Mutual Information-based scores (NMI/AMI) provide a *granular evaluation* of clustering against ground truth. They consider the full contingency table of cluster-to-class assignments, thereby using more information than pair-counting alone. This often makes them sensitive to partial alignment: for example, if a cluster aligns 50% with one class and 50% with another, MI will reflect that partial information, whereas Rand Index might treat all those mixed pairs as “errors” without nuance. NMI is bounded and normalized, so one can compare scores across different scenarios (especially using the same normalization method consistently). It handles different numbers of clusters and classes gracefully and is *insensitive to label permutations*. MI treats clustering vs classes in a probabilistic manner, connecting to information theory; thus it has nice interpretations (in bits of information) and relationships to entropy and uncertainty ([Mutual information - Wikipedia](https://en.wikipedia.org/wiki/Mutual_information#:~:text=X,This)) ([Evaluation of clustering](https://nlp.stanford.edu/IR-book/html/htmledition/evaluation-of-clustering-1.html#:~:text=Image%3A%20%24,N%7D%24%20%28187)). Another advantage: NMI doesn’t overly penalize a clustering that splits a single class into multiple clusters as long as those clusters are pure – this can be desirable in scenarios where you’re okay with “over-segmentation” as long as clusters aren’t mixing concepts. (For instance, if a true category can be meaningfully divided into subgroups, NMI will still give credit for those clusters being homogeneous, whereas ARI would penalize not keeping them in one cluster.)\n",
    "\n",
    "**Weaknesses:** A major drawback of raw mutual information is the bias toward larger numbers of clusters (as discussed, more clusters -> potentially higher MI, up to trivial maximum when every point is its own cluster) ([Evaluation of clustering](https://nlp.stanford.edu/IR-book/html/htmledition/evaluation-of-clustering-1.html#:~:text=classes%20,equal%2C%20fewer%20clusters%20are%20better)). Normalization mitigates but does not entirely remove all biases. For example, different normalization methods can yield slightly different judgments if class or cluster distributions are very skewed. If one clustering greatly overestimates the number of clusters (splitting classes too finely), NMI will drop somewhat due to the entropy terms, but it might still be higher than one would expect, because those clusters are pure subsets of classes (homogeneity is high). Conversely, if a clustering merges two distinct classes into one cluster (reducing number of clusters), NMI is usually heavily impacted (completeness suffers) – thus NMI is often harsher on errors where distinct classes are confused, than on errors where one class is split apart. This is a double-edged sword: it aligns with how some users perceive clustering quality (not mixing different classes is crucial; splitting a class into subclusters might be acceptable), but in other cases (like wanting exactly one cluster per class) this can be seen as a bias. As noted by researchers, **AMI (adjusted mutual info) tends to be high when clusters are very pure (even if small clusters), and ARI tends to be high when cluster sizes match class sizes well** ([clustering - Adjusted Rand Index vs Adjusted Mutual Information - Cross Validated](https://stats.stackexchange.com/questions/260487/adjusted-rand-index-vs-adjusted-mutual-information#:~:text=,and%20there%20exist%20small%20clusters)). So NMI/AMI can overly reward solutions that carve out small pure clusters for rare classes, which might inflate the score without truly getting the big picture right. Another weakness is interpretability: while MI has a rigorous meaning in bits, telling a business stakeholder that “NMI = 0.5” is less intuitive than saying “50% of pairs were correctly grouped” (Rand) or “cluster separation is average” (silhouette). NMI’s value doesn’t directly translate to an easily understandable quantity except in extremes (0 or 1). Also, computing MI from large contingency tables is usually efficient, but if the number of clusters or classes is very high (thousands), one must be careful in implementation to avoid floating-point issues in computing entropy or probabilities. From a chance perspective, NMI is not adjusted for chance, so comparing NMI scores across datasets of different sizes or class distributions should be done with caution. That said, AMI is available to correct for chance, at the cost of a more complex formula.\n",
    "\n",
    "**Best Use Cases:** Use NMI (or AMI) when you have **ground truth labels or a reliable reference partition** and you want a robust measure of how much the clustering result corresponds to that truth. It is especially useful in scenarios with **imbalanced classes** or differing cluster counts. For example, if you expect the clustering to possibly produce more clusters than true classes (like subdividing categories), NMI will still give a high score if those subdivisions are pure. In **image classification vs clustering** experiments, where some classes may split into multiple visual subclusters, NMI is a preferred metric for evaluation. If you care about not over-segmenting either, then ARI might be used alongside. In **community detection**, if comparing found communities to ground truth communities in a graph, NMI is commonly used because community sizes can vary and NMI handles that well. If your evaluation involves many small clusters or very unbalanced clusters, consider using **AMI**, as it has been recommended for cases with small clusters (it puts more emphasis on identifying even small classes purely) ([clustering - Adjusted Rand Index vs Adjusted Mutual Information - Cross Validated](https://stats.stackexchange.com/questions/260487/adjusted-rand-index-vs-adjusted-mutual-information#:~:text=,and%20there%20exist%20small%20clusters)). On the other hand, if classes are balanced and you care about pair-count accuracy, ARI might suffice. In practice, many works report both ARI and NMI/AMI to cover both perspectives ([clustering - Adjusted Rand Index vs Adjusted Mutual Information - Cross Validated](https://stats.stackexchange.com/questions/260487/adjusted-rand-index-vs-adjusted-mutual-information#:~:text=%24)). \n",
    "\n",
    "In summary, **Mutual Information metrics** are best when evaluating clustering against a known classification in a nuanced way, giving partial credit for partial matches. They excel in contexts like document clustering, complex image clusters, or multi-class clustering where the number of clusters may not exactly equal the number of classes. They should be used with normalization (NMI) to ensure comparability and boundedness. They are not suitable if no reference labels are present (since they require external truth) – in that case, silhouette or other internal metrics should be used instead.\n",
    "\n",
    "### Real-World Applications  \n",
    "\n",
    "- **Clustering vs Classification Benchmarks:** In machine learning research, NMI is a common metric for evaluating clustering algorithms against a known label assignment. For example, in image recognition, one might cluster images based on features and then use NMI to measure how well these clusters align with actual categories (like clustering a mix of handwritten digit images and checking NMI against their true digit labels). High NMI would mean the clustering discovered groupings similar to the actual digit categories. Competitions or papers on clustering often report NMI (or ARI) as a quantitative measure of success when ground truth labels are available.\n",
    "\n",
    "- **Customer Segmentation Validation:** Consider a **customer segmentation** scenario where customers are clustered from behavior data. If the company has some labeled segments (say “high-spender,” “casual,” “coupon-lover,” etc.), mutual information can be used to see how informative the clusters are about these known segments. A high NMI would indicate the clustering has largely separated these different customer types. Even if the clusters don’t exactly match one-for-one with known segments (maybe it split one segment into two subgroups), NMI will still be high if each cluster tends to align mostly with a single known segment. In fact, practitioners sometimes use NMI as a guide to tune clustering hyperparameters to maximize alignment with a known business segmentation ([12+ Normalized Mutual Information Tips To Boost Accuracy - Web Monitor](https://webmonitor.ucm.colostate.edu/12-normalized-mutual-information-tips-to-boost-accuracy#:~:text=To%20illustrate%20the%20application%20of,NMI%20as%20the%20evaluation%20metric)).\n",
    "\n",
    "- **Text Document Clustering:** In natural language processing, one may cluster documents (news articles, for example) without labels, but then evaluate the clustering against topic labels or categories using NMI. For instance, cluster news articles by content and then calculate NMI with respect to their news category (politics, sports, tech, etc.). This tells us how much the unsupervised clustering recovered the actual topics. Similarly, in community detection for graphs, if a ground truth community structure is known, NMI can compare the detected communities to the ground truth groupings of nodes.\n",
    "\n",
    "- **Bioinformatics and Genomics:** In analysis of gene expression or single-cell data, clusters of cells are often compared to known cell types or experimental labels. NMI is used (along with ARI) to evaluate methods that cluster cells – e.g., does the clustering of cells reflect tissue types or experimental conditions? In these domains, class proportions are often uneven (some cell types are rare). AMI (adjusted mutual info) is particularly popular here to account for chance. For example, clustering results in single-cell RNA-seq might be scored by NMI against cell-type labels to quantify how well cell types were recovered ([Evaluation of clustering](https://nlp.stanford.edu/IR-book/html/htmledition/evaluation-of-clustering-1.html#:~:text=0%20if%20the%20clustering%20is,things%20being%20equal%2C%20fewer%20clusters)). Likewise, in gene clustering, if there’s a known categorization of genes (pathways, functions), one can use NMI to see if the clustering correlates with that categorization.\n",
    "\n",
    "- **Combining Multiple Clusterings (Ensemble):** When combining or comparing multiple clustering results (ensemble clustering or consensus clustering), NMI is often used as a similarity measure between clusterings. Because NMI is symmetric and has a clear interpretation, one can create an “agreement matrix” of multiple clustering runs using NMI scores. For example, if you run a clustering algorithm 10 times with different random initializations, you might compute the NMI between every pair of runs to see the stability of the results (high mutual information between runs means the clustering is stable). Similarly, if you have two different algorithms’ outputs, NMI quantifies their agreement (similar to how one might use ARI for this purpose) ([normalized_mutual_info_score — scikit-learn 1.6.1 documentation](https://scikit-learn.org/stable/modules/generated/sklearn.metrics.normalized_mutual_info_score.html#:~:text=This%20metric%20is%20independent%20of,score%20value%20in%20any%20way))."
   ]
  },
  {
   "cell_type": "markdown",
   "id": "f8b92a13-cfd9-4eb0-86c4-e063d2bf646e",
   "metadata": {},
   "source": [
    "## Comparing Rand Index, Silhouette, and Mutual Information  \n",
    "\n",
    "Each of the three metrics we discussed has its own **strengths and weaknesses**, making them suitable for different scenarios. The table below summarizes key differences:\n",
    "\n",
    "| **Metric**            | **Type**          | **Range**     | **Best Value** | **What it Measures**                 | **Requires Ground Truth?** | **Sensitivity/Biases**                | **Best Use Cases**                           |\n",
    "|-----------------------|-------------------|---------------|----------------|---------------------------------------|---------------------------|---------------------------------------|----------------------------------------------|\n",
    "| **Rand Index (RI)**   | External (Pair-based)  | 0 to 1       | 1 = perfect agreement | Fraction of point pairs on which two partitions agree (same or different cluster) ([Rand index - Wikipedia](https://en.wikipedia.org/wiki/Rand_index#:~:text=Image%3A%20,choose%202)). Essentially pairwise accuracy of clustering vs truth ([Rand index - Wikipedia](https://en.wikipedia.org/wiki/Rand_index#:~:text=Image%3A%20,displaystyle%20FP%7D%20is%20the)). | Yes (another partition or labels) | – Not 0 for random clusterings (chance bias) unless adjusted (ARI) ([Rand index - Wikipedia](https://en.wikipedia.org/wiki/Rand_index#:~:text=The%20adjusted%20Rand%20index%20is,Index%20was%20corrected%20using%20the)).<br>– Treats all pair decisions equally; can be dominated by large clusters.<br>– ARI biases: favors balanced clusterings ([clustering - Adjusted Rand Index vs Adjusted Mutual Information - Cross Validated](https://stats.stackexchange.com/questions/260487/adjusted-rand-index-vs-adjusted-mutual-information#:~:text=,biased%20towards%20balanced%20clustering%20solutions)). | – Comparing clustering result to true labels or to another method’s clustering.<br>– When an intuitive “percentage of correct decisions” measure is desired ([Rand index - Wikipedia](https://en.wikipedia.org/wiki/Rand_index#:~:text=as%20the%20number%20of%20agreements,displaystyle%20Y)).<br>– Use ARI for rigorous comparison especially with different cluster counts or imbalanced classes. |\n",
    "| **Silhouette Score**  | Internal (Distance-based) | -1 to 1    | +1 = perfectly clustered (cohesion >> separation) | How well each point fits into its cluster vs the nearest other cluster ([Silhouette (clustering) - Wikipedia](https://en.wikipedia.org/wiki/Silhouette_(clustering)#:~:text=We%20now%20define%20a%20silhouette,displaystyle%20i)). Combines cluster tightness and separation ([Silhouette (clustering) - Wikipedia](https://en.wikipedia.org/wiki/Silhouette_(clustering)#:~:text=The%20silhouette%20value%20is%20a,data%2C%20it%20becomes%20difficult%20to)). | No (uses only distances)    | – Assumes meaningful distance metric; struggles with non-convex clusters ([Silhouette (clustering) - Wikipedia](https://en.wikipedia.org/wiki/Silhouette_(clustering)#:~:text=achieve%20such%20high%20values%20because,or%20the%20%2054)).<br>– Tends to decrease in high dimensions due to distance concentration ([Silhouette (clustering) - Wikipedia](https://en.wikipedia.org/wiki/Silhouette_(clustering)#:~:text=have%20a%20low%20or%20negative,any%20%2052%20metric%2C%20such)).<br>– Biased against clusters of one point (gives 0) and very uneven cluster sizes. | – Selecting the number of clusters (choose $k$ that maximizes silhouette).<br>– Evaluating clustering quality when no labels are available (unsupervised validation).<br>– Identifying outliers or borderline points (low or negative silhouette). |\n",
    "| **Mutual Information (NMI)** | External (Information-theoretic) | 0 to 1       | 1 = perfect correlation (up to label permutation) | The amount of information shared between cluster assignments and true labels ([Evaluation of clustering](https://nlp.stanford.edu/IR-book/html/htmledition/evaluation-of-clustering-1.html#:~:text=Image%3A%20%24,vert%5Comega_k%5Cvert%5Cvert%20c_j%5Cvert%7D%24%20%28185)). Rewards clusters that are pure w.r.t classes and vice versa. Often normalized for comparability ([normalized_mutual_info_score — scikit-learn 1.6.1 documentation](https://scikit-learn.org/stable/modules/generated/sklearn.metrics.normalized_mutual_info_score.html#:~:text=Normalized%20Mutual%20Information%20,average_method)). | Yes (true labels or reference) | – Without normalization, increases with more clusters (avoid using raw MI) ([Evaluation of clustering](https://nlp.stanford.edu/IR-book/html/htmledition/evaluation-of-clustering-1.html#:~:text=classes%20,equal%2C%20fewer%20clusters%20are%20better)).<br>– Even with NMI, can favor many small pure clusters (over-segmentation) ([clustering - Adjusted Rand Index vs Adjusted Mutual Information - Cross Validated](https://stats.stackexchange.com/questions/260487/adjusted-rand-index-vs-adjusted-mutual-information#:~:text=,biased%20towards%20balanced%20clustering%20solutions)).<br>– AMI addresses chance agreements (expected ≈ 0 for random labels). | – Evaluating how well clusters correspond to known classes, especially if some classes might split into sub-clusters.<br>– When partial credit for nearly correct clustering is desired (captures nuance of cluster purity/completeness).<br>– Comparing different clustering results or algorithms on labeled data (report alongside ARI for comprehensive view). |\n",
    "\n",
    "**Complementarity:** These metrics often complement each other. For example, silhouette is used to decide the number of clusters, then ARI/NMI are used to evaluate the chosen clustering against ground truth. In practice:\n",
    "\n",
    "- If you **lack ground truth labels**, you must use an internal metric like silhouette (or others like Davies–Bouldin, Dunn index, etc.). Silhouette will tell you how well-defined your clusters are in the feature space. RI and NMI cannot be used in this scenario.\n",
    "- If you **have ground truth labels** and want to measure clustering performance, RI (especially ARI) and NMI (or AMI) are appropriate. They give slightly different perspectives: ARI focuses on pair counting (which tends to emphasize overall accuracy, treating all errors equally), while NMI focuses on cluster composition (emphasizing pure clustering of classes). It’s not uncommon to report both, since a clustering that maximizes ARI may not maximize NMI and vice versa ([clustering - Adjusted Rand Index vs Adjusted Mutual Information - Cross Validated](https://stats.stackexchange.com/questions/260487/adjusted-rand-index-vs-adjusted-mutual-information#:~:text=Image%3A%20enter%20image%20description%20here)) ([clustering - Adjusted Rand Index vs Adjusted Mutual Information - Cross Validated](https://stats.stackexchange.com/questions/260487/adjusted-rand-index-vs-adjusted-mutual-information#:~:text=matching%20the%20reference%20clustering%20with,the%20biases%20in%20both%20measures)). For instance, a clustering that splits one class into two clusters might reduce ARI (because some point pairs of the same class are now separated) but can still achieve NMI=1 if it didn’t mix classes in clusters.\n",
    "- **Small vs large clusters:** ARI can struggle if there are many small clusters – chance can inflate RI, but ARI corrects that to some extent, yet ARI also tends to down-weight the impact of very small clusters on the score (because there are relatively few pairs involving them). NMI, on the other hand, will give a lot of credit for identifying even a tiny class if it was identified as a distinct cluster (high purity for that class, which contributes to MI). Thus, if your application values identifying even minor groups, NMI/AMI might be a better metric. If your application values the overall accuracy across all pairs equally (e.g., in image segmentation every pixel pair matters equally), ARI might be more suitable.\n",
    "- **Interpreting absolute values:** An ARI or NMI of 1 is perfect clustering. ARI of 0 indicates random chance level (roughly), NMI of 0 indicates no mutual information. Silhouette close to 1 means clusters are well apart, near 0 means clusters are overlapping, negative means misassignments. It’s worth noting that a “good” silhouette score may vary by domain (in some real datasets, an average silhouette of 0.5 might be very good if data is noisy). Meanwhile, a good ARI/NMI depends on how well-defined the classes are – for example, clustering iris data might yield ARI ~0.75, NMI ~0.75 (as we’ll see in code below), which is considered decent but not perfect since iris has overlapping classes.\n",
    "\n",
    "In conclusion, there isn’t a single “best” metric – the choice depends on what aspect of clustering quality matters for your problem. **Rand Index/ARI** is excellent for an intuitive sense of agreement and is widely used when comparing to ground truth. **Silhouette** is great for understanding clustering structure without external info and for choosing cluster counts. **Mutual Information/NMI** provides a deeper insight when class labels are known, especially useful if the clustering might refine the classes or if you care about clustering’s information content relative to truth. It’s often recommended to look at multiple metrics to get a complete picture of clustering performance ([cluster analysis - Adjusted Rand Index and Adjusted Mutual ...](https://stackoverflow.com/questions/78694238/adjusted-rand-index-and-adjusted-mutual-information-score-the-same-for-birch-and#:~:text=cluster%20analysis%20,see%20if%20there%20is))."
   ]
  },
  {
   "cell_type": "markdown",
   "id": "4885d5d6-897c-4849-8390-0e4ee7155df0",
   "metadata": {},
   "source": [
    "## Examples  \n",
    "\n",
    "To demonstrate how these metrics are computed in practice, let’s use Python’s `scikit-learn` library on a simple dataset. We will cluster the famous Iris flower dataset (which has 3 true species classes) using *k*-means into 3 clusters, and then compute the Rand Index, Adjusted Rand Index, Normalized Mutual Information, and Silhouette Score for the result. "
   ]
  },
  {
   "cell_type": "code",
   "execution_count": 2,
   "id": "be46b360-ebad-43ef-9646-a762acc35341",
   "metadata": {},
   "outputs": [],
   "source": [
    "def experiment(X_test,y_test,y_pred):\n",
    "    return {'rand': rand_score(y_test,y_pred),\n",
    "            'mutual info': adjusted_mutual_info_score(y_test,y_pred),\n",
    "            'silhouette score labels': silhouette_score(X_test,y_test),\n",
    "            'silhouette score pred': silhouette_score(X_test,y_pred)}"
   ]
  },
  {
   "cell_type": "markdown",
   "id": "e785e6f0-ed99-410d-8eca-799a982bbd83",
   "metadata": {},
   "source": [
    "## Blobs"
   ]
  },
  {
   "cell_type": "code",
   "execution_count": 3,
   "id": "bb9c7af5-ca11-4e29-8be1-ef4d5ab531e7",
   "metadata": {},
   "outputs": [
    {
     "data": {
      "text/plain": [
       "<matplotlib.collections.PathCollection at 0x7b3883900440>"
      ]
     },
     "execution_count": 3,
     "metadata": {},
     "output_type": "execute_result"
    },
    {
     "data": {
      "image/png": "[encoded data removed]",
      "text/plain": [
       "<Figure size 640x480 with 1 Axes>"
      ]
     },
     "metadata": {},
     "output_type": "display_data"
    }
   ],
   "source": [
    "# Create 3 blobs of points (Gaussian clusters) in 2D for K-Means/Hierarchical\n",
    "X_blobs, y_blobs = make_blobs(n_samples=300, centers=3, cluster_std=1.0, random_state=42)\n",
    "plt.scatter(X_blobs[:,0],X_blobs[:,1], c=y_blobs)"
   ]
  },
  {
   "cell_type": "code",
   "execution_count": 4,
   "id": "ce16509a-7981-4c01-aa5e-dc3e6e6f005d",
   "metadata": {},
   "outputs": [
    {
     "data": {
      "text/plain": [
       "{'rand': 1.0,\n",
       " 'mutual info': np.float64(1.0),\n",
       " 'silhouette score labels': np.float64(0.8480303059596955),\n",
       " 'silhouette score pred': np.float64(0.8480303059596955)}"
      ]
     },
     "execution_count": 4,
     "metadata": {},
     "output_type": "execute_result"
    }
   ],
   "source": [
    "kmeans = KMeans(n_clusters=3, n_init=10, random_state=0)\n",
    "labels_km = kmeans.fit_predict(X_blobs)\n",
    "experiment(X_blobs,y_blobs,labels_km)"
   ]
  },
  {
   "cell_type": "code",
   "execution_count": 5,
   "id": "6b431752-08b5-47ca-8144-f85f605a050a",
   "metadata": {},
   "outputs": [
    {
     "data": {
      "text/plain": [
       "{'rand': 1.0,\n",
       " 'mutual info': np.float64(1.0),\n",
       " 'silhouette score labels': np.float64(0.8480303059596955),\n",
       " 'silhouette score pred': np.float64(0.8480303059596955)}"
      ]
     },
     "execution_count": 5,
     "metadata": {},
     "output_type": "execute_result"
    }
   ],
   "source": [
    "agg = AgglomerativeClustering(n_clusters=3, linkage='single')\n",
    "labels_hier = agg.fit_predict(X_blobs)\n",
    "experiment(X_blobs,y_blobs,labels_hier)"
   ]
  },
  {
   "cell_type": "code",
   "execution_count": 74,
   "id": "4d1b2cbf-4ef6-46b1-b1ee-de06ac2df4e0",
   "metadata": {},
   "outputs": [
    {
     "data": {
      "text/plain": [
       "{'rand': np.float64(0.9955629877369008),\n",
       " 'mutual info': np.float64(0.9809982501286233),\n",
       " 'silhouette score labels': np.float64(0.8480303059596955),\n",
       " 'silhouette score pred': np.float64(0.8074471545457902)}"
      ]
     },
     "execution_count": 74,
     "metadata": {},
     "output_type": "execute_result"
    }
   ],
   "source": [
    "dbscan = DBSCAN(eps=1.25, min_samples=6)\n",
    "labels_db = dbscan.fit_predict(X_blobs)\n",
    "experiment(X_blobs,y_blobs,labels_db)"
   ]
  },
  {
   "cell_type": "markdown",
   "id": "a162e07d-3b36-41d0-bd6c-271d4368963b",
   "metadata": {},
   "source": [
    "## Moons"
   ]
  },
  {
   "cell_type": "code",
   "execution_count": 7,
   "id": "fdc8ea7e-86aa-4b95-a36e-095928345149",
   "metadata": {},
   "outputs": [
    {
     "data": {
      "text/plain": [
       "<matplotlib.collections.PathCollection at 0x7b3881594050>"
      ]
     },
     "execution_count": 7,
     "metadata": {},
     "output_type": "execute_result"
    },
    {
     "data": {
      "image/png": "[encoded data removed]",
      "text/plain": [
       "<Figure size 640x480 with 1 Axes>"
      ]
     },
     "metadata": {},
     "output_type": "display_data"
    }
   ],
   "source": [
    "# Create two moons dataset for DBSCAN, with some noise added\n",
    "X_moons, y_moons = make_moons(n_samples=200, noise=0.05, random_state=0)\n",
    "\n",
    "# Add a few outlier points far away from the moons\n",
    "X_outliers = np.array([[3, 3], [3.5, 3], [3, 3.5]])\n",
    "X_moons_out = np.vstack([X_moons, X_outliers])\n",
    "\n",
    "y_outliers = np.array([3, 3, 3])\n",
    "y_moons_out = np.hstack([y_moons, y_outliers])\n",
    "\n",
    "plt.scatter(X_moons_out[:,0],X_moons_out[:,1], c=y_moons_out)"
   ]
  },
  {
   "cell_type": "code",
   "execution_count": 8,
   "id": "93173f77-bb57-40ab-890d-b832f82a10ff",
   "metadata": {},
   "outputs": [
    {
     "data": {
      "text/plain": [
       "{'rand': np.float64(0.5122664975857192),\n",
       " 'mutual info': np.float64(0.17611062682201428),\n",
       " 'silhouette score labels': np.float64(0.3337185943112642),\n",
       " 'silhouette score pred': np.float64(0.6905388174678966)}"
      ]
     },
     "execution_count": 8,
     "metadata": {},
     "output_type": "execute_result"
    }
   ],
   "source": [
    "kmeans = KMeans(n_clusters=3)\n",
    "labels_km = dbscan.fit_predict(X_moons_out)\n",
    "experiment(X_moons_out,y_moons_out,labels_km)"
   ]
  },
  {
   "cell_type": "code",
   "execution_count": 9,
   "id": "0330311f-7cc7-44e8-8d56-5d53a412a35d",
   "metadata": {},
   "outputs": [
    {
     "data": {
      "text/plain": [
       "{'rand': np.float64(0.5122664975857192),\n",
       " 'mutual info': np.float64(0.17611062682201428),\n",
       " 'silhouette score labels': np.float64(0.3337185943112642),\n",
       " 'silhouette score pred': np.float64(0.6905388174678966)}"
      ]
     },
     "execution_count": 9,
     "metadata": {},
     "output_type": "execute_result"
    }
   ],
   "source": [
    "hier = AgglomerativeClustering(n_clusters=3)\n",
    "labels_hi = dbscan.fit_predict(X_moons_out)\n",
    "experiment(X_moons_out,y_moons_out,labels_hi)"
   ]
  },
  {
   "cell_type": "code",
   "execution_count": 10,
   "id": "fa99addd-a82a-4195-b9ad-61b922ff5cbb",
   "metadata": {},
   "outputs": [
    {
     "data": {
      "text/plain": [
       "{'rand': np.float64(0.985075354826123),\n",
       " 'mutual info': np.float64(0.9315978780860966),\n",
       " 'silhouette score labels': np.float64(0.3337185943112642),\n",
       " 'silhouette score pred': np.float64(0.3166196594542738)}"
      ]
     },
     "execution_count": 10,
     "metadata": {},
     "output_type": "execute_result"
    }
   ],
   "source": [
    "dbscan = DBSCAN(eps=0.3, min_samples=18)\n",
    "labels_db = dbscan.fit_predict(X_moons_out)\n",
    "experiment(X_moons_out,y_moons_out,labels_db)"
   ]
  },
  {
   "cell_type": "markdown",
   "id": "e48f0158-f5cd-41ab-ad13-21d4c1f2ef58",
   "metadata": {},
   "source": [
    "## Iris"
   ]
  },
  {
   "cell_type": "code",
   "execution_count": 11,
   "id": "696b4ee2-87c0-45a0-b56f-40375c7e72b5",
   "metadata": {},
   "outputs": [],
   "source": [
    "raw = load_iris()\n",
    "X_iris = raw['data']\n",
    "y_iris = raw['target']"
   ]
  },
  {
   "cell_type": "code",
   "execution_count": 12,
   "id": "0d778dcd-ba07-4e21-bb94-9d36e862f426",
   "metadata": {},
   "outputs": [
    {
     "data": {
      "text/plain": [
       "{'rand': np.float64(0.8797315436241611),\n",
       " 'mutual info': np.float64(0.7671669615713111),\n",
       " 'silhouette score labels': np.float64(0.5034774406932961),\n",
       " 'silhouette score pred': np.float64(0.5543236611296419)}"
      ]
     },
     "execution_count": 12,
     "metadata": {},
     "output_type": "execute_result"
    }
   ],
   "source": [
    "model = AgglomerativeClustering(n_clusters=3)\n",
    "model.fit(X_iris)\n",
    "y_pred = model.fit_predict(X_iris)\n",
    "experiment(X_iris,y_iris,y_pred)"
   ]
  },
  {
   "cell_type": "code",
   "execution_count": 13,
   "id": "7c503bf5-0211-490e-9f70-773971c5719c",
   "metadata": {},
   "outputs": [
    {
     "data": {
      "text/plain": [
       "{'rand': np.float64(0.8737360178970918),\n",
       " 'mutual info': np.float64(0.7386548254402864),\n",
       " 'silhouette score labels': np.float64(0.5034774406932961),\n",
       " 'silhouette score pred': np.float64(0.551191604619592)}"
      ]
     },
     "execution_count": 13,
     "metadata": {},
     "output_type": "execute_result"
    }
   ],
   "source": [
    "model = KMeans(n_clusters=3)\n",
    "model.fit(X_iris)\n",
    "y_pred = model.fit_predict(X_iris)\n",
    "experiment(X_iris,y_iris,y_pred)"
   ]
  },
  {
   "cell_type": "code",
   "execution_count": 14,
   "id": "c006658c-b370-42af-96fd-55035f5f5525",
   "metadata": {},
   "outputs": [
    {
     "data": {
      "text/plain": [
       "{'rand': np.float64(0.7762863534675615),\n",
       " 'mutual info': np.float64(0.7315847607219573),\n",
       " 'silhouette score labels': np.float64(0.5034774406932961),\n",
       " 'silhouette score pred': np.float64(0.6867350732769777)}"
      ]
     },
     "execution_count": 14,
     "metadata": {},
     "output_type": "execute_result"
    }
   ],
   "source": [
    "model = DBSCAN(eps=1.3, min_samples=5)\n",
    "model.fit(X_iris)\n",
    "y_pred = model.fit_predict(X_iris)\n",
    "experiment(X_iris,y_iris,y_pred)"
   ]
  },
  {
   "cell_type": "markdown",
   "id": "b815711b-a6b0-43cb-a427-fbada2729678",
   "metadata": {},
   "source": [
    "## USA Arrests"
   ]
  },
  {
   "cell_type": "code",
   "execution_count": 15,
   "id": "5c17dd3c-a954-4f80-a120-08540aabbea1",
   "metadata": {},
   "outputs": [],
   "source": [
    "arrests = rds.data('USArrests')\n",
    "X = arrests[['Murder','Assault','Rape']]\n",
    "y = arrests['rownames']"
   ]
  },
  {
   "cell_type": "code",
   "execution_count": 16,
   "id": "cf4422fc-14c4-421b-b63b-4b8aa5a7dbc7",
   "metadata": {},
   "outputs": [
    {
     "data": {
      "text/plain": [
       "np.float64(0.5895248108092538)"
      ]
     },
     "execution_count": 16,
     "metadata": {},
     "output_type": "execute_result"
    }
   ],
   "source": [
    "model = AgglomerativeClustering(n_clusters=3)\n",
    "model.fit(X)\n",
    "y_pred = model.fit_predict(X)\n",
    "silhouette_score(X,y_pred)"
   ]
  },
  {
   "cell_type": "code",
   "execution_count": 17,
   "id": "e55f8e9b-9786-480f-8768-c0ffffddaa69",
   "metadata": {},
   "outputs": [
    {
     "data": {
      "text/plain": [
       "np.float64(0.5895248108092538)"
      ]
     },
     "execution_count": 17,
     "metadata": {},
     "output_type": "execute_result"
    }
   ],
   "source": [
    "model = KMeans(n_clusters=3)\n",
    "model.fit(X)\n",
    "y_pred = model.fit_predict(X)\n",
    "silhouette_score(X,y_pred)"
   ]
  },
  {
   "cell_type": "code",
   "execution_count": 18,
   "id": "2fa4f8f1-e30c-4db7-9efe-a0286a21f7cb",
   "metadata": {},
   "outputs": [
    {
     "data": {
      "text/plain": [
       "np.float64(0.011110305713750948)"
      ]
     },
     "execution_count": 18,
     "metadata": {},
     "output_type": "execute_result"
    }
   ],
   "source": [
    "model = DBSCAN(eps=7.0, min_samples=5)\n",
    "model.fit(X)\n",
    "y_pred = model.fit_predict(X)\n",
    "silhouette_score(X,y_pred)"
   ]
  },
  {
   "cell_type": "markdown",
   "id": "59effa51-b568-450d-b249-1574058370eb",
   "metadata": {},
   "source": [
    "## Turkish Crime Statistics"
   ]
  },
  {
   "cell_type": "code",
   "execution_count": 19,
   "id": "6dd87b17-132a-4b3e-8532-894994eff7a3",
   "metadata": {},
   "outputs": [
    {
     "name": "stderr",
     "output_type": "stream",
     "text": [
      "/tmp/ipykernel_297210/4281677137.py:4: FutureWarning: Downcasting behavior in `replace` is deprecated and will be removed in a future version. To retain the old behavior, explicitly call `result.infer_objects(copy=False)`. To opt-in to the future behavior, set `pd.set_option('future.no_silent_downcasting', True)`\n",
      "  data = data.replace('-',0)\n"
     ]
    }
   ],
   "source": [
    "raw = pd.read_excel('../data/turkiye_suc_istatistikleri_2022.xls')\n",
    "data = raw[raw['Gender'].notna()]\n",
    "del data['Gender'], data['Total']\n",
    "data = data.replace('-',0)\n",
    "data.iloc[:,1:] = data.iloc[:,1:].astype(np.int32)\n",
    "N = int((data.shape[0]-1)/2)\n",
    "tmp = []\n",
    "for i in range(N):\n",
    "    tmp.append(data.iloc[2*i,1:]+data.iloc[2*i+1,1:])\n",
    "    tmp[i] = tmp[i]/sum(tmp[i])\n",
    "               \n",
    "X = pd.DataFrame(tmp)\n",
    "y = [data.iloc[2*i,0] for i in range(N)]"
   ]
  },
  {
   "cell_type": "code",
   "execution_count": 92,
   "id": "5fa73f75-459a-400d-8e26-1e47c874b271",
   "metadata": {},
   "outputs": [
    {
     "data": {
      "text/plain": [
       "np.float64(0.256618478727618)"
      ]
     },
     "execution_count": 92,
     "metadata": {},
     "output_type": "execute_result"
    }
   ],
   "source": [
    "model = AgglomerativeClustering(n_clusters=2)\n",
    "y_pred = model.fit_predict(X)\n",
    "silhouette_score(X,y_pred)"
   ]
  },
  {
   "cell_type": "code",
   "execution_count": 93,
   "id": "39ba89c9-bafe-4159-bffb-248197f80624",
   "metadata": {},
   "outputs": [
    {
     "data": {
      "text/plain": [
       "np.float64(0.2555592893731844)"
      ]
     },
     "execution_count": 93,
     "metadata": {},
     "output_type": "execute_result"
    }
   ],
   "source": [
    "model = KMeans(n_clusters=2)\n",
    "y_pred = model.fit_predict(X)\n",
    "silhouette_score(X,y_pred)"
   ]
  },
  {
   "cell_type": "code",
   "execution_count": 86,
   "id": "c054f591-3ced-49d7-b749-2e93939cfa9d",
   "metadata": {},
   "outputs": [
    {
     "data": {
      "text/plain": [
       "np.float64(0.49177330285363263)"
      ]
     },
     "execution_count": 86,
     "metadata": {},
     "output_type": "execute_result"
    }
   ],
   "source": [
    "model = DBSCAN(eps=0.16, min_samples=6)\n",
    "model.fit(X)\n",
    "y_pred = model.fit_predict(X)\n",
    "silhouette_score(X,y_pred)"
   ]
  },
  {
   "cell_type": "markdown",
   "id": "e4bfbf40-cd44-40fc-9f73-b8dd6909388e",
   "metadata": {},
   "source": [
    "## Wine Dataset"
   ]
  },
  {
   "cell_type": "code",
   "execution_count": 23,
   "id": "b07ab6e2-139a-4fb8-8d0e-8fa05601e9ec",
   "metadata": {},
   "outputs": [],
   "source": [
    "wine = load_wine()\n",
    "wine_X = wine['data']\n",
    "wine_y = wine['target']"
   ]
  },
  {
   "cell_type": "code",
   "execution_count": 25,
   "id": "4a6bab28-9eb8-4804-a5b7-1c54dac4023f",
   "metadata": {},
   "outputs": [
    {
     "data": {
      "text/plain": [
       "{'rand': np.float64(0.6918682155779852),\n",
       " 'mutual info': np.float64(0.41675909240739395),\n",
       " 'silhouette score labels': np.float64(0.20008297882823028),\n",
       " 'silhouette score pred': np.float64(0.5595823478987213)}"
      ]
     },
     "execution_count": 25,
     "metadata": {},
     "output_type": "execute_result"
    }
   ],
   "source": [
    "model = KMeans(n_clusters=3)\n",
    "wine_y_pred = model.fit_predict(wine_X)\n",
    "experiment(wine_X,wine_y,wine_y_pred)"
   ]
  },
  {
   "cell_type": "code",
   "execution_count": 28,
   "id": "ac7f83b1-2108-4458-9ca2-8315d25d96ba",
   "metadata": {},
   "outputs": [
    {
     "data": {
      "text/plain": [
       "{'rand': np.float64(0.7171967244334413),\n",
       " 'mutual info': np.float64(0.40986750565764346),\n",
       " 'silhouette score labels': np.float64(0.20008297882823028),\n",
       " 'silhouette score pred': np.float64(0.5644796401732068)}"
      ]
     },
     "execution_count": 28,
     "metadata": {},
     "output_type": "execute_result"
    }
   ],
   "source": [
    "model = AgglomerativeClustering(n_clusters=3)\n",
    "wine_y_pred = model.fit_predict(wine_X)\n",
    "experiment(wine_X,wine_y,wine_y_pred)"
   ]
  },
  {
   "cell_type": "code",
   "execution_count": 40,
   "id": "49e49c26-f947-472e-a707-677a1bcd335b",
   "metadata": {},
   "outputs": [
    {
     "data": {
      "text/plain": [
       "{'rand': np.float64(0.6295308830064115),\n",
       " 'mutual info': np.float64(0.15498733374888363),\n",
       " 'silhouette score labels': np.float64(0.20008297882823028),\n",
       " 'silhouette score pred': np.float64(0.05494105997636599)}"
      ]
     },
     "execution_count": 40,
     "metadata": {},
     "output_type": "execute_result"
    }
   ],
   "source": [
    "model = DBSCAN(eps=11,min_samples=2)\n",
    "wine_y_pred = model.fit_predict(wine_X)\n",
    "experiment(wine_X,wine_y,wine_y_pred)"
   ]
  },
  {
   "cell_type": "markdown",
   "id": "47aa786b-3c7c-49a4-a268-d4039b60df9a",
   "metadata": {},
   "source": [
    "## MNIST Digits"
   ]
  },
  {
   "cell_type": "code",
   "execution_count": 41,
   "id": "a4ffac13-262e-4ce4-8b47-80f83991e233",
   "metadata": {},
   "outputs": [
    {
     "data": {
      "text/plain": [
       "array([0, 1, 2, ..., 8, 9, 8], shape=(1797,))"
      ]
     },
     "execution_count": 41,
     "metadata": {},
     "output_type": "execute_result"
    }
   ],
   "source": [
    "raw = load_digits()\n",
    "digits_X = raw['data']\n",
    "digits_y = raw['target']\n",
    "digits_y"
   ]
  },
  {
   "cell_type": "code",
   "execution_count": 44,
   "id": "436fabed-84ad-414c-a086-15d73264be08",
   "metadata": {},
   "outputs": [
    {
     "data": {
      "text/plain": [
       "{'rand': np.float64(0.934207966011157),\n",
       " 'mutual info': np.float64(0.7491404252770549),\n",
       " 'silhouette score labels': np.float64(0.1629432052257522),\n",
       " 'silhouette score pred': np.float64(0.18798571449727616)}"
      ]
     },
     "execution_count": 44,
     "metadata": {},
     "output_type": "execute_result"
    }
   ],
   "source": [
    "model = KMeans(n_clusters=10)\n",
    "digits_y_pred = model.fit_predict(digits_X)\n",
    "experiment(digits_X,digits_y,digits_y_pred)"
   ]
  },
  {
   "cell_type": "code",
   "execution_count": 45,
   "id": "ef43a4d7-4062-4c77-ad2d-9ee39c20d89c",
   "metadata": {},
   "outputs": [
    {
     "data": {
      "text/plain": [
       "{'rand': np.float64(0.9612333349445314),\n",
       " 'mutual info': np.float64(0.8668321489750318),\n",
       " 'silhouette score labels': np.float64(0.1629432052257522),\n",
       " 'silhouette score pred': np.float64(0.17849659940596496)}"
      ]
     },
     "execution_count": 45,
     "metadata": {},
     "output_type": "execute_result"
    }
   ],
   "source": [
    "model = AgglomerativeClustering(n_clusters=10)\n",
    "digits_y_pred = model.fit_predict(digits_X)\n",
    "experiment(digits_X,digits_y,digits_y_pred)"
   ]
  },
  {
   "cell_type": "code",
   "execution_count": 55,
   "id": "d7a6a0f0-298e-4ad6-b9b3-a7448b1c9ecd",
   "metadata": {},
   "outputs": [
    {
     "data": {
      "text/plain": [
       "{'rand': np.float64(0.9093725870759606),\n",
       " 'mutual info': np.float64(0.6994601332113471),\n",
       " 'silhouette score labels': np.float64(0.1629432052257522),\n",
       " 'silhouette score pred': np.float64(-0.04239865753176438)}"
      ]
     },
     "execution_count": 55,
     "metadata": {},
     "output_type": "execute_result"
    }
   ],
   "source": [
    "model = DBSCAN(eps=19.9,min_samples=2)\n",
    "digits_y_pred = model.fit_predict(digits_X)\n",
    "experiment(digits_X,digits_y,digits_y_pred)"
   ]
  },
  {
   "cell_type": "markdown",
   "id": "cdf2612d-1766-4f13-bb52-9b24214b8d46",
   "metadata": {},
   "source": [
    "## Olivetti Faces"
   ]
  },
  {
   "cell_type": "code",
   "execution_count": 57,
   "id": "9ea00871-e6c6-43ba-9340-ede2c7eee92c",
   "metadata": {},
   "outputs": [],
   "source": [
    "faces = fetch_olivetti_faces()\n",
    "faces_X = faces['data']\n",
    "faces_y = faces['target']"
   ]
  },
  {
   "cell_type": "code",
   "execution_count": 58,
   "id": "e22a63d6-eeb4-4442-b18a-26656b55ce8f",
   "metadata": {},
   "outputs": [
    {
     "data": {
      "text/plain": [
       "{'rand': np.float64(0.9712907268170426),\n",
       " 'mutual info': np.float64(0.6189573493981656),\n",
       " 'silhouette score labels': np.float32(0.10557363),\n",
       " 'silhouette score pred': np.float32(0.13307951)}"
      ]
     },
     "execution_count": 58,
     "metadata": {},
     "output_type": "execute_result"
    }
   ],
   "source": [
    "model = KMeans(n_clusters=40)\n",
    "faces_y_pred = model.fit_predict(faces_X)\n",
    "experiment(faces_X,faces_y,faces_y_pred)"
   ]
  },
  {
   "cell_type": "code",
   "execution_count": 59,
   "id": "d0c59e75-6eed-40b2-bcae-a4fe82b8ce62",
   "metadata": {},
   "outputs": [
    {
     "data": {
      "text/plain": [
       "{'rand': np.float64(0.9738220551378446),\n",
       " 'mutual info': np.float64(0.6912797228827935),\n",
       " 'silhouette score labels': np.float32(0.10557363),\n",
       " 'silhouette score pred': np.float32(0.16167718)}"
      ]
     },
     "execution_count": 59,
     "metadata": {},
     "output_type": "execute_result"
    }
   ],
   "source": [
    "model = AgglomerativeClustering(n_clusters=40)\n",
    "faces_y_pred = model.fit_predict(faces_X)\n",
    "experiment(faces_X,faces_y,faces_y_pred)"
   ]
  },
  {
   "cell_type": "code",
   "execution_count": 73,
   "id": "a23686f5-5fec-4cd6-a9e6-c786128b7e2e",
   "metadata": {},
   "outputs": [
    {
     "data": {
      "text/plain": [
       "{'rand': np.float64(0.5021052631578947),\n",
       " 'mutual info': np.float64(0.28298119058831434),\n",
       " 'silhouette score labels': np.float32(0.10557363),\n",
       " 'silhouette score pred': np.float32(-0.026768388)}"
      ]
     },
     "execution_count": 73,
     "metadata": {},
     "output_type": "execute_result"
    }
   ],
   "source": [
    "model = DBSCAN(eps=7.9,min_samples=3)\n",
    "faces_y_pred = model.fit_predict(faces_X)\n",
    "experiment(faces_X,faces_y,faces_y_pred)"
   ]
  },
  {
   "cell_type": "code",
   "execution_count": null,
   "id": "b3be40ff-ae0b-4f27-9f3d-1016d208788a",
   "metadata": {},
   "outputs": [],
   "source": []
  },
  {
   "cell_type": "code",
   "execution_count": null,
   "id": "2eb62689-8ad0-4c7f-a8b9-bcad2231db79",
   "metadata": {},
   "outputs": [],
   "source": []
  }
 ],
 "metadata": {
  "kernelspec": {
   "display_name": "Python 3 (ipykernel)",
   "language": "python",
   "name": "python3"
  },
  "language_info": {
   "codemirror_mode": {
    "name": "ipython",
    "version": 3
   },
   "file_extension": ".py",
   "mimetype": "text/x-python",
   "name": "python",
   "nbconvert_exporter": "python",
   "pygments_lexer": "ipython3",
   "version": "3.13.2"
  }
 },
 "nbformat": 4,
 "nbformat_minor": 5
}
