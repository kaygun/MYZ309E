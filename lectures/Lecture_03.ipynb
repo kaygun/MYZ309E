{
 "cells": [
  {
   "cell_type": "code",
   "execution_count": 1,
   "id": "4680644a-479d-4c64-bc44-00bc8612c854",
   "metadata": {},
   "outputs": [],
   "source": [
    "import numpy as np\n",
    "import pandas as pd\n",
    "from scipy import stats\n",
    "\n",
    "from sklearn.cluster import KMeans\n",
    "from sklearn.decomposition import PCA\n",
    "from sklearn.neighbors import KNeighborsClassifier\n",
    "from sklearn.metrics import confusion_matrix, ConfusionMatrixDisplay\n",
    "\n",
    "from statsmodels.formula.api import ols\n",
    "\n",
    "from sklearn import datasets\n",
    "from ucimlrepo import fetch_ucirepo \n",
    "\n",
    "import matplotlib.pyplot as plt\n",
    "from collections import Counter"
   ]
  },
  {
   "cell_type": "markdown",
   "id": "26920089-2f87-48a5-8556-e4fc86062ceb",
   "metadata": {},
   "source": [
    "# Lecture 3"
   ]
  },
  {
   "cell_type": "markdown",
   "id": "e7c778e8-1f38-4db0-bf8c-91c6d2e9792a",
   "metadata": {},
   "source": [
    "# Supervised vs Unsupervised Learning \n",
    "\n",
    "Recall that our job in data science is to come up with models that approximates our data in simple terms. There are two main types of machine learning models we will use\n",
    "\n",
    "1. Supervised\n",
    "2. Unsupervised\n",
    "\n",
    "## Supervised Learning\n",
    "\n",
    "In the simplest terms, if our task is to understand/predict a collection of data points (the response variables, the dependent variables) in terms of other data points (the independent variables), then we are tasked with solving a supervised learning problem. We need to come up with a mathematical/statistical/computational model that explains the response variable in terms of the independent variables. The type of the response variable also is important. If the response variable is categorical then the problem is called a classification problem.\n",
    "\n",
    "### Regression (again)\n",
    "\n",
    "In supervised learning models we have input/output pairs, and our model must approximate an output from a given input."
   ]
  },
  {
   "cell_type": "code",
   "execution_count": 2,
   "id": "8c550ae3-cc89-46de-a971-6c155422aa36",
   "metadata": {},
   "outputs": [],
   "source": [
    "xs = np.array([-0.99, -0.85, -0.16,  0.15,  0.27,  0.36,  0.55,  0.6 ,  0.83,  0.84])\n",
    "ys = np.array([-0.75, -1.  ,  0.5 ,  1.32,  1.52,  1.69,  2.43,  2.07,  3.02,  2.82])"
   ]
  },
  {
   "cell_type": "code",
   "execution_count": 6,
   "id": "3cc5633e-ca7f-4bbd-8ea5-25773510f6cc",
   "metadata": {},
   "outputs": [
    {
     "data": {
      "text/plain": [
       "(np.float64(2.132012146396037), np.float64(1.0208780565766342))"
      ]
     },
     "execution_count": 6,
     "metadata": {},
     "output_type": "execute_result"
    }
   ],
   "source": [
    "m,b = np.polyfit(xs,ys,deg=1)\n",
    "m,b"
   ]
  },
  {
   "cell_type": "code",
   "execution_count": 7,
   "id": "12071d56-76b3-45af-89e2-a8442ef1a908",
   "metadata": {},
   "outputs": [
    {
     "data": {
      "text/plain": [
       "array([-1.08981397, -0.79133227,  0.67975611,  1.34067988,  1.59652134,\n",
       "        1.78840243,  2.19348474,  2.30008534,  2.79044814,  2.81176826])"
      ]
     },
     "execution_count": 7,
     "metadata": {},
     "output_type": "execute_result"
    }
   ],
   "source": [
    "pred = m*xs + b\n",
    "pred"
   ]
  },
  {
   "cell_type": "code",
   "execution_count": 8,
   "id": "1a1d58de-4896-42a8-b37e-f428e28616b5",
   "metadata": {},
   "outputs": [
    {
     "data": {
      "text/plain": [
       "[<matplotlib.lines.Line2D at 0x749d0a8034d0>]"
      ]
     },
     "execution_count": 8,
     "metadata": {},
     "output_type": "execute_result"
    },
    {
     "data": {
      "image/png": "[encoded data removed]",
      "text/plain": [
       "<Figure size 640x480 with 1 Axes>"
      ]
     },
     "metadata": {},
     "output_type": "display_data"
    }
   ],
   "source": [
    "plt.scatter(xs,ys)\n",
    "plt.plot(xs,pred,c='red')"
   ]
  },
  {
   "cell_type": "code",
   "execution_count": 13,
   "id": "6b87e7a6-4b56-4309-9186-d033eb8a4c29",
   "metadata": {},
   "outputs": [
    {
     "data": {
      "text/html": [
       "<div>\n",
       "<style scoped>\n",
       "    .dataframe tbody tr th:only-of-type {\n",
       "        vertical-align: middle;\n",
       "    }\n",
       "\n",
       "    .dataframe tbody tr th {\n",
       "        vertical-align: top;\n",
       "    }\n",
       "\n",
       "    .dataframe thead th {\n",
       "        text-align: right;\n",
       "    }\n",
       "</style>\n",
       "<table border=\"1\" class=\"dataframe\">\n",
       "  <thead>\n",
       "    <tr style=\"text-align: right;\">\n",
       "      <th></th>\n",
       "      <th>xs</th>\n",
       "      <th>ys</th>\n",
       "      <th>pred</th>\n",
       "      <th>err</th>\n",
       "    </tr>\n",
       "  </thead>\n",
       "  <tbody>\n",
       "    <tr>\n",
       "      <th>0</th>\n",
       "      <td>-0.99</td>\n",
       "      <td>-0.75</td>\n",
       "      <td>-1.089814</td>\n",
       "      <td>0.115474</td>\n",
       "    </tr>\n",
       "    <tr>\n",
       "      <th>1</th>\n",
       "      <td>-0.85</td>\n",
       "      <td>-1.00</td>\n",
       "      <td>-0.791332</td>\n",
       "      <td>0.043542</td>\n",
       "    </tr>\n",
       "    <tr>\n",
       "      <th>2</th>\n",
       "      <td>-0.16</td>\n",
       "      <td>0.50</td>\n",
       "      <td>0.679756</td>\n",
       "      <td>0.032312</td>\n",
       "    </tr>\n",
       "    <tr>\n",
       "      <th>3</th>\n",
       "      <td>0.15</td>\n",
       "      <td>1.32</td>\n",
       "      <td>1.340680</td>\n",
       "      <td>0.000428</td>\n",
       "    </tr>\n",
       "    <tr>\n",
       "      <th>4</th>\n",
       "      <td>0.27</td>\n",
       "      <td>1.52</td>\n",
       "      <td>1.596521</td>\n",
       "      <td>0.005856</td>\n",
       "    </tr>\n",
       "    <tr>\n",
       "      <th>5</th>\n",
       "      <td>0.36</td>\n",
       "      <td>1.69</td>\n",
       "      <td>1.788402</td>\n",
       "      <td>0.009683</td>\n",
       "    </tr>\n",
       "    <tr>\n",
       "      <th>6</th>\n",
       "      <td>0.55</td>\n",
       "      <td>2.43</td>\n",
       "      <td>2.193485</td>\n",
       "      <td>0.055939</td>\n",
       "    </tr>\n",
       "    <tr>\n",
       "      <th>7</th>\n",
       "      <td>0.60</td>\n",
       "      <td>2.07</td>\n",
       "      <td>2.300085</td>\n",
       "      <td>0.052939</td>\n",
       "    </tr>\n",
       "    <tr>\n",
       "      <th>8</th>\n",
       "      <td>0.83</td>\n",
       "      <td>3.02</td>\n",
       "      <td>2.790448</td>\n",
       "      <td>0.052694</td>\n",
       "    </tr>\n",
       "    <tr>\n",
       "      <th>9</th>\n",
       "      <td>0.84</td>\n",
       "      <td>2.82</td>\n",
       "      <td>2.811768</td>\n",
       "      <td>0.000068</td>\n",
       "    </tr>\n",
       "  </tbody>\n",
       "</table>\n",
       "</div>"
      ],
      "text/plain": [
       "     xs    ys      pred       err\n",
       "0 -0.99 -0.75 -1.089814  0.115474\n",
       "1 -0.85 -1.00 -0.791332  0.043542\n",
       "2 -0.16  0.50  0.679756  0.032312\n",
       "3  0.15  1.32  1.340680  0.000428\n",
       "4  0.27  1.52  1.596521  0.005856\n",
       "5  0.36  1.69  1.788402  0.009683\n",
       "6  0.55  2.43  2.193485  0.055939\n",
       "7  0.60  2.07  2.300085  0.052939\n",
       "8  0.83  3.02  2.790448  0.052694\n",
       "9  0.84  2.82  2.811768  0.000068"
      ]
     },
     "execution_count": 13,
     "metadata": {},
     "output_type": "execute_result"
    }
   ],
   "source": [
    "pd.DataFrame({'xs': xs, 'ys': ys, 'pred': pred, 'err': (ys-pred)**2})"
   ]
  },
  {
   "cell_type": "markdown",
   "id": "6fb11758-5333-458d-90dd-ebaac941fff3",
   "metadata": {},
   "source": [
    "In a supervised setting we have a natural error measure: the difference between input and the output. Our aim is to find the model parameter $\\theta$ that makes the total error minimized:\n",
    "\n",
    "$$ {\\rm Err}(\\theta) = \\sum_{i=1}^N (y^{(i)}_{\\rm real} - y^{(i)}_{\\rm pred})^2 $$\n",
    "\n",
    "Remember that the predictions depend on the model parameter $\\theta$. We are looking the best $\\theta$ that minimizes the error: $ \\theta = {\\rm argmin}_\\theta {\\rm Err}(\\theta) $"
   ]
  },
  {
   "cell_type": "markdown",
   "id": "df87cbda-13b6-40a8-943b-b37f0da0d15c",
   "metadata": {},
   "source": [
    "### A New Example: k-Nearest Neighbor\n",
    "\n",
    "Let $k$ be a fixed positive integer. K-Nearest Neighbors (K-NN) is a non-parametric, instance-based learning algorithm used for classification. It works by assigning the class of the majority of the $k$ nearest neighbors. K-NN does not require training but it stores the entire dataset and computes distances during prediction.\n",
    "\n",
    "Given a dataset of $N$ points $ X = \\{ (x^{(1)}, y_1), (x^{(2)}, y_2), ..., (x^{(n)}, y_n)$ where $x^{(i)}$'s are features and $y_i$'s are the corresponding labels.\n",
    "\n",
    "For a new query point $x$, the K-NN algorithm follows these steps:\n",
    "\n",
    "1. Compute the distance between $x$ and every point $x^{(i)}$ in the dataset.\n",
    "2. Select the k nearest neighbors based on the smallest distances.\n",
    "3. Assign $x$ the most common class among the neighbors (majority voting):\n",
    "   $$\n",
    "   \\hat{y} = \\arg\\max_{c} \\sum_{i \\in N_k(x)} \\mathbb{1}(y_i = c)\n",
    "   $$\n",
    "\n",
    "   where $\\mathbb{1}(\\cdot)$ is the indicator function and $N_k(x)$ is the set of k nearest neighbors.\n",
    "\n",
    "### The pseudo-code\n",
    "\n",
    "```plaintext\n",
    "Input:\n",
    "    - Training set X = {(x_1, y_1), ..., (x_n, y_n)}\n",
    "    - Query point x_q\n",
    "    - Number of neighbors k\n",
    "    - Distance metric (default: Euclidean)\n",
    "\n",
    "Output:\n",
    "    - Predicted labels\n",
    "\n",
    "Algorithm:\n",
    "1. Compute the distance between $x$ and each point $x^{(i)}$ in the dataset.\n",
    "2. Sort the points by increasing distance.\n",
    "3. Select the k nearest neighbors.\n",
    "4. Assign the most frequent class among the k neighbors.\n",
    "5. Return the predicted class.\n",
    "```"
   ]
  },
  {
   "cell_type": "code",
   "execution_count": 14,
   "id": "f9e14d51-b31c-49d3-8bff-bf3b760cf778",
   "metadata": {
    "scrolled": true
   },
   "outputs": [
    {
     "data": {
      "text/plain": [
       "array([[5.1, 3.5, 1.4, 0.2],\n",
       "       [4.9, 3. , 1.4, 0.2],\n",
       "       [4.7, 3.2, 1.3, 0.2],\n",
       "       [4.6, 3.1, 1.5, 0.2],\n",
       "       [5. , 3.6, 1.4, 0.2],\n",
       "       [5.4, 3.9, 1.7, 0.4],\n",
       "       [4.6, 3.4, 1.4, 0.3],\n",
       "       [5. , 3.4, 1.5, 0.2],\n",
       "       [4.4, 2.9, 1.4, 0.2],\n",
       "       [4.9, 3.1, 1.5, 0.1],\n",
       "       [5.4, 3.7, 1.5, 0.2],\n",
       "       [4.8, 3.4, 1.6, 0.2],\n",
       "       [4.8, 3. , 1.4, 0.1],\n",
       "       [4.3, 3. , 1.1, 0.1],\n",
       "       [5.8, 4. , 1.2, 0.2],\n",
       "       [5.7, 4.4, 1.5, 0.4],\n",
       "       [5.4, 3.9, 1.3, 0.4],\n",
       "       [5.1, 3.5, 1.4, 0.3],\n",
       "       [5.7, 3.8, 1.7, 0.3],\n",
       "       [5.1, 3.8, 1.5, 0.3],\n",
       "       [5.4, 3.4, 1.7, 0.2],\n",
       "       [5.1, 3.7, 1.5, 0.4],\n",
       "       [4.6, 3.6, 1. , 0.2],\n",
       "       [5.1, 3.3, 1.7, 0.5],\n",
       "       [4.8, 3.4, 1.9, 0.2],\n",
       "       [5. , 3. , 1.6, 0.2],\n",
       "       [5. , 3.4, 1.6, 0.4],\n",
       "       [5.2, 3.5, 1.5, 0.2],\n",
       "       [5.2, 3.4, 1.4, 0.2],\n",
       "       [4.7, 3.2, 1.6, 0.2],\n",
       "       [4.8, 3.1, 1.6, 0.2],\n",
       "       [5.4, 3.4, 1.5, 0.4],\n",
       "       [5.2, 4.1, 1.5, 0.1],\n",
       "       [5.5, 4.2, 1.4, 0.2],\n",
       "       [4.9, 3.1, 1.5, 0.2],\n",
       "       [5. , 3.2, 1.2, 0.2],\n",
       "       [5.5, 3.5, 1.3, 0.2],\n",
       "       [4.9, 3.6, 1.4, 0.1],\n",
       "       [4.4, 3. , 1.3, 0.2],\n",
       "       [5.1, 3.4, 1.5, 0.2],\n",
       "       [5. , 3.5, 1.3, 0.3],\n",
       "       [4.5, 2.3, 1.3, 0.3],\n",
       "       [4.4, 3.2, 1.3, 0.2],\n",
       "       [5. , 3.5, 1.6, 0.6],\n",
       "       [5.1, 3.8, 1.9, 0.4],\n",
       "       [4.8, 3. , 1.4, 0.3],\n",
       "       [5.1, 3.8, 1.6, 0.2],\n",
       "       [4.6, 3.2, 1.4, 0.2],\n",
       "       [5.3, 3.7, 1.5, 0.2],\n",
       "       [5. , 3.3, 1.4, 0.2],\n",
       "       [7. , 3.2, 4.7, 1.4],\n",
       "       [6.4, 3.2, 4.5, 1.5],\n",
       "       [6.9, 3.1, 4.9, 1.5],\n",
       "       [5.5, 2.3, 4. , 1.3],\n",
       "       [6.5, 2.8, 4.6, 1.5],\n",
       "       [5.7, 2.8, 4.5, 1.3],\n",
       "       [6.3, 3.3, 4.7, 1.6],\n",
       "       [4.9, 2.4, 3.3, 1. ],\n",
       "       [6.6, 2.9, 4.6, 1.3],\n",
       "       [5.2, 2.7, 3.9, 1.4],\n",
       "       [5. , 2. , 3.5, 1. ],\n",
       "       [5.9, 3. , 4.2, 1.5],\n",
       "       [6. , 2.2, 4. , 1. ],\n",
       "       [6.1, 2.9, 4.7, 1.4],\n",
       "       [5.6, 2.9, 3.6, 1.3],\n",
       "       [6.7, 3.1, 4.4, 1.4],\n",
       "       [5.6, 3. , 4.5, 1.5],\n",
       "       [5.8, 2.7, 4.1, 1. ],\n",
       "       [6.2, 2.2, 4.5, 1.5],\n",
       "       [5.6, 2.5, 3.9, 1.1],\n",
       "       [5.9, 3.2, 4.8, 1.8],\n",
       "       [6.1, 2.8, 4. , 1.3],\n",
       "       [6.3, 2.5, 4.9, 1.5],\n",
       "       [6.1, 2.8, 4.7, 1.2],\n",
       "       [6.4, 2.9, 4.3, 1.3],\n",
       "       [6.6, 3. , 4.4, 1.4],\n",
       "       [6.8, 2.8, 4.8, 1.4],\n",
       "       [6.7, 3. , 5. , 1.7],\n",
       "       [6. , 2.9, 4.5, 1.5],\n",
       "       [5.7, 2.6, 3.5, 1. ],\n",
       "       [5.5, 2.4, 3.8, 1.1],\n",
       "       [5.5, 2.4, 3.7, 1. ],\n",
       "       [5.8, 2.7, 3.9, 1.2],\n",
       "       [6. , 2.7, 5.1, 1.6],\n",
       "       [5.4, 3. , 4.5, 1.5],\n",
       "       [6. , 3.4, 4.5, 1.6],\n",
       "       [6.7, 3.1, 4.7, 1.5],\n",
       "       [6.3, 2.3, 4.4, 1.3],\n",
       "       [5.6, 3. , 4.1, 1.3],\n",
       "       [5.5, 2.5, 4. , 1.3],\n",
       "       [5.5, 2.6, 4.4, 1.2],\n",
       "       [6.1, 3. , 4.6, 1.4],\n",
       "       [5.8, 2.6, 4. , 1.2],\n",
       "       [5. , 2.3, 3.3, 1. ],\n",
       "       [5.6, 2.7, 4.2, 1.3],\n",
       "       [5.7, 3. , 4.2, 1.2],\n",
       "       [5.7, 2.9, 4.2, 1.3],\n",
       "       [6.2, 2.9, 4.3, 1.3],\n",
       "       [5.1, 2.5, 3. , 1.1],\n",
       "       [5.7, 2.8, 4.1, 1.3],\n",
       "       [6.3, 3.3, 6. , 2.5],\n",
       "       [5.8, 2.7, 5.1, 1.9],\n",
       "       [7.1, 3. , 5.9, 2.1],\n",
       "       [6.3, 2.9, 5.6, 1.8],\n",
       "       [6.5, 3. , 5.8, 2.2],\n",
       "       [7.6, 3. , 6.6, 2.1],\n",
       "       [4.9, 2.5, 4.5, 1.7],\n",
       "       [7.3, 2.9, 6.3, 1.8],\n",
       "       [6.7, 2.5, 5.8, 1.8],\n",
       "       [7.2, 3.6, 6.1, 2.5],\n",
       "       [6.5, 3.2, 5.1, 2. ],\n",
       "       [6.4, 2.7, 5.3, 1.9],\n",
       "       [6.8, 3. , 5.5, 2.1],\n",
       "       [5.7, 2.5, 5. , 2. ],\n",
       "       [5.8, 2.8, 5.1, 2.4],\n",
       "       [6.4, 3.2, 5.3, 2.3],\n",
       "       [6.5, 3. , 5.5, 1.8],\n",
       "       [7.7, 3.8, 6.7, 2.2],\n",
       "       [7.7, 2.6, 6.9, 2.3],\n",
       "       [6. , 2.2, 5. , 1.5],\n",
       "       [6.9, 3.2, 5.7, 2.3],\n",
       "       [5.6, 2.8, 4.9, 2. ],\n",
       "       [7.7, 2.8, 6.7, 2. ],\n",
       "       [6.3, 2.7, 4.9, 1.8],\n",
       "       [6.7, 3.3, 5.7, 2.1],\n",
       "       [7.2, 3.2, 6. , 1.8],\n",
       "       [6.2, 2.8, 4.8, 1.8],\n",
       "       [6.1, 3. , 4.9, 1.8],\n",
       "       [6.4, 2.8, 5.6, 2.1],\n",
       "       [7.2, 3. , 5.8, 1.6],\n",
       "       [7.4, 2.8, 6.1, 1.9],\n",
       "       [7.9, 3.8, 6.4, 2. ],\n",
       "       [6.4, 2.8, 5.6, 2.2],\n",
       "       [6.3, 2.8, 5.1, 1.5],\n",
       "       [6.1, 2.6, 5.6, 1.4],\n",
       "       [7.7, 3. , 6.1, 2.3],\n",
       "       [6.3, 3.4, 5.6, 2.4],\n",
       "       [6.4, 3.1, 5.5, 1.8],\n",
       "       [6. , 3. , 4.8, 1.8],\n",
       "       [6.9, 3.1, 5.4, 2.1],\n",
       "       [6.7, 3.1, 5.6, 2.4],\n",
       "       [6.9, 3.1, 5.1, 2.3],\n",
       "       [5.8, 2.7, 5.1, 1.9],\n",
       "       [6.8, 3.2, 5.9, 2.3],\n",
       "       [6.7, 3.3, 5.7, 2.5],\n",
       "       [6.7, 3. , 5.2, 2.3],\n",
       "       [6.3, 2.5, 5. , 1.9],\n",
       "       [6.5, 3. , 5.2, 2. ],\n",
       "       [6.2, 3.4, 5.4, 2.3],\n",
       "       [5.9, 3. , 5.1, 1.8]])"
      ]
     },
     "execution_count": 14,
     "metadata": {},
     "output_type": "execute_result"
    }
   ],
   "source": [
    "iris = datasets.load_iris()\n",
    "iris['data']"
   ]
  },
  {
   "cell_type": "code",
   "execution_count": 15,
   "id": "b9aa55c2-97d2-4158-9b14-5fc23d3a73cd",
   "metadata": {
    "scrolled": true
   },
   "outputs": [
    {
     "data": {
      "text/plain": [
       "array([[-2.68412563,  0.31939725],\n",
       "       [-2.71414169, -0.17700123],\n",
       "       [-2.88899057, -0.14494943],\n",
       "       [-2.74534286, -0.31829898],\n",
       "       [-2.72871654,  0.32675451],\n",
       "       [-2.28085963,  0.74133045],\n",
       "       [-2.82053775, -0.08946138],\n",
       "       [-2.62614497,  0.16338496],\n",
       "       [-2.88638273, -0.57831175],\n",
       "       [-2.6727558 , -0.11377425],\n",
       "       [-2.50694709,  0.6450689 ],\n",
       "       [-2.61275523,  0.01472994],\n",
       "       [-2.78610927, -0.235112  ],\n",
       "       [-3.22380374, -0.51139459],\n",
       "       [-2.64475039,  1.17876464],\n",
       "       [-2.38603903,  1.33806233],\n",
       "       [-2.62352788,  0.81067951],\n",
       "       [-2.64829671,  0.31184914],\n",
       "       [-2.19982032,  0.87283904],\n",
       "       [-2.5879864 ,  0.51356031],\n",
       "       [-2.31025622,  0.39134594],\n",
       "       [-2.54370523,  0.43299606],\n",
       "       [-3.21593942,  0.13346807],\n",
       "       [-2.30273318,  0.09870885],\n",
       "       [-2.35575405, -0.03728186],\n",
       "       [-2.50666891, -0.14601688],\n",
       "       [-2.46882007,  0.13095149],\n",
       "       [-2.56231991,  0.36771886],\n",
       "       [-2.63953472,  0.31203998],\n",
       "       [-2.63198939, -0.19696122],\n",
       "       [-2.58739848, -0.20431849],\n",
       "       [-2.4099325 ,  0.41092426],\n",
       "       [-2.64886233,  0.81336382],\n",
       "       [-2.59873675,  1.09314576],\n",
       "       [-2.63692688, -0.12132235],\n",
       "       [-2.86624165,  0.06936447],\n",
       "       [-2.62523805,  0.59937002],\n",
       "       [-2.80068412,  0.26864374],\n",
       "       [-2.98050204, -0.48795834],\n",
       "       [-2.59000631,  0.22904384],\n",
       "       [-2.77010243,  0.26352753],\n",
       "       [-2.84936871, -0.94096057],\n",
       "       [-2.99740655, -0.34192606],\n",
       "       [-2.40561449,  0.18887143],\n",
       "       [-2.20948924,  0.43666314],\n",
       "       [-2.71445143, -0.2502082 ],\n",
       "       [-2.53814826,  0.50377114],\n",
       "       [-2.83946217, -0.22794557],\n",
       "       [-2.54308575,  0.57941002],\n",
       "       [-2.70335978,  0.10770608],\n",
       "       [ 1.28482569,  0.68516047],\n",
       "       [ 0.93248853,  0.31833364],\n",
       "       [ 1.46430232,  0.50426282],\n",
       "       [ 0.18331772, -0.82795901],\n",
       "       [ 1.08810326,  0.07459068],\n",
       "       [ 0.64166908, -0.41824687],\n",
       "       [ 1.09506066,  0.28346827],\n",
       "       [-0.74912267, -1.00489096],\n",
       "       [ 1.04413183,  0.2283619 ],\n",
       "       [-0.0087454 , -0.72308191],\n",
       "       [-0.50784088, -1.26597119],\n",
       "       [ 0.51169856, -0.10398124],\n",
       "       [ 0.26497651, -0.55003646],\n",
       "       [ 0.98493451, -0.12481785],\n",
       "       [-0.17392537, -0.25485421],\n",
       "       [ 0.92786078,  0.46717949],\n",
       "       [ 0.66028376, -0.35296967],\n",
       "       [ 0.23610499, -0.33361077],\n",
       "       [ 0.94473373, -0.54314555],\n",
       "       [ 0.04522698, -0.58383438],\n",
       "       [ 1.11628318, -0.08461685],\n",
       "       [ 0.35788842, -0.06892503],\n",
       "       [ 1.29818388, -0.32778731],\n",
       "       [ 0.92172892, -0.18273779],\n",
       "       [ 0.71485333,  0.14905594],\n",
       "       [ 0.90017437,  0.32850447],\n",
       "       [ 1.33202444,  0.24444088],\n",
       "       [ 1.55780216,  0.26749545],\n",
       "       [ 0.81329065, -0.1633503 ],\n",
       "       [-0.30558378, -0.36826219],\n",
       "       [-0.06812649, -0.70517213],\n",
       "       [-0.18962247, -0.68028676],\n",
       "       [ 0.13642871, -0.31403244],\n",
       "       [ 1.38002644, -0.42095429],\n",
       "       [ 0.58800644, -0.48428742],\n",
       "       [ 0.80685831,  0.19418231],\n",
       "       [ 1.22069088,  0.40761959],\n",
       "       [ 0.81509524, -0.37203706],\n",
       "       [ 0.24595768, -0.2685244 ],\n",
       "       [ 0.16641322, -0.68192672],\n",
       "       [ 0.46480029, -0.67071154],\n",
       "       [ 0.8908152 , -0.03446444],\n",
       "       [ 0.23054802, -0.40438585],\n",
       "       [-0.70453176, -1.01224823],\n",
       "       [ 0.35698149, -0.50491009],\n",
       "       [ 0.33193448, -0.21265468],\n",
       "       [ 0.37621565, -0.29321893],\n",
       "       [ 0.64257601,  0.01773819],\n",
       "       [-0.90646986, -0.75609337],\n",
       "       [ 0.29900084, -0.34889781],\n",
       "       [ 2.53119273, -0.00984911],\n",
       "       [ 1.41523588, -0.57491635],\n",
       "       [ 2.61667602,  0.34390315],\n",
       "       [ 1.97153105, -0.1797279 ],\n",
       "       [ 2.35000592, -0.04026095],\n",
       "       [ 3.39703874,  0.55083667],\n",
       "       [ 0.52123224, -1.19275873],\n",
       "       [ 2.93258707,  0.3555    ],\n",
       "       [ 2.32122882, -0.2438315 ],\n",
       "       [ 2.91675097,  0.78279195],\n",
       "       [ 1.66177415,  0.24222841],\n",
       "       [ 1.80340195, -0.21563762],\n",
       "       [ 2.1655918 ,  0.21627559],\n",
       "       [ 1.34616358, -0.77681835],\n",
       "       [ 1.58592822, -0.53964071],\n",
       "       [ 1.90445637,  0.11925069],\n",
       "       [ 1.94968906,  0.04194326],\n",
       "       [ 3.48705536,  1.17573933],\n",
       "       [ 3.79564542,  0.25732297],\n",
       "       [ 1.30079171, -0.76114964],\n",
       "       [ 2.42781791,  0.37819601],\n",
       "       [ 1.19900111, -0.60609153],\n",
       "       [ 3.49992004,  0.4606741 ],\n",
       "       [ 1.38876613, -0.20439933],\n",
       "       [ 2.2754305 ,  0.33499061],\n",
       "       [ 2.61409047,  0.56090136],\n",
       "       [ 1.25850816, -0.17970479],\n",
       "       [ 1.29113206, -0.11666865],\n",
       "       [ 2.12360872, -0.20972948],\n",
       "       [ 2.38800302,  0.4646398 ],\n",
       "       [ 2.84167278,  0.37526917],\n",
       "       [ 3.23067366,  1.37416509],\n",
       "       [ 2.15943764, -0.21727758],\n",
       "       [ 1.44416124, -0.14341341],\n",
       "       [ 1.78129481, -0.49990168],\n",
       "       [ 3.07649993,  0.68808568],\n",
       "       [ 2.14424331,  0.1400642 ],\n",
       "       [ 1.90509815,  0.04930053],\n",
       "       [ 1.16932634, -0.16499026],\n",
       "       [ 2.10761114,  0.37228787],\n",
       "       [ 2.31415471,  0.18365128],\n",
       "       [ 1.9222678 ,  0.40920347],\n",
       "       [ 1.41523588, -0.57491635],\n",
       "       [ 2.56301338,  0.2778626 ],\n",
       "       [ 2.41874618,  0.3047982 ],\n",
       "       [ 1.94410979,  0.1875323 ],\n",
       "       [ 1.52716661, -0.37531698],\n",
       "       [ 1.76434572,  0.07885885],\n",
       "       [ 1.90094161,  0.11662796],\n",
       "       [ 1.39018886, -0.28266094]])"
      ]
     },
     "execution_count": 15,
     "metadata": {},
     "output_type": "execute_result"
    }
   ],
   "source": [
    "proj = PCA(n_components=2)\n",
    "projected = proj.fit_transform(iris['data'])\n",
    "projected"
   ]
  },
  {
   "cell_type": "code",
   "execution_count": 16,
   "id": "c05f0540-eff1-46b3-8f8b-ee4c7f968dc0",
   "metadata": {},
   "outputs": [
    {
     "data": {
      "text/plain": [
       "array([0, 0, 0, 0, 0, 0, 0, 0, 0, 0, 0, 0, 0, 0, 0, 0, 0, 0, 0, 0, 0, 0,\n",
       "       0, 0, 0, 0, 0, 0, 0, 0, 0, 0, 0, 0, 0, 0, 0, 0, 0, 0, 0, 0, 0, 0,\n",
       "       0, 0, 0, 0, 0, 0, 1, 1, 1, 1, 1, 1, 1, 1, 1, 1, 1, 1, 1, 1, 1, 1,\n",
       "       1, 1, 1, 1, 2, 1, 2, 1, 1, 1, 1, 1, 1, 1, 1, 1, 1, 2, 1, 1, 1, 1,\n",
       "       1, 1, 1, 1, 1, 1, 1, 1, 1, 1, 1, 1, 2, 2, 2, 2, 2, 2, 1, 2, 2, 2,\n",
       "       2, 2, 2, 2, 2, 2, 2, 2, 2, 1, 2, 2, 2, 2, 2, 2, 2, 2, 2, 2, 2, 2,\n",
       "       2, 1, 2, 2, 2, 2, 2, 2, 2, 2, 2, 2, 2, 2, 2, 2, 2, 2])"
      ]
     },
     "execution_count": 16,
     "metadata": {},
     "output_type": "execute_result"
    }
   ],
   "source": [
    "model = KNeighborsClassifier(n_neighbors=3)\n",
    "data = model.fit(iris['data'], iris['target'])\n",
    "pred = model.predict(iris['data'])\n",
    "pred"
   ]
  },
  {
   "cell_type": "code",
   "execution_count": 17,
   "id": "017d3c2a-c5db-4417-ba9f-66001a94d5bb",
   "metadata": {},
   "outputs": [
    {
     "data": {
      "text/html": [
       "<div>\n",
       "<style scoped>\n",
       "    .dataframe tbody tr th:only-of-type {\n",
       "        vertical-align: middle;\n",
       "    }\n",
       "\n",
       "    .dataframe tbody tr th {\n",
       "        vertical-align: top;\n",
       "    }\n",
       "\n",
       "    .dataframe thead th {\n",
       "        text-align: right;\n",
       "    }\n",
       "</style>\n",
       "<table border=\"1\" class=\"dataframe\">\n",
       "  <thead>\n",
       "    <tr style=\"text-align: right;\">\n",
       "      <th></th>\n",
       "      <th>sepal length (cm)</th>\n",
       "      <th>sepal width (cm)</th>\n",
       "      <th>petal length (cm)</th>\n",
       "      <th>petal width (cm)</th>\n",
       "      <th>pred</th>\n",
       "      <th>x</th>\n",
       "      <th>y</th>\n",
       "    </tr>\n",
       "  </thead>\n",
       "  <tbody>\n",
       "    <tr>\n",
       "      <th>0</th>\n",
       "      <td>5.1</td>\n",
       "      <td>3.5</td>\n",
       "      <td>1.4</td>\n",
       "      <td>0.2</td>\n",
       "      <td>0</td>\n",
       "      <td>-2.684126</td>\n",
       "      <td>0.319397</td>\n",
       "    </tr>\n",
       "    <tr>\n",
       "      <th>1</th>\n",
       "      <td>4.9</td>\n",
       "      <td>3.0</td>\n",
       "      <td>1.4</td>\n",
       "      <td>0.2</td>\n",
       "      <td>0</td>\n",
       "      <td>-2.714142</td>\n",
       "      <td>-0.177001</td>\n",
       "    </tr>\n",
       "    <tr>\n",
       "      <th>2</th>\n",
       "      <td>4.7</td>\n",
       "      <td>3.2</td>\n",
       "      <td>1.3</td>\n",
       "      <td>0.2</td>\n",
       "      <td>0</td>\n",
       "      <td>-2.888991</td>\n",
       "      <td>-0.144949</td>\n",
       "    </tr>\n",
       "    <tr>\n",
       "      <th>3</th>\n",
       "      <td>4.6</td>\n",
       "      <td>3.1</td>\n",
       "      <td>1.5</td>\n",
       "      <td>0.2</td>\n",
       "      <td>0</td>\n",
       "      <td>-2.745343</td>\n",
       "      <td>-0.318299</td>\n",
       "    </tr>\n",
       "    <tr>\n",
       "      <th>4</th>\n",
       "      <td>5.0</td>\n",
       "      <td>3.6</td>\n",
       "      <td>1.4</td>\n",
       "      <td>0.2</td>\n",
       "      <td>0</td>\n",
       "      <td>-2.728717</td>\n",
       "      <td>0.326755</td>\n",
       "    </tr>\n",
       "    <tr>\n",
       "      <th>...</th>\n",
       "      <td>...</td>\n",
       "      <td>...</td>\n",
       "      <td>...</td>\n",
       "      <td>...</td>\n",
       "      <td>...</td>\n",
       "      <td>...</td>\n",
       "      <td>...</td>\n",
       "    </tr>\n",
       "    <tr>\n",
       "      <th>145</th>\n",
       "      <td>6.7</td>\n",
       "      <td>3.0</td>\n",
       "      <td>5.2</td>\n",
       "      <td>2.3</td>\n",
       "      <td>2</td>\n",
       "      <td>1.944110</td>\n",
       "      <td>0.187532</td>\n",
       "    </tr>\n",
       "    <tr>\n",
       "      <th>146</th>\n",
       "      <td>6.3</td>\n",
       "      <td>2.5</td>\n",
       "      <td>5.0</td>\n",
       "      <td>1.9</td>\n",
       "      <td>2</td>\n",
       "      <td>1.527167</td>\n",
       "      <td>-0.375317</td>\n",
       "    </tr>\n",
       "    <tr>\n",
       "      <th>147</th>\n",
       "      <td>6.5</td>\n",
       "      <td>3.0</td>\n",
       "      <td>5.2</td>\n",
       "      <td>2.0</td>\n",
       "      <td>2</td>\n",
       "      <td>1.764346</td>\n",
       "      <td>0.078859</td>\n",
       "    </tr>\n",
       "    <tr>\n",
       "      <th>148</th>\n",
       "      <td>6.2</td>\n",
       "      <td>3.4</td>\n",
       "      <td>5.4</td>\n",
       "      <td>2.3</td>\n",
       "      <td>2</td>\n",
       "      <td>1.900942</td>\n",
       "      <td>0.116628</td>\n",
       "    </tr>\n",
       "    <tr>\n",
       "      <th>149</th>\n",
       "      <td>5.9</td>\n",
       "      <td>3.0</td>\n",
       "      <td>5.1</td>\n",
       "      <td>1.8</td>\n",
       "      <td>2</td>\n",
       "      <td>1.390189</td>\n",
       "      <td>-0.282661</td>\n",
       "    </tr>\n",
       "  </tbody>\n",
       "</table>\n",
       "<p>150 rows × 7 columns</p>\n",
       "</div>"
      ],
      "text/plain": [
       "     sepal length (cm)  sepal width (cm)  petal length (cm)  petal width (cm)  \\\n",
       "0                  5.1               3.5                1.4               0.2   \n",
       "1                  4.9               3.0                1.4               0.2   \n",
       "2                  4.7               3.2                1.3               0.2   \n",
       "3                  4.6               3.1                1.5               0.2   \n",
       "4                  5.0               3.6                1.4               0.2   \n",
       "..                 ...               ...                ...               ...   \n",
       "145                6.7               3.0                5.2               2.3   \n",
       "146                6.3               2.5                5.0               1.9   \n",
       "147                6.5               3.0                5.2               2.0   \n",
       "148                6.2               3.4                5.4               2.3   \n",
       "149                5.9               3.0                5.1               1.8   \n",
       "\n",
       "     pred         x         y  \n",
       "0       0 -2.684126  0.319397  \n",
       "1       0 -2.714142 -0.177001  \n",
       "2       0 -2.888991 -0.144949  \n",
       "3       0 -2.745343 -0.318299  \n",
       "4       0 -2.728717  0.326755  \n",
       "..    ...       ...       ...  \n",
       "145     2  1.944110  0.187532  \n",
       "146     2  1.527167 -0.375317  \n",
       "147     2  1.764346  0.078859  \n",
       "148     2  1.900942  0.116628  \n",
       "149     2  1.390189 -0.282661  \n",
       "\n",
       "[150 rows x 7 columns]"
      ]
     },
     "execution_count": 17,
     "metadata": {},
     "output_type": "execute_result"
    }
   ],
   "source": [
    "frame = pd.DataFrame(iris['data'], columns=iris['feature_names'])\n",
    "frame['pred'] = pred\n",
    "frame['x'] = projected[:,0]\n",
    "frame['y'] = projected[:,1]\n",
    "frame"
   ]
  },
  {
   "cell_type": "code",
   "execution_count": 18,
   "id": "2bf04eb2-3331-4559-8a6a-270208b8be39",
   "metadata": {},
   "outputs": [
    {
     "data": {
      "text/plain": [
       "<matplotlib.collections.PathCollection at 0x741d6db56990>"
      ]
     },
     "execution_count": 18,
     "metadata": {},
     "output_type": "execute_result"
    },
    {
     "data": {
      "image/png": "[encoded data removed]",
      "text/plain": [
       "<Figure size 1200x600 with 2 Axes>"
      ]
     },
     "metadata": {},
     "output_type": "display_data"
    }
   ],
   "source": [
    "fig = plt.figure(figsize=(12,6))\n",
    "\n",
    "gs = fig.add_gridspec(2, hspace=0)\n",
    "axs = gs.subplots(sharex=True, sharey=True)\n",
    "\n",
    "axs[0].scatter(frame['x'], frame['y'], c=frame['pred'], cmap='jet')\n",
    "axs[1].scatter(frame['x'], frame['y'], c=iris['target'], cmap='jet')"
   ]
  },
  {
   "cell_type": "markdown",
   "id": "227bba4c-df86-495a-afeb-4b29e20f79c3",
   "metadata": {},
   "source": [
    "### Did it work?\n",
    "\n",
    "Visually inspecting the results does not give us a statistical handle on if the model worked. We must find a better way.\n",
    "\n",
    "#### Confusion matrices:\n"
   ]
  },
  {
   "cell_type": "code",
   "execution_count": 19,
   "id": "48abdbd1-c84a-4716-8c7a-300daa468db0",
   "metadata": {},
   "outputs": [
    {
     "data": {
      "text/plain": [
       "<sklearn.metrics._plot.confusion_matrix.ConfusionMatrixDisplay at 0x741d6fd25d30>"
      ]
     },
     "execution_count": 19,
     "metadata": {},
     "output_type": "execute_result"
    },
    {
     "data": {
      "image/png": "[encoded data removed]",
      "text/plain": [
       "<Figure size 640x480 with 2 Axes>"
      ]
     },
     "metadata": {},
     "output_type": "display_data"
    }
   ],
   "source": [
    "cm = confusion_matrix(iris['target'], frame['pred'])\n",
    "ConfusionMatrixDisplay(cm).plot()"
   ]
  },
  {
   "cell_type": "markdown",
   "id": "453d3968-f14b-40fa-a2ac-12bf2f980d00",
   "metadata": {},
   "source": [
    "# Unsupervised Learning\n",
    "\n",
    "In the unsupervised scheme we don't have input/output pairs, we just have data (input). So, we don't know what we are supposed to get from an input. But we have an *objective*: we want our data do something specific."
   ]
  },
  {
   "cell_type": "markdown",
   "id": "3223f2f0-94dd-4ff4-a9a4-299ecb169b90",
   "metadata": {},
   "source": [
    "## Our First Unsupervised Algorithm: K-Means\n",
    "\n",
    "K-Means is a partition-based clustering algorithm that seeks to divide a dataset into $ k $ clusters, minimizing the variance within each cluster.\n",
    "\n",
    "\n",
    "Given a dataset $ X = \\{ x_1, x_2, \\dots, x_n \\} $ where each $ x_i \\in \\mathbb{R}^d $, the goal is to partition the data into $ k $ disjoint clusters $ C_1, C_2, \\dots, C_k $, \n",
    "\n",
    "$$\n",
    "C\\colon X\\to \\{1,\\ldots,k\\}\n",
    "$$\n",
    "\n",
    "where $C_i = C^{-1}(i)$. We will represent each cluster by their centroids $ \\mu_1, \\mu_2, \\dots, \\mu_k $, \n",
    "\n",
    "$$\n",
    "\\mu_i = \\frac{1}{|C_i|} \\sum_{x\\in C_i} x \n",
    "$$\n",
    "\n",
    "such that the following objective function is minimized:\n",
    "\n",
    "$$\n",
    "J = \\sum_{i=1}^{k} \\sum_{x \\in C_i} \\| x - \\mu_i \\|^2\n",
    "$$\n",
    "\n",
    "This means each data point is assigned to the closest cluster center, and the sum of squared distances between points and their assigned centroids is minimized.\n",
    "\n",
    "\n",
    "### The Algorithm\n",
    "\n",
    "K-Means follows an **iterative refinement** approach:\n",
    "\n",
    "```\n",
    "Input: \n",
    "    - Dataset X with n data points {x_1, x_2, ..., x_n} in d-dimensional space\n",
    "    - Number of clusters k\n",
    "    - Maximum iterations max_iters\n",
    "    - Convergence threshold tol (optional)\n",
    "\n",
    "Output:\n",
    "    - Cluster assignments {c_1, c_2, ..., c_n}\n",
    "    - Centroids {μ_1, μ_2, ..., μ_k}\n",
    "\n",
    "Algorithm:\n",
    "1. Initialize k centroids randomly from the dataset.\n",
    "\n",
    "2. For each data point x_i:\n",
    "   - Compute the distance to each centroid μ_j\n",
    "   - Assign x_i to the nearest centroid:\n",
    "            c_i = argmin_j ||x_i - μ_j||^2\n",
    "\n",
    "3. For each cluster C_j compute the new centroid as the mean of assigned points.\n",
    "\n",
    "4. If ||μ_new - μ_old|| < tol for all j\n",
    "      Stop\n",
    "   Else\n",
    "      Go to Step 3\n",
    "\n",
    "5. Return the final cluster assignments and centroids.\n",
    "```\n",
    "\n",
    "### Convergence Analysis\n",
    "\n",
    "**Does K-Means converge?**  \n",
    "\n",
    "The objective function $ J $ decreases monotonically at each iteration.\n",
    "\n",
    "- In the assignment step (Step 2), each data point is assigned to the nearest centroid, reducing the squared distance $ \\| x - \\mu_j \\|^2 $.\n",
    "- In the update step (Step 3), recomputing centroids moves them to the mean of assigned points, which is the optimal update under squared Euclidean distance.\n",
    "- Since there is a finite number of possible cluster assignments, K-Means must converge in a finite number of steps.\n",
    "\n",
    "However, K-Means may converge to local minima, and its performance depends on initialization.\n"
   ]
  },
  {
   "cell_type": "code",
   "execution_count": 24,
   "id": "bc7910bf-9391-4c57-bf48-2c2ad95dbb01",
   "metadata": {},
   "outputs": [
    {
     "data": {
      "text/plain": [
       "array([0, 0, 0, 0, 0, 0, 0, 0, 0, 0, 0, 0, 0, 0, 0, 0, 0, 0, 0, 0, 0, 0,\n",
       "       0, 0, 0, 0, 0, 0, 0, 0, 0, 0, 0, 0, 0, 0, 0, 0, 0, 0, 0, 0, 0, 0,\n",
       "       0, 0, 0, 0, 0, 0, 1, 2, 1, 2, 2, 2, 2, 2, 2, 2, 2, 2, 2, 2, 2, 2,\n",
       "       2, 2, 2, 2, 2, 2, 2, 2, 2, 2, 2, 1, 2, 2, 2, 2, 2, 2, 2, 2, 2, 2,\n",
       "       2, 2, 2, 2, 2, 2, 2, 2, 2, 2, 2, 2, 1, 2, 1, 1, 1, 1, 2, 1, 1, 1,\n",
       "       1, 1, 1, 2, 2, 1, 1, 1, 1, 2, 1, 2, 1, 2, 1, 1, 2, 2, 1, 1, 1, 1,\n",
       "       1, 2, 1, 1, 1, 1, 2, 1, 1, 1, 2, 1, 1, 1, 2, 1, 1, 2], dtype=int32)"
      ]
     },
     "execution_count": 24,
     "metadata": {},
     "output_type": "execute_result"
    }
   ],
   "source": [
    "model = KMeans(n_clusters=3)\n",
    "pred = model.fit_predict(iris['data'])\n",
    "pred"
   ]
  },
  {
   "cell_type": "code",
   "execution_count": 25,
   "id": "2326f07a-55e0-45ba-ae33-7dc7e17ceced",
   "metadata": {},
   "outputs": [
    {
     "data": {
      "text/html": [
       "<div>\n",
       "<style scoped>\n",
       "    .dataframe tbody tr th:only-of-type {\n",
       "        vertical-align: middle;\n",
       "    }\n",
       "\n",
       "    .dataframe tbody tr th {\n",
       "        vertical-align: top;\n",
       "    }\n",
       "\n",
       "    .dataframe thead th {\n",
       "        text-align: right;\n",
       "    }\n",
       "</style>\n",
       "<table border=\"1\" class=\"dataframe\">\n",
       "  <thead>\n",
       "    <tr style=\"text-align: right;\">\n",
       "      <th></th>\n",
       "      <th>sepal length (cm)</th>\n",
       "      <th>sepal width (cm)</th>\n",
       "      <th>petal length (cm)</th>\n",
       "      <th>petal width (cm)</th>\n",
       "      <th>pred</th>\n",
       "      <th>x</th>\n",
       "      <th>y</th>\n",
       "    </tr>\n",
       "  </thead>\n",
       "  <tbody>\n",
       "    <tr>\n",
       "      <th>0</th>\n",
       "      <td>5.1</td>\n",
       "      <td>3.5</td>\n",
       "      <td>1.4</td>\n",
       "      <td>0.2</td>\n",
       "      <td>0</td>\n",
       "      <td>-2.684126</td>\n",
       "      <td>0.319397</td>\n",
       "    </tr>\n",
       "    <tr>\n",
       "      <th>1</th>\n",
       "      <td>4.9</td>\n",
       "      <td>3.0</td>\n",
       "      <td>1.4</td>\n",
       "      <td>0.2</td>\n",
       "      <td>0</td>\n",
       "      <td>-2.714142</td>\n",
       "      <td>-0.177001</td>\n",
       "    </tr>\n",
       "    <tr>\n",
       "      <th>2</th>\n",
       "      <td>4.7</td>\n",
       "      <td>3.2</td>\n",
       "      <td>1.3</td>\n",
       "      <td>0.2</td>\n",
       "      <td>0</td>\n",
       "      <td>-2.888991</td>\n",
       "      <td>-0.144949</td>\n",
       "    </tr>\n",
       "    <tr>\n",
       "      <th>3</th>\n",
       "      <td>4.6</td>\n",
       "      <td>3.1</td>\n",
       "      <td>1.5</td>\n",
       "      <td>0.2</td>\n",
       "      <td>0</td>\n",
       "      <td>-2.745343</td>\n",
       "      <td>-0.318299</td>\n",
       "    </tr>\n",
       "    <tr>\n",
       "      <th>4</th>\n",
       "      <td>5.0</td>\n",
       "      <td>3.6</td>\n",
       "      <td>1.4</td>\n",
       "      <td>0.2</td>\n",
       "      <td>0</td>\n",
       "      <td>-2.728717</td>\n",
       "      <td>0.326755</td>\n",
       "    </tr>\n",
       "    <tr>\n",
       "      <th>...</th>\n",
       "      <td>...</td>\n",
       "      <td>...</td>\n",
       "      <td>...</td>\n",
       "      <td>...</td>\n",
       "      <td>...</td>\n",
       "      <td>...</td>\n",
       "      <td>...</td>\n",
       "    </tr>\n",
       "    <tr>\n",
       "      <th>145</th>\n",
       "      <td>6.7</td>\n",
       "      <td>3.0</td>\n",
       "      <td>5.2</td>\n",
       "      <td>2.3</td>\n",
       "      <td>1</td>\n",
       "      <td>1.944110</td>\n",
       "      <td>0.187532</td>\n",
       "    </tr>\n",
       "    <tr>\n",
       "      <th>146</th>\n",
       "      <td>6.3</td>\n",
       "      <td>2.5</td>\n",
       "      <td>5.0</td>\n",
       "      <td>1.9</td>\n",
       "      <td>2</td>\n",
       "      <td>1.527167</td>\n",
       "      <td>-0.375317</td>\n",
       "    </tr>\n",
       "    <tr>\n",
       "      <th>147</th>\n",
       "      <td>6.5</td>\n",
       "      <td>3.0</td>\n",
       "      <td>5.2</td>\n",
       "      <td>2.0</td>\n",
       "      <td>1</td>\n",
       "      <td>1.764346</td>\n",
       "      <td>0.078859</td>\n",
       "    </tr>\n",
       "    <tr>\n",
       "      <th>148</th>\n",
       "      <td>6.2</td>\n",
       "      <td>3.4</td>\n",
       "      <td>5.4</td>\n",
       "      <td>2.3</td>\n",
       "      <td>1</td>\n",
       "      <td>1.900942</td>\n",
       "      <td>0.116628</td>\n",
       "    </tr>\n",
       "    <tr>\n",
       "      <th>149</th>\n",
       "      <td>5.9</td>\n",
       "      <td>3.0</td>\n",
       "      <td>5.1</td>\n",
       "      <td>1.8</td>\n",
       "      <td>2</td>\n",
       "      <td>1.390189</td>\n",
       "      <td>-0.282661</td>\n",
       "    </tr>\n",
       "  </tbody>\n",
       "</table>\n",
       "<p>150 rows × 7 columns</p>\n",
       "</div>"
      ],
      "text/plain": [
       "     sepal length (cm)  sepal width (cm)  petal length (cm)  petal width (cm)  \\\n",
       "0                  5.1               3.5                1.4               0.2   \n",
       "1                  4.9               3.0                1.4               0.2   \n",
       "2                  4.7               3.2                1.3               0.2   \n",
       "3                  4.6               3.1                1.5               0.2   \n",
       "4                  5.0               3.6                1.4               0.2   \n",
       "..                 ...               ...                ...               ...   \n",
       "145                6.7               3.0                5.2               2.3   \n",
       "146                6.3               2.5                5.0               1.9   \n",
       "147                6.5               3.0                5.2               2.0   \n",
       "148                6.2               3.4                5.4               2.3   \n",
       "149                5.9               3.0                5.1               1.8   \n",
       "\n",
       "     pred         x         y  \n",
       "0       0 -2.684126  0.319397  \n",
       "1       0 -2.714142 -0.177001  \n",
       "2       0 -2.888991 -0.144949  \n",
       "3       0 -2.745343 -0.318299  \n",
       "4       0 -2.728717  0.326755  \n",
       "..    ...       ...       ...  \n",
       "145     1  1.944110  0.187532  \n",
       "146     2  1.527167 -0.375317  \n",
       "147     1  1.764346  0.078859  \n",
       "148     1  1.900942  0.116628  \n",
       "149     2  1.390189 -0.282661  \n",
       "\n",
       "[150 rows x 7 columns]"
      ]
     },
     "execution_count": 25,
     "metadata": {},
     "output_type": "execute_result"
    }
   ],
   "source": [
    "frame = pd.DataFrame(iris['data'], columns=iris['feature_names'])\n",
    "frame['pred'] = pred\n",
    "frame['x'] = projected[:,0]\n",
    "frame['y'] = projected[:,1]\n",
    "frame"
   ]
  },
  {
   "cell_type": "code",
   "execution_count": 26,
   "id": "a8105a66-bb6c-4bb2-b6b6-38c01d11d4be",
   "metadata": {},
   "outputs": [
    {
     "data": {
      "text/plain": [
       "<matplotlib.collections.PathCollection at 0x741d6c1182d0>"
      ]
     },
     "execution_count": 26,
     "metadata": {},
     "output_type": "execute_result"
    },
    {
     "data": {
      "image/png": "[encoded data removed]",
      "text/plain": [
       "<Figure size 1200x600 with 2 Axes>"
      ]
     },
     "metadata": {},
     "output_type": "display_data"
    }
   ],
   "source": [
    "fig = plt.figure(figsize=(12,6))\n",
    "\n",
    "gs = fig.add_gridspec(2, hspace=0)\n",
    "axs = gs.subplots(sharex=True, sharey=True)\n",
    "\n",
    "axs[0].scatter(frame['x'], frame['y'], c=frame['pred'], cmap='jet')\n",
    "axs[1].scatter(frame['x'], frame['y'], c=iris['target'], cmap='jet')"
   ]
  },
  {
   "cell_type": "code",
   "execution_count": 28,
   "id": "c56bb92f-8cfe-4286-b67c-2668d8f6e89e",
   "metadata": {},
   "outputs": [
    {
     "data": {
      "text/plain": [
       "<sklearn.metrics._plot.confusion_matrix.ConfusionMatrixDisplay at 0x741d63c5b4d0>"
      ]
     },
     "execution_count": 28,
     "metadata": {},
     "output_type": "execute_result"
    },
    {
     "data": {
      "image/png": "[encoded data removed]",
      "text/plain": [
       "<Figure size 640x480 with 2 Axes>"
      ]
     },
     "metadata": {},
     "output_type": "display_data"
    }
   ],
   "source": [
    "cm = confusion_matrix(iris['target'],frame['pred'])\n",
    "ConfusionMatrixDisplay(cm).plot()"
   ]
  },
  {
   "cell_type": "markdown",
   "id": "3407fb9d-c494-42cf-a78b-0c415db2df88",
   "metadata": {},
   "source": [
    "## Statistic, Tests, Confidence Intervals\n",
    "\n",
    "Data Science is an experimental science. Like every experimental sciences, it relies on making experiments and observe the results. And like every other experimental science, the experiments are never deterministic: the results always have an indeterminacy baked into them. In other words, the results you observe are **random variables**. We will use statistics to understand and control this randomness\n",
    "\n",
    "### Law of Large Numbers\n",
    "\n",
    "Recall that a (continuous) random variable $X$ is defined by a probability density function (PDF) defined on $\\mathbb{R}$.\n",
    "$$ p\\colon \\mathbb{R}\\to [0,\\infty) \\quad\\text{ and }\\quad \\int_{-\\infty}^{\\infty} p(x)dx = 1 $$\n",
    "\n",
    "We will never have access to the PDF. Only thing we can do is to repeat the experiment and make a finite sample of measurements. \n",
    "\n",
    "$$ X_1,\\ldots,X_N \\quad \\text{ where } X_i \\sim p(x) $$\n",
    "\n",
    "Our measurements is done via a function $f(x)$ and we will be interested in \n",
    "\n",
    "$$ \\mathbb{E}(f(x)) = \\int_{-\\infty}^\\infty f(x) p(x) dx $$\n",
    "\n",
    "At this point Law of Large Numbers come in: If the size of the sample is large enough, the average of $f(X_i)$'s approximate the expected value of $f(X)$. In other words,\n",
    "\n",
    "$$ \\mathbb{E}(f(X)) \\approx \\frac{1}{N} \\left( f(X_1) + \\cdots + f(X_N) \\right) $$\n",
    "\n",
    "### Central Limit Theorem\n",
    "\n",
    "OK. We can approximate the expected value. But how sure are we going to be that this number is correct. This is where the Central Limit Theorem comes in:\n",
    "\n",
    "The sample average $\\overline{f(X)}$ is a Gaussian random variable with mean $\\mathbb{E}(f(X))$ and variance ${\\rm Var}(X)/N$.\n",
    "\n",
    "### An Example\n",
    "\n",
    "Assume you are working for a financial institution. Specifically, you'll be working in the [factoring department](https://en.wikipedia.org/wiki/Factoring_(finance)). Your job is to develop a model for distinguishing customers as *acceptible* or *non-acceptable*. Assume you can test your model on past data and calculate its accuracy. Assume you repeated the experiment on different datasets and calculated the accuracy as\n"
   ]
  },
  {
   "cell_type": "code",
   "execution_count": 9,
   "id": "f51a5168-e43b-43ba-a54f-42add1a6dc29",
   "metadata": {},
   "outputs": [
    {
     "data": {
      "text/plain": [
       "(7, np.float64(83.28571428571429), np.float64(7.931252228038263))"
      ]
     },
     "execution_count": 9,
     "metadata": {},
     "output_type": "execute_result"
    }
   ],
   "source": [
    "accuracy = np.array([80, 75, 91, 85, 72, 93, 87])\n",
    "N = len(accuracy)\n",
    "mean = accuracy.mean()\n",
    "var = np.var(accuracy, ddof=1)  \n",
    "dev = np.sqrt(var)\n",
    "N, mean, dev"
   ]
  },
  {
   "cell_type": "markdown",
   "id": "0693ea27-1323-4883-b7d5-8694efbe199c",
   "metadata": {},
   "source": [
    "Using the Central Limit Theorem, we can determine that with 95% certainity that the accuracy is 83.3% plus/minus the error:"
   ]
  },
  {
   "cell_type": "code",
   "execution_count": 10,
   "id": "a59e59a5-2616-4e77-95c0-2c4666578820",
   "metadata": {},
   "outputs": [
    {
     "data": {
      "text/plain": [
       "np.float64(5.875445909919292)"
      ]
     },
     "execution_count": 10,
     "metadata": {},
     "output_type": "execute_result"
    }
   ],
   "source": [
    "st_err = dev / np.sqrt(N)\n",
    "z_score = stats.norm.ppf(0.975)\n",
    "\n",
    "margin = z_score * st_err\n",
    "margin"
   ]
  },
  {
   "cell_type": "markdown",
   "id": "b42c86c2-fbf5-402b-a2de-6310e25a6e5e",
   "metadata": {},
   "source": [
    "But, here is the problem: $N=7$ is not large enough and we don't know the real variance of the population. So, instead of the normal distribution we must use the $t$-distribution with $N-1=6$ degrees of freedom:"
   ]
  },
  {
   "cell_type": "code",
   "execution_count": 11,
   "id": "8ef5b2d1-f3d5-45e3-839a-96c4c5e9293f",
   "metadata": {},
   "outputs": [
    {
     "data": {
      "text/plain": [
       "np.float64(7.335184901939176)"
      ]
     },
     "execution_count": 11,
     "metadata": {},
     "output_type": "execute_result"
    }
   ],
   "source": [
    "df = N - 1\n",
    "t_score = stats.t.ppf((1 + 0.95) / 2, df)\n",
    "\n",
    "margin = t_score * st_err\n",
    "margin"
   ]
  },
  {
   "cell_type": "markdown",
   "id": "5703ed8e-a9f0-4a34-85b3-884c15bb253c",
   "metadata": {},
   "source": [
    "So model is 83.3% accurate with an error of $\\pm$ 7.3%.\n",
    "\n",
    "### Unpaired t-tests\n",
    "\n",
    "OK. Let us assume you redesigned the model and performed another bunch of tests to observe:"
   ]
  },
  {
   "cell_type": "code",
   "execution_count": 12,
   "id": "df61ffe0-0f04-487c-acae-acb62ab0526e",
   "metadata": {},
   "outputs": [
    {
     "data": {
      "text/plain": [
       "(6, np.float64(87.0), np.float64(3.3466401061363023))"
      ]
     },
     "execution_count": 12,
     "metadata": {},
     "output_type": "execute_result"
    }
   ],
   "source": [
    "accuracy = np.array([80, 75, 91, 85, 72, 93, 87])\n",
    "new_accuracy = np.array([90, 88, 85, 82, 91, 86])\n",
    "N = len(new_accuracy)\n",
    "mean = new_accuracy.mean()\n",
    "var = np.var(new_accuracy, ddof=1)  \n",
    "dev = np.sqrt(var)\n",
    "N, mean, dev"
   ]
  },
  {
   "cell_type": "code",
   "execution_count": 6,
   "id": "b348b62c-31fd-4adb-8b96-978783b2ad3c",
   "metadata": {},
   "outputs": [
    {
     "data": {
      "text/plain": [
       "np.float64(7.335184901939176)"
      ]
     },
     "execution_count": 6,
     "metadata": {},
     "output_type": "execute_result"
    }
   ],
   "source": [
    "t_score = stats.t.ppf((1 + 0.95) / 2, df)\n",
    "\n",
    "margin = t_score * st_err\n",
    "margin"
   ]
  },
  {
   "cell_type": "markdown",
   "id": "6edfc425-ab34-45d3-85d8-1680734e2f5e",
   "metadata": {},
   "source": [
    "Is there a difference between earlier results and this one?"
   ]
  },
  {
   "cell_type": "code",
   "execution_count": 7,
   "id": "c49eebe7-0388-4bb3-a987-37ef53f1c4e1",
   "metadata": {},
   "outputs": [
    {
     "data": {
      "text/plain": [
       "TtestResult(statistic=np.float64(-1.0635694431715539), pvalue=np.float64(0.31031468529809153), df=np.float64(11.0))"
      ]
     },
     "execution_count": 7,
     "metadata": {},
     "output_type": "execute_result"
    }
   ],
   "source": [
    "stats.ttest_ind(accuracy, new_accuracy)"
   ]
  },
  {
   "cell_type": "markdown",
   "id": "8ffa0464-2904-41f2-8140-c8b95127c258",
   "metadata": {},
   "source": [
    "### Paired t-test\n",
    "\n",
    "We use t-test to see if there is a difference between averages of samples. If we take the samples from the same processes, we can compare them invidually and see if the averages differ.\n",
    "\n",
    "Assume we give a credit scores to each of our customers. We have two different models and the scores are\n"
   ]
  },
  {
   "cell_type": "code",
   "execution_count": 8,
   "id": "e7a3ebd8-3572-42cc-b959-3a9caf97dff4",
   "metadata": {},
   "outputs": [
    {
     "data": {
      "text/plain": [
       "TtestResult(statistic=np.float64(-2.5632665666031627), pvalue=np.float64(0.042720388461096916), df=np.int64(6))"
      ]
     },
     "execution_count": 8,
     "metadata": {},
     "output_type": "execute_result"
    }
   ],
   "source": [
    "scores1 = [90, 66, 99, 10, 40, 80, 90]\n",
    "scores2 = [98, 65, 98, 32, 45, 99, 99]\n",
    "stats.ttest_rel(scores1,scores2)"
   ]
  },
  {
   "cell_type": "code",
   "execution_count": null,
   "id": "07117091-e8d3-4196-a1f6-f8aa330db271",
   "metadata": {},
   "outputs": [],
   "source": []
  }
 ],
 "metadata": {
  "kernelspec": {
   "display_name": "Python 3 (ipykernel)",
   "language": "python",
   "name": "python3"
  },
  "language_info": {
   "codemirror_mode": {
    "name": "ipython",
    "version": 3
   },
   "file_extension": ".py",
   "mimetype": "text/x-python",
   "name": "python",
   "nbconvert_exporter": "python",
   "pygments_lexer": "ipython3",
   "version": "3.13.3"
  }
 },
 "nbformat": 4,
 "nbformat_minor": 5
}
